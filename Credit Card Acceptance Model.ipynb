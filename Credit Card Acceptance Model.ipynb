{
 "cells": [
  {
   "cell_type": "markdown",
   "metadata": {},
   "source": [
    "# Credit Card Application Acceptance Model"
   ]
  },
  {
   "cell_type": "code",
   "execution_count": 1,
   "metadata": {},
   "outputs": [],
   "source": [
    "# Importing pyspark libraries\n",
    "import os\n",
    "import sys\n",
    "os.environ[\"PYSPARK_PYTHON\"] = \"/home/ec2-user/spark-2.4.4-bin-hadoop2.7/python\"\n",
    "os.environ[\"JAVA_HOME\"] = \"/usr/java/jdk1.8.0_161/jre\"\n",
    "os.environ[\"SPARK_HOME\"] = \"/home/ec2-user/spark-2.4.4-bin-hadoop2.7\"\n",
    "os.environ[\"PYLIB\"] = os.environ[\"SPARK_HOME\"] + \"/python/lib\"\n",
    "sys.path.insert(0, os.environ[\"PYLIB\"] + \"/py4j-0.10.7-src.zip\")\n",
    "sys.path.insert(0, os.environ[\"PYLIB\"] + \"/pyspark.zip\")"
   ]
  },
  {
   "cell_type": "code",
   "execution_count": 2,
   "metadata": {},
   "outputs": [],
   "source": [
    "import pandas as pd\n",
    "import numpy as np\n",
    "import seaborn as sns\n",
    "import matplotlib.pyplot as plt\n",
    "%matplotlib inline\n",
    "from pyspark.sql.functions import *\n",
    "import warnings\n",
    "warnings.filterwarnings(\"ignore\")"
   ]
  },
  {
   "cell_type": "code",
   "execution_count": 3,
   "metadata": {},
   "outputs": [],
   "source": [
    "# Starting a spark application\n",
    "from pyspark import SparkContext\n",
    "from pyspark.sql import SQLContext\n",
    "\n",
    "sc = SparkContext()\n",
    "sqlContext = SQLContext(sc)"
   ]
  },
  {
   "cell_type": "code",
   "execution_count": 4,
   "metadata": {},
   "outputs": [
    {
     "name": "stdout",
     "output_type": "stream",
     "text": [
      "root\n",
      " |-- ID: integer (nullable = true)\n",
      " |-- MONTHS_BALANCE: integer (nullable = true)\n",
      " |-- STATUS: string (nullable = true)\n",
      "\n"
     ]
    }
   ],
   "source": [
    "# Read the credit records \n",
    "df_c = sqlContext.read.csv('credit_record.csv', header=True, inferSchema=True)\n",
    "df_c.printSchema()"
   ]
  },
  {
   "cell_type": "code",
   "execution_count": 5,
   "metadata": {},
   "outputs": [
    {
     "name": "stdout",
     "output_type": "stream",
     "text": [
      "root\n",
      " |-- ID: integer (nullable = true)\n",
      " |-- CODE_GENDER: string (nullable = true)\n",
      " |-- FLAG_OWN_CAR: string (nullable = true)\n",
      " |-- FLAG_OWN_REALTY: string (nullable = true)\n",
      " |-- CNT_CHILDREN: integer (nullable = true)\n",
      " |-- AMT_INCOME_TOTAL: double (nullable = true)\n",
      " |-- NAME_INCOME_TYPE: string (nullable = true)\n",
      " |-- NAME_EDUCATION_TYPE: string (nullable = true)\n",
      " |-- NAME_FAMILY_STATUS: string (nullable = true)\n",
      " |-- NAME_HOUSING_TYPE: string (nullable = true)\n",
      " |-- DAYS_BIRTH: integer (nullable = true)\n",
      " |-- DAYS_EMPLOYED: integer (nullable = true)\n",
      " |-- FLAG_MOBIL: integer (nullable = true)\n",
      " |-- FLAG_WORK_PHONE: integer (nullable = true)\n",
      " |-- FLAG_PHONE: integer (nullable = true)\n",
      " |-- FLAG_EMAIL: integer (nullable = true)\n",
      " |-- OCCUPATION_TYPE: string (nullable = true)\n",
      " |-- CNT_FAM_MEMBERS: double (nullable = true)\n",
      "\n"
     ]
    }
   ],
   "source": [
    "# Read the application records\n",
    "df_r = sqlContext.read.csv('application_record.csv', header=True, inferSchema=True)\n",
    "df_r.printSchema()"
   ]
  },
  {
   "cell_type": "markdown",
   "metadata": {},
   "source": [
    "## EDA (Exploratory Data Analysis)"
   ]
  },
  {
   "cell_type": "code",
   "execution_count": 6,
   "metadata": {},
   "outputs": [
    {
     "data": {
      "text/plain": [
       "1048575"
      ]
     },
     "execution_count": 6,
     "metadata": {},
     "output_type": "execute_result"
    }
   ],
   "source": [
    "df_c.count()"
   ]
  },
  {
   "cell_type": "code",
   "execution_count": 7,
   "metadata": {},
   "outputs": [
    {
     "data": {
      "text/plain": [
       "438557"
      ]
     },
     "execution_count": 7,
     "metadata": {},
     "output_type": "execute_result"
    }
   ],
   "source": [
    "df_r.count()"
   ]
  },
  {
   "cell_type": "code",
   "execution_count": 8,
   "metadata": {},
   "outputs": [
    {
     "name": "stdout",
     "output_type": "stream",
     "text": [
      "+-------+------------------+-------------------+-------------------+\n",
      "|summary|                ID|     MONTHS_BALANCE|             STATUS|\n",
      "+-------+------------------+-------------------+-------------------+\n",
      "|  count|           1048575|            1048575|            1048575|\n",
      "|   mean| 5068286.424673486|-19.136998307226474|0.05824863961501482|\n",
      "| stddev|46150.578505349535| 14.023497688326477| 0.3949878642052491|\n",
      "|    min|           5001711|                -60|                  0|\n",
      "|    max|           5150487|                  0|                  X|\n",
      "+-------+------------------+-------------------+-------------------+\n",
      "\n"
     ]
    }
   ],
   "source": [
    "# Summary statistics of credit records\n",
    "df_c.describe().show()"
   ]
  },
  {
   "cell_type": "code",
   "execution_count": 9,
   "metadata": {},
   "outputs": [
    {
     "name": "stdout",
     "output_type": "stream",
     "text": [
      "+-------+-----------------+-----------+------------+---------------+-------------------+------------------+--------------------+--------------------+------------------+-----------------+-------------------+-----------------+----------+------------------+-------------------+-------------------+--------------------+-----------------+\n",
      "|summary|               ID|CODE_GENDER|FLAG_OWN_CAR|FLAG_OWN_REALTY|       CNT_CHILDREN|  AMT_INCOME_TOTAL|    NAME_INCOME_TYPE| NAME_EDUCATION_TYPE|NAME_FAMILY_STATUS|NAME_HOUSING_TYPE|         DAYS_BIRTH|    DAYS_EMPLOYED|FLAG_MOBIL|   FLAG_WORK_PHONE|         FLAG_PHONE|         FLAG_EMAIL|     OCCUPATION_TYPE|  CNT_FAM_MEMBERS|\n",
      "+-------+-----------------+-----------+------------+---------------+-------------------+------------------+--------------------+--------------------+------------------+-----------------+-------------------+-----------------+----------+------------------+-------------------+-------------------+--------------------+-----------------+\n",
      "|  count|           438557|     438557|      438557|         438557|             438557|            438557|              438557|              438557|            438557|           438557|             438557|           438557|    438557|            438557|             438557|             438557|              304354|           438557|\n",
      "|   mean|6022176.269841776|       null|        null|           null|0.42739028222101116| 187524.2860095039|                null|                null|              null|             null|-15997.904648654565|60563.67532840657|       1.0|0.2061328402009317|0.28777103090362255|0.10820714297115312|                null|2.194465029631268|\n",
      "| stddev|571637.0232571006|       null|        null|           null|  0.724882213552146|110086.85306622987|                null|                null|              null|             null|  4185.030006794112|138767.7996466682|       0.0|0.4045274595500885|  0.452724344414615| 0.3106422012826674|                null|0.897207330056299|\n",
      "|    min|          5008804|          F|           N|              N|                  0|           26100.0|Commercial associate|     Academic degree|    Civil marriage|  Co-op apartment|             -25201|           -17531|         1|                 0|                  0|                  0|         Accountants|              1.0|\n",
      "|    max|          7999952|          M|           Y|              Y|                 19|         6750000.0|             Working|Secondary / secon...|             Widow|     With parents|              -7489|           365243|         1|                 1|                  1|                  1|Waiters/barmen staff|             20.0|\n",
      "+-------+-----------------+-----------+------------+---------------+-------------------+------------------+--------------------+--------------------+------------------+-----------------+-------------------+-----------------+----------+------------------+-------------------+-------------------+--------------------+-----------------+\n",
      "\n"
     ]
    }
   ],
   "source": [
    "# Summary statistics of application records\n",
    "df_r.describe().show()"
   ]
  },
  {
   "cell_type": "code",
   "execution_count": 10,
   "metadata": {},
   "outputs": [
    {
     "name": "stdout",
     "output_type": "stream",
     "text": [
      "+-------+--------------+------+\n",
      "|     ID|MONTHS_BALANCE|STATUS|\n",
      "+-------+--------------+------+\n",
      "|5001711|             0|     X|\n",
      "|5001711|            -1|     0|\n",
      "|5001711|            -2|     0|\n",
      "|5001711|            -3|     0|\n",
      "|5001712|             0|     C|\n",
      "|5001712|            -1|     C|\n",
      "|5001712|            -2|     C|\n",
      "|5001712|            -3|     C|\n",
      "|5001712|            -4|     C|\n",
      "|5001712|            -5|     C|\n",
      "|5001712|            -6|     C|\n",
      "|5001712|            -7|     C|\n",
      "|5001712|            -8|     C|\n",
      "|5001712|            -9|     0|\n",
      "|5001712|           -10|     0|\n",
      "|5001712|           -11|     0|\n",
      "|5001712|           -12|     0|\n",
      "|5001712|           -13|     0|\n",
      "|5001712|           -14|     0|\n",
      "|5001712|           -15|     0|\n",
      "+-------+--------------+------+\n",
      "only showing top 20 rows\n",
      "\n"
     ]
    }
   ],
   "source": [
    "df_c.show()"
   ]
  },
  {
   "cell_type": "code",
   "execution_count": 11,
   "metadata": {
    "scrolled": true
   },
   "outputs": [
    {
     "name": "stdout",
     "output_type": "stream",
     "text": [
      "+-------+-----------+------------+---------------+------------+----------------+--------------------+--------------------+--------------------+-----------------+----------+-------------+----------+---------------+----------+----------+---------------+---------------+\n",
      "|     ID|CODE_GENDER|FLAG_OWN_CAR|FLAG_OWN_REALTY|CNT_CHILDREN|AMT_INCOME_TOTAL|    NAME_INCOME_TYPE| NAME_EDUCATION_TYPE|  NAME_FAMILY_STATUS|NAME_HOUSING_TYPE|DAYS_BIRTH|DAYS_EMPLOYED|FLAG_MOBIL|FLAG_WORK_PHONE|FLAG_PHONE|FLAG_EMAIL|OCCUPATION_TYPE|CNT_FAM_MEMBERS|\n",
      "+-------+-----------+------------+---------------+------------+----------------+--------------------+--------------------+--------------------+-----------------+----------+-------------+----------+---------------+----------+----------+---------------+---------------+\n",
      "|5008804|          M|           Y|              Y|           0|        427500.0|             Working|    Higher education|      Civil marriage| Rented apartment|    -12005|        -4542|         1|              1|         0|         0|           null|            2.0|\n",
      "|5008805|          M|           Y|              Y|           0|        427500.0|             Working|    Higher education|      Civil marriage| Rented apartment|    -12005|        -4542|         1|              1|         0|         0|           null|            2.0|\n",
      "|5008806|          M|           Y|              Y|           0|        112500.0|             Working|Secondary / secon...|             Married|House / apartment|    -21474|        -1134|         1|              0|         0|         0| Security staff|            2.0|\n",
      "|5008808|          F|           N|              Y|           0|        270000.0|Commercial associate|Secondary / secon...|Single / not married|House / apartment|    -19110|        -3051|         1|              0|         1|         1|    Sales staff|            1.0|\n",
      "|5008809|          F|           N|              Y|           0|        270000.0|Commercial associate|Secondary / secon...|Single / not married|House / apartment|    -19110|        -3051|         1|              0|         1|         1|    Sales staff|            1.0|\n",
      "|5008810|          F|           N|              Y|           0|        270000.0|Commercial associate|Secondary / secon...|Single / not married|House / apartment|    -19110|        -3051|         1|              0|         1|         1|    Sales staff|            1.0|\n",
      "|5008811|          F|           N|              Y|           0|        270000.0|Commercial associate|Secondary / secon...|Single / not married|House / apartment|    -19110|        -3051|         1|              0|         1|         1|    Sales staff|            1.0|\n",
      "|5008812|          F|           N|              Y|           0|        283500.0|           Pensioner|    Higher education|           Separated|House / apartment|    -22464|       365243|         1|              0|         0|         0|           null|            1.0|\n",
      "|5008813|          F|           N|              Y|           0|        283500.0|           Pensioner|    Higher education|           Separated|House / apartment|    -22464|       365243|         1|              0|         0|         0|           null|            1.0|\n",
      "|5008814|          F|           N|              Y|           0|        283500.0|           Pensioner|    Higher education|           Separated|House / apartment|    -22464|       365243|         1|              0|         0|         0|           null|            1.0|\n",
      "|5008815|          M|           Y|              Y|           0|        270000.0|             Working|    Higher education|             Married|House / apartment|    -16872|         -769|         1|              1|         1|         1|    Accountants|            2.0|\n",
      "|5112956|          M|           Y|              Y|           0|        270000.0|             Working|    Higher education|             Married|House / apartment|    -16872|         -769|         1|              1|         1|         1|    Accountants|            2.0|\n",
      "|6153651|          M|           Y|              Y|           0|        270000.0|             Working|    Higher education|             Married|House / apartment|    -16872|         -769|         1|              1|         1|         1|    Accountants|            2.0|\n",
      "|5008819|          M|           Y|              Y|           0|        135000.0|Commercial associate|Secondary / secon...|             Married|House / apartment|    -17778|        -1194|         1|              0|         0|         0|       Laborers|            2.0|\n",
      "|5008820|          M|           Y|              Y|           0|        135000.0|Commercial associate|Secondary / secon...|             Married|House / apartment|    -17778|        -1194|         1|              0|         0|         0|       Laborers|            2.0|\n",
      "|5008821|          M|           Y|              Y|           0|        135000.0|Commercial associate|Secondary / secon...|             Married|House / apartment|    -17778|        -1194|         1|              0|         0|         0|       Laborers|            2.0|\n",
      "|5008822|          M|           Y|              Y|           0|        135000.0|Commercial associate|Secondary / secon...|             Married|House / apartment|    -17778|        -1194|         1|              0|         0|         0|       Laborers|            2.0|\n",
      "|5008823|          M|           Y|              Y|           0|        135000.0|Commercial associate|Secondary / secon...|             Married|House / apartment|    -17778|        -1194|         1|              0|         0|         0|       Laborers|            2.0|\n",
      "|5008824|          M|           Y|              Y|           0|        135000.0|Commercial associate|Secondary / secon...|             Married|House / apartment|    -17778|        -1194|         1|              0|         0|         0|       Laborers|            2.0|\n",
      "|5008825|          F|           Y|              N|           0|        130500.0|             Working|   Incomplete higher|             Married|House / apartment|    -10669|        -1103|         1|              0|         0|         0|    Accountants|            2.0|\n",
      "+-------+-----------+------------+---------------+------------+----------------+--------------------+--------------------+--------------------+-----------------+----------+-------------+----------+---------------+----------+----------+---------------+---------------+\n",
      "only showing top 20 rows\n",
      "\n"
     ]
    }
   ],
   "source": [
    "df_r.show()"
   ]
  },
  {
   "cell_type": "code",
   "execution_count": 12,
   "metadata": {
    "scrolled": true
   },
   "outputs": [
    {
     "name": "stdout",
     "output_type": "stream",
     "text": [
      "+-------+--------------+------+-----------+------------+---------------+------------+----------------+----------------+--------------------+------------------+-----------------+----------+-------------+----------+---------------+----------+----------+---------------+---------------+\n",
      "|     ID|MONTHS_BALANCE|STATUS|CODE_GENDER|FLAG_OWN_CAR|FLAG_OWN_REALTY|CNT_CHILDREN|AMT_INCOME_TOTAL|NAME_INCOME_TYPE| NAME_EDUCATION_TYPE|NAME_FAMILY_STATUS|NAME_HOUSING_TYPE|DAYS_BIRTH|DAYS_EMPLOYED|FLAG_MOBIL|FLAG_WORK_PHONE|FLAG_PHONE|FLAG_EMAIL|OCCUPATION_TYPE|CNT_FAM_MEMBERS|\n",
      "+-------+--------------+------+-----------+------------+---------------+------------+----------------+----------------+--------------------+------------------+-----------------+----------+-------------+----------+---------------+----------+----------+---------------+---------------+\n",
      "|5009033|             0|     X|          F|           N|              N|           0|        255150.0|       Pensioner|   Incomplete higher|    Civil marriage| Rented apartment|    -18682|       365243|         1|              0|         0|         0|           null|            2.0|\n",
      "|5009033|            -1|     X|          F|           N|              N|           0|        255150.0|       Pensioner|   Incomplete higher|    Civil marriage| Rented apartment|    -18682|       365243|         1|              0|         0|         0|           null|            2.0|\n",
      "|5009033|            -2|     X|          F|           N|              N|           0|        255150.0|       Pensioner|   Incomplete higher|    Civil marriage| Rented apartment|    -18682|       365243|         1|              0|         0|         0|           null|            2.0|\n",
      "|5009033|            -3|     X|          F|           N|              N|           0|        255150.0|       Pensioner|   Incomplete higher|    Civil marriage| Rented apartment|    -18682|       365243|         1|              0|         0|         0|           null|            2.0|\n",
      "|5009033|            -4|     X|          F|           N|              N|           0|        255150.0|       Pensioner|   Incomplete higher|    Civil marriage| Rented apartment|    -18682|       365243|         1|              0|         0|         0|           null|            2.0|\n",
      "|5009033|            -5|     X|          F|           N|              N|           0|        255150.0|       Pensioner|   Incomplete higher|    Civil marriage| Rented apartment|    -18682|       365243|         1|              0|         0|         0|           null|            2.0|\n",
      "|5009033|            -6|     X|          F|           N|              N|           0|        255150.0|       Pensioner|   Incomplete higher|    Civil marriage| Rented apartment|    -18682|       365243|         1|              0|         0|         0|           null|            2.0|\n",
      "|5009033|            -7|     X|          F|           N|              N|           0|        255150.0|       Pensioner|   Incomplete higher|    Civil marriage| Rented apartment|    -18682|       365243|         1|              0|         0|         0|           null|            2.0|\n",
      "|5009033|            -8|     X|          F|           N|              N|           0|        255150.0|       Pensioner|   Incomplete higher|    Civil marriage| Rented apartment|    -18682|       365243|         1|              0|         0|         0|           null|            2.0|\n",
      "|5009033|            -9|     X|          F|           N|              N|           0|        255150.0|       Pensioner|   Incomplete higher|    Civil marriage| Rented apartment|    -18682|       365243|         1|              0|         0|         0|           null|            2.0|\n",
      "|5009033|           -10|     X|          F|           N|              N|           0|        255150.0|       Pensioner|   Incomplete higher|    Civil marriage| Rented apartment|    -18682|       365243|         1|              0|         0|         0|           null|            2.0|\n",
      "|5009033|           -11|     X|          F|           N|              N|           0|        255150.0|       Pensioner|   Incomplete higher|    Civil marriage| Rented apartment|    -18682|       365243|         1|              0|         0|         0|           null|            2.0|\n",
      "|5009033|           -12|     X|          F|           N|              N|           0|        255150.0|       Pensioner|   Incomplete higher|    Civil marriage| Rented apartment|    -18682|       365243|         1|              0|         0|         0|           null|            2.0|\n",
      "|5009033|           -13|     0|          F|           N|              N|           0|        255150.0|       Pensioner|   Incomplete higher|    Civil marriage| Rented apartment|    -18682|       365243|         1|              0|         0|         0|           null|            2.0|\n",
      "|5009033|           -14|     0|          F|           N|              N|           0|        255150.0|       Pensioner|   Incomplete higher|    Civil marriage| Rented apartment|    -18682|       365243|         1|              0|         0|         0|           null|            2.0|\n",
      "|5009033|           -15|     0|          F|           N|              N|           0|        255150.0|       Pensioner|   Incomplete higher|    Civil marriage| Rented apartment|    -18682|       365243|         1|              0|         0|         0|           null|            2.0|\n",
      "|5009033|           -16|     0|          F|           N|              N|           0|        255150.0|       Pensioner|   Incomplete higher|    Civil marriage| Rented apartment|    -18682|       365243|         1|              0|         0|         0|           null|            2.0|\n",
      "|5009304|             0|     C|          F|           N|              N|           0|        112500.0|       Pensioner|Secondary / secon...|             Widow|House / apartment|    -22061|       365243|         1|              0|         0|         0|           null|            1.0|\n",
      "|5009304|            -1|     C|          F|           N|              N|           0|        112500.0|       Pensioner|Secondary / secon...|             Widow|House / apartment|    -22061|       365243|         1|              0|         0|         0|           null|            1.0|\n",
      "|5009304|            -2|     C|          F|           N|              N|           0|        112500.0|       Pensioner|Secondary / secon...|             Widow|House / apartment|    -22061|       365243|         1|              0|         0|         0|           null|            1.0|\n",
      "+-------+--------------+------+-----------+------------+---------------+------------+----------------+----------------+--------------------+------------------+-----------------+----------+-------------+----------+---------------+----------+----------+---------------+---------------+\n",
      "only showing top 20 rows\n",
      "\n"
     ]
    }
   ],
   "source": [
    "dff = df_c.join(df_r,on=['ID'],how='inner')\n",
    "dff.show()"
   ]
  },
  {
   "cell_type": "code",
   "execution_count": 13,
   "metadata": {},
   "outputs": [
    {
     "data": {
      "text/plain": [
       "777715"
      ]
     },
     "execution_count": 13,
     "metadata": {},
     "output_type": "execute_result"
    }
   ],
   "source": [
    "dff.count()"
   ]
  },
  {
   "cell_type": "code",
   "execution_count": 14,
   "metadata": {},
   "outputs": [
    {
     "name": "stdout",
     "output_type": "stream",
     "text": [
      "root\n",
      " |-- ID: integer (nullable = true)\n",
      " |-- MONTHS_BALANCE: integer (nullable = true)\n",
      " |-- STATUS: string (nullable = true)\n",
      " |-- CODE_GENDER: string (nullable = true)\n",
      " |-- FLAG_OWN_CAR: string (nullable = true)\n",
      " |-- FLAG_OWN_REALTY: string (nullable = true)\n",
      " |-- CNT_CHILDREN: integer (nullable = true)\n",
      " |-- AMT_INCOME_TOTAL: double (nullable = true)\n",
      " |-- NAME_INCOME_TYPE: string (nullable = true)\n",
      " |-- NAME_EDUCATION_TYPE: string (nullable = true)\n",
      " |-- NAME_FAMILY_STATUS: string (nullable = true)\n",
      " |-- NAME_HOUSING_TYPE: string (nullable = true)\n",
      " |-- DAYS_BIRTH: integer (nullable = true)\n",
      " |-- DAYS_EMPLOYED: integer (nullable = true)\n",
      " |-- FLAG_MOBIL: integer (nullable = true)\n",
      " |-- FLAG_WORK_PHONE: integer (nullable = true)\n",
      " |-- FLAG_PHONE: integer (nullable = true)\n",
      " |-- FLAG_EMAIL: integer (nullable = true)\n",
      " |-- OCCUPATION_TYPE: string (nullable = true)\n",
      " |-- CNT_FAM_MEMBERS: double (nullable = true)\n",
      "\n"
     ]
    }
   ],
   "source": [
    "dff.printSchema()"
   ]
  },
  {
   "cell_type": "code",
   "execution_count": 15,
   "metadata": {},
   "outputs": [
    {
     "name": "stdout",
     "output_type": "stream",
     "text": [
      "+--------------------+------+\n",
      "| NAME_EDUCATION_TYPE| count|\n",
      "+--------------------+------+\n",
      "|     Academic degree|   837|\n",
      "|   Incomplete higher| 30329|\n",
      "|Secondary / secon...|524261|\n",
      "|     Lower secondary|  8655|\n",
      "|    Higher education|213633|\n",
      "+--------------------+------+\n",
      "\n"
     ]
    }
   ],
   "source": [
    "dff.groupby('NAME_EDUCATION_TYPE').count().show()"
   ]
  },
  {
   "cell_type": "code",
   "execution_count": 16,
   "metadata": {},
   "outputs": [],
   "source": [
    "application_rec = dff.toPandas()\n",
    "education_prop = application_rec['NAME_EDUCATION_TYPE'].value_counts(normalize=True)"
   ]
  },
  {
   "cell_type": "code",
   "execution_count": 17,
   "metadata": {},
   "outputs": [
    {
     "data": {
      "text/plain": [
       "Secondary / secondary special    0.674104\n",
       "Higher education                 0.274693\n",
       "Incomplete higher                0.038998\n",
       "Lower secondary                  0.011129\n",
       "Academic degree                  0.001076\n",
       "Name: NAME_EDUCATION_TYPE, dtype: float64"
      ]
     },
     "execution_count": 17,
     "metadata": {},
     "output_type": "execute_result"
    }
   ],
   "source": [
    "education_prop"
   ]
  },
  {
   "cell_type": "code",
   "execution_count": 18,
   "metadata": {},
   "outputs": [
    {
     "data": {
      "text/plain": [
       "<AxesSubplot:>"
      ]
     },
     "execution_count": 18,
     "metadata": {},
     "output_type": "execute_result"
    },
    {
     "data": {
      "image/png": "[encoded data removed]",
      "text/plain": [
       "<Figure size 432x288 with 1 Axes>"
      ]
     },
     "metadata": {
      "needs_background": "light"
     },
     "output_type": "display_data"
    }
   ],
   "source": [
    "education_prop.plot.bar()"
   ]
  },
  {
   "cell_type": "code",
   "execution_count": 19,
   "metadata": {},
   "outputs": [
    {
     "data": {
      "text/plain": [
       "135000.0    0.116003\n",
       "180000.0    0.088180\n",
       "157500.0    0.080603\n",
       "112500.0    0.079235\n",
       "225000.0    0.078948\n",
       "              ...   \n",
       "51750.0     0.000009\n",
       "89550.0     0.000006\n",
       "594000.0    0.000005\n",
       "134995.5    0.000003\n",
       "151200.0    0.000003\n",
       "Name: AMT_INCOME_TOTAL, Length: 265, dtype: float64"
      ]
     },
     "execution_count": 19,
     "metadata": {},
     "output_type": "execute_result"
    }
   ],
   "source": [
    "income = application_rec['AMT_INCOME_TOTAL'].value_counts(normalize=True)\n",
    "income"
   ]
  },
  {
   "cell_type": "markdown",
   "metadata": {},
   "source": [
    "# Creating the target variable (delinquent or not) based on STATUS of customers"
   ]
  },
  {
   "cell_type": "code",
   "execution_count": 20,
   "metadata": {},
   "outputs": [
    {
     "name": "stdout",
     "output_type": "stream",
     "text": [
      "root\n",
      " |-- ID: integer (nullable = true)\n",
      " |-- MONTHS_BALANCE: integer (nullable = true)\n",
      " |-- STATUS: string (nullable = true)\n",
      " |-- CODE_GENDER: string (nullable = true)\n",
      " |-- FLAG_OWN_CAR: string (nullable = true)\n",
      " |-- FLAG_OWN_REALTY: string (nullable = true)\n",
      " |-- CNT_CHILDREN: integer (nullable = true)\n",
      " |-- AMT_INCOME_TOTAL: double (nullable = true)\n",
      " |-- NAME_INCOME_TYPE: string (nullable = true)\n",
      " |-- NAME_EDUCATION_TYPE: string (nullable = true)\n",
      " |-- NAME_FAMILY_STATUS: string (nullable = true)\n",
      " |-- NAME_HOUSING_TYPE: string (nullable = true)\n",
      " |-- DAYS_BIRTH: integer (nullable = true)\n",
      " |-- DAYS_EMPLOYED: integer (nullable = true)\n",
      " |-- FLAG_MOBIL: integer (nullable = true)\n",
      " |-- FLAG_WORK_PHONE: integer (nullable = true)\n",
      " |-- FLAG_PHONE: integer (nullable = true)\n",
      " |-- FLAG_EMAIL: integer (nullable = true)\n",
      " |-- OCCUPATION_TYPE: string (nullable = true)\n",
      " |-- CNT_FAM_MEMBERS: double (nullable = true)\n",
      "\n"
     ]
    }
   ],
   "source": [
    "dff.printSchema()"
   ]
  },
  {
   "cell_type": "code",
   "execution_count": 21,
   "metadata": {},
   "outputs": [
    {
     "name": "stdout",
     "output_type": "stream",
     "text": [
      "+------+\n",
      "|STATUS|\n",
      "+------+\n",
      "|     3|\n",
      "|     0|\n",
      "|     5|\n",
      "|     C|\n",
      "|     X|\n",
      "|     1|\n",
      "|     4|\n",
      "|     2|\n",
      "+------+\n",
      "\n"
     ]
    }
   ],
   "source": [
    "# STATUS>=2 means the customer is 60-89 days overdue, hence delinquent\n",
    "dff.select('STATUS').distinct().show()"
   ]
  },
  {
   "cell_type": "code",
   "execution_count": 22,
   "metadata": {},
   "outputs": [],
   "source": [
    "# Target variable- 0 means good(not delinquent) and 1 means bad(delinquent)\n",
    "dff = dff.withColumn('target', when((col('STATUS')==2) | (col('STATUS')==3) | (col('STATUS')==4) | (col('STATUS')==5), 1).otherwise(0))"
   ]
  },
  {
   "cell_type": "code",
   "execution_count": 23,
   "metadata": {},
   "outputs": [
    {
     "name": "stdout",
     "output_type": "stream",
     "text": [
      "+------+\n",
      "|target|\n",
      "+------+\n",
      "|     1|\n",
      "|     0|\n",
      "+------+\n",
      "\n"
     ]
    }
   ],
   "source": [
    "dff.select('target').distinct().show()"
   ]
  },
  {
   "cell_type": "code",
   "execution_count": 24,
   "metadata": {},
   "outputs": [
    {
     "name": "stdout",
     "output_type": "stream",
     "text": [
      "+------+-------+\n",
      "|target|     ID|\n",
      "+------+-------+\n",
      "|     1|5041415|\n",
      "|     1|5149042|\n",
      "|     1|5045495|\n",
      "|     1|5100111|\n",
      "|     1|5116915|\n",
      "|     1|5149192|\n",
      "|     1|5009480|\n",
      "|     1|5068779|\n",
      "|     1|5096527|\n",
      "|     1|5126300|\n",
      "|     1|5024430|\n",
      "|     1|5038807|\n",
      "|     1|5085623|\n",
      "|     1|5117723|\n",
      "|     1|5096069|\n",
      "|     1|5142964|\n",
      "|     1|5143374|\n",
      "|     1|5021314|\n",
      "|     1|5065313|\n",
      "|     1|5065316|\n",
      "+------+-------+\n",
      "only showing top 20 rows\n",
      "\n"
     ]
    }
   ],
   "source": [
    "# Delinquent customers (bad customers)\n",
    "delinquent = dff.filter(dff['target']==1).select('target','ID').distinct()\n",
    "delinquent.show()"
   ]
  },
  {
   "cell_type": "code",
   "execution_count": 25,
   "metadata": {},
   "outputs": [
    {
     "name": "stdout",
     "output_type": "stream",
     "text": [
      "+------+-------+\n",
      "|target|     ID|\n",
      "+------+-------+\n",
      "|     0|5009618|\n",
      "|     0|5009986|\n",
      "|     0|5021510|\n",
      "|     0|5022116|\n",
      "|     0|5022248|\n",
      "|     0|5022383|\n",
      "|     0|5022554|\n",
      "|     0|5023249|\n",
      "|     0|5023324|\n",
      "|     0|5023417|\n",
      "|     0|5023718|\n",
      "|     0|5023879|\n",
      "|     0|5023949|\n",
      "|     0|5024086|\n",
      "|     0|5024302|\n",
      "|     0|5024663|\n",
      "|     0|5024664|\n",
      "|     0|5024951|\n",
      "|     0|5026149|\n",
      "|     0|5028456|\n",
      "+------+-------+\n",
      "only showing top 20 rows\n",
      "\n"
     ]
    }
   ],
   "source": [
    "# Non- delinquent customers (good customers)\n",
    "non_delinquent = dff.filter(dff['target']==0).select('target','ID').distinct()\n",
    "non_delinquent.show()"
   ]
  },
  {
   "cell_type": "code",
   "execution_count": 26,
   "metadata": {},
   "outputs": [
    {
     "data": {
      "text/plain": [
       "616"
      ]
     },
     "execution_count": 26,
     "metadata": {},
     "output_type": "execute_result"
    }
   ],
   "source": [
    "delinquent.count()"
   ]
  },
  {
   "cell_type": "code",
   "execution_count": 27,
   "metadata": {},
   "outputs": [
    {
     "data": {
      "text/plain": [
       "36457"
      ]
     },
     "execution_count": 27,
     "metadata": {},
     "output_type": "execute_result"
    }
   ],
   "source": [
    "non_delinquent.count()\n"
   ]
  },
  {
   "cell_type": "markdown",
   "metadata": {},
   "source": [
    "There are more good customers(36457) than bad customers(616)\n"
   ]
  },
  {
   "cell_type": "code",
   "execution_count": 28,
   "metadata": {},
   "outputs": [
    {
     "name": "stdout",
     "output_type": "stream",
     "text": [
      "root\n",
      " |-- ID: integer (nullable = true)\n",
      " |-- CODE_GENDER: string (nullable = true)\n",
      " |-- FLAG_OWN_CAR: string (nullable = true)\n",
      " |-- FLAG_OWN_REALTY: string (nullable = true)\n",
      " |-- CNT_CHILDREN: integer (nullable = true)\n",
      " |-- AMT_INCOME_TOTAL: double (nullable = true)\n",
      " |-- NAME_INCOME_TYPE: string (nullable = true)\n",
      " |-- NAME_EDUCATION_TYPE: string (nullable = true)\n",
      " |-- NAME_FAMILY_STATUS: string (nullable = true)\n",
      " |-- NAME_HOUSING_TYPE: string (nullable = true)\n",
      " |-- DAYS_BIRTH: integer (nullable = true)\n",
      " |-- DAYS_EMPLOYED: integer (nullable = true)\n",
      " |-- FLAG_MOBIL: integer (nullable = true)\n",
      " |-- FLAG_WORK_PHONE: integer (nullable = true)\n",
      " |-- FLAG_PHONE: integer (nullable = true)\n",
      " |-- FLAG_EMAIL: integer (nullable = true)\n",
      " |-- OCCUPATION_TYPE: string (nullable = true)\n",
      " |-- CNT_FAM_MEMBERS: double (nullable = true)\n",
      " |-- target: integer (nullable = false)\n",
      "\n"
     ]
    }
   ],
   "source": [
    "# Dropping the columns Months_balance and Status as they have been utilised to create the target the target variable\n",
    "dff = dff.drop('MONTHS_BALANCE','STATUS')\n",
    "dff.printSchema()"
   ]
  },
  {
   "cell_type": "code",
   "execution_count": 29,
   "metadata": {},
   "outputs": [
    {
     "data": {
      "text/plain": [
       "37073"
      ]
     },
     "execution_count": 29,
     "metadata": {},
     "output_type": "execute_result"
    }
   ],
   "source": [
    "dff.distinct().count()"
   ]
  },
  {
   "cell_type": "code",
   "execution_count": 30,
   "metadata": {},
   "outputs": [
    {
     "data": {
      "text/plain": [
       "37073"
      ]
     },
     "execution_count": 30,
     "metadata": {},
     "output_type": "execute_result"
    }
   ],
   "source": [
    "dff = dff.dropDuplicates()\n",
    "dff.count()"
   ]
  },
  {
   "cell_type": "code",
   "execution_count": 31,
   "metadata": {},
   "outputs": [
    {
     "name": "stdout",
     "output_type": "stream",
     "text": [
      "+-------+-----------+------------+---------------+------------+----------------+--------------------+--------------------+--------------------+-----------------+----------+-------------+----------+---------------+----------+----------+--------------------+---------------+------+\n",
      "|     ID|CODE_GENDER|FLAG_OWN_CAR|FLAG_OWN_REALTY|CNT_CHILDREN|AMT_INCOME_TOTAL|    NAME_INCOME_TYPE| NAME_EDUCATION_TYPE|  NAME_FAMILY_STATUS|NAME_HOUSING_TYPE|DAYS_BIRTH|DAYS_EMPLOYED|FLAG_MOBIL|FLAG_WORK_PHONE|FLAG_PHONE|FLAG_EMAIL|     OCCUPATION_TYPE|CNT_FAM_MEMBERS|target|\n",
      "+-------+-----------+------------+---------------+------------+----------------+--------------------+--------------------+--------------------+-----------------+----------+-------------+----------+---------------+----------+----------+--------------------+---------------+------+\n",
      "|5009033|          F|           N|              N|           0|        255150.0|           Pensioner|   Incomplete higher|      Civil marriage| Rented apartment|    -18682|       365243|         1|              0|         0|         0|                null|            2.0|     0|\n",
      "|5009304|          F|           N|              N|           0|        112500.0|           Pensioner|Secondary / secon...|               Widow|House / apartment|    -22061|       365243|         1|              0|         0|         0|                null|            1.0|     0|\n",
      "|5009355|          F|           N|              N|           0|        135000.0|Commercial associate|Secondary / secon...|             Married|House / apartment|    -19692|        -5273|         1|              1|         1|         0|            Laborers|            2.0|     0|\n",
      "|5009429|          M|           N|              N|           0|        198000.0|             Working|Secondary / secon...|Single / not married|     With parents|     -8657|        -1164|         1|              1|         0|         0|            Laborers|            1.0|     0|\n",
      "|5010070|          F|           N|              Y|           0|        279000.0|       State servant|    Higher education|Single / not married|House / apartment|    -11091|         -617|         1|              0|         0|         1|            Managers|            1.0|     0|\n",
      "|5010236|          M|           Y|              Y|           0|        225000.0|             Working|Secondary / secon...|             Married|House / apartment|    -16507|        -4331|         1|              0|         0|         0|             Drivers|            2.0|     0|\n",
      "|5010338|          F|           N|              N|           0|        216000.0|           Pensioner|Secondary / secon...|             Married|House / apartment|    -22867|       365243|         1|              0|         0|         0|                null|            2.0|     0|\n",
      "|5010511|          F|           Y|              Y|           1|        157500.0|Commercial associate|Secondary / secon...|             Married|House / apartment|    -13830|        -4239|         1|              0|         0|         0|            Laborers|            3.0|     0|\n",
      "|5010624|          F|           N|              Y|           0|        103500.0|           Pensioner|   Incomplete higher|             Married|House / apartment|    -22254|       365243|         1|              0|         1|         0|                null|            2.0|     0|\n",
      "|5010629|          F|           N|              Y|           0|        180000.0|             Working|Secondary / secon...|Single / not married|House / apartment|    -19421|        -2017|         1|              0|         0|         0|                null|            1.0|     0|\n",
      "|5011029|          F|           N|              Y|           0|        292500.0|             Working|Secondary / secon...|      Civil marriage|House / apartment|    -16588|        -1013|         1|              0|         0|         1|         Sales staff|            2.0|     0|\n",
      "|5018442|          F|           N|              Y|           0|        202500.0|             Working|Secondary / secon...|               Widow|House / apartment|    -20227|        -5416|         1|              0|         0|         0|          Core staff|            1.0|     0|\n",
      "|5021819|          F|           Y|              Y|           1|         67500.0|             Working|Secondary / secon...|             Married|House / apartment|    -11454|        -1678|         1|              0|         1|         1|       Cooking staff|            3.0|     0|\n",
      "|5021944|          F|           Y|              Y|           0|        445500.0|Commercial associate|    Higher education|             Married|House / apartment|    -12477|         -456|         1|              0|         0|         0|            Managers|            2.0|     0|\n",
      "|5021994|          M|           Y|              Y|           0|        135000.0|             Working|    Higher education|             Married|House / apartment|     -9303|         -852|         1|              0|         0|         0|         Sales staff|            2.0|     0|\n",
      "|5022024|          M|           Y|              Y|           0|        112500.0|             Working|Secondary / secon...|Single / not married|House / apartment|     -9952|        -1613|         1|              0|         0|         0|                null|            1.0|     0|\n",
      "|5022285|          F|           N|              N|           1|        157500.0|             Working|Secondary / secon...|      Civil marriage|House / apartment|    -15100|        -3500|         1|              0|         0|         0|       Cooking staff|            3.0|     0|\n",
      "|5022944|          F|           Y|              N|           0|        202500.0|Commercial associate|   Incomplete higher|           Separated|House / apartment|    -14096|        -1344|         1|              0|         1|         1|         Accountants|            1.0|     0|\n",
      "|5023011|          M|           Y|              N|           0|        360000.0|             Working|Secondary / secon...|             Married|House / apartment|    -11440|        -2457|         1|              0|         0|         0|Private service s...|            2.0|     0|\n",
      "|5023430|          F|           N|              Y|           0|        108000.0|           Pensioner|Secondary / secon...|             Married|House / apartment|    -23044|       365243|         1|              0|         1|         0|                null|            2.0|     0|\n",
      "+-------+-----------+------------+---------------+------------+----------------+--------------------+--------------------+--------------------+-----------------+----------+-------------+----------+---------------+----------+----------+--------------------+---------------+------+\n",
      "only showing top 20 rows\n",
      "\n"
     ]
    }
   ],
   "source": [
    "dff.show()"
   ]
  },
  {
   "cell_type": "markdown",
   "metadata": {},
   "source": [
    "## Creating AGE column using the DAYS_BIRTH column"
   ]
  },
  {
   "cell_type": "code",
   "execution_count": 32,
   "metadata": {},
   "outputs": [],
   "source": [
    "dff = dff.withColumn('AGE', round(dff['DAYS_BIRTH']/365*(-1)))"
   ]
  },
  {
   "cell_type": "code",
   "execution_count": 33,
   "metadata": {},
   "outputs": [
    {
     "name": "stdout",
     "output_type": "stream",
     "text": [
      "+-------+-----------+------------+---------------+------------+----------------+--------------------+--------------------+--------------------+-----------------+----------+-------------+----------+---------------+----------+----------+---------------+---------------+------+----+\n",
      "|     ID|CODE_GENDER|FLAG_OWN_CAR|FLAG_OWN_REALTY|CNT_CHILDREN|AMT_INCOME_TOTAL|    NAME_INCOME_TYPE| NAME_EDUCATION_TYPE|  NAME_FAMILY_STATUS|NAME_HOUSING_TYPE|DAYS_BIRTH|DAYS_EMPLOYED|FLAG_MOBIL|FLAG_WORK_PHONE|FLAG_PHONE|FLAG_EMAIL|OCCUPATION_TYPE|CNT_FAM_MEMBERS|target| AGE|\n",
      "+-------+-----------+------------+---------------+------------+----------------+--------------------+--------------------+--------------------+-----------------+----------+-------------+----------+---------------+----------+----------+---------------+---------------+------+----+\n",
      "|5009033|          F|           N|              N|           0|        255150.0|           Pensioner|   Incomplete higher|      Civil marriage| Rented apartment|    -18682|       365243|         1|              0|         0|         0|           null|            2.0|     0|51.0|\n",
      "|5009304|          F|           N|              N|           0|        112500.0|           Pensioner|Secondary / secon...|               Widow|House / apartment|    -22061|       365243|         1|              0|         0|         0|           null|            1.0|     0|60.0|\n",
      "|5009355|          F|           N|              N|           0|        135000.0|Commercial associate|Secondary / secon...|             Married|House / apartment|    -19692|        -5273|         1|              1|         1|         0|       Laborers|            2.0|     0|54.0|\n",
      "|5009429|          M|           N|              N|           0|        198000.0|             Working|Secondary / secon...|Single / not married|     With parents|     -8657|        -1164|         1|              1|         0|         0|       Laborers|            1.0|     0|24.0|\n",
      "|5010070|          F|           N|              Y|           0|        279000.0|       State servant|    Higher education|Single / not married|House / apartment|    -11091|         -617|         1|              0|         0|         1|       Managers|            1.0|     0|30.0|\n",
      "+-------+-----------+------------+---------------+------------+----------------+--------------------+--------------------+--------------------+-----------------+----------+-------------+----------+---------------+----------+----------+---------------+---------------+------+----+\n",
      "only showing top 5 rows\n",
      "\n"
     ]
    }
   ],
   "source": [
    "dff.show(5)"
   ]
  },
  {
   "cell_type": "code",
   "execution_count": 34,
   "metadata": {},
   "outputs": [
    {
     "name": "stdout",
     "output_type": "stream",
     "text": [
      "+-------+-----------+------------+---------------+------------+----------------+--------------------+--------------------+--------------------+-----------------+-------------+----------+---------------+----------+----------+--------------------+---------------+------+----+\n",
      "|     ID|CODE_GENDER|FLAG_OWN_CAR|FLAG_OWN_REALTY|CNT_CHILDREN|AMT_INCOME_TOTAL|    NAME_INCOME_TYPE| NAME_EDUCATION_TYPE|  NAME_FAMILY_STATUS|NAME_HOUSING_TYPE|DAYS_EMPLOYED|FLAG_MOBIL|FLAG_WORK_PHONE|FLAG_PHONE|FLAG_EMAIL|     OCCUPATION_TYPE|CNT_FAM_MEMBERS|target| AGE|\n",
      "+-------+-----------+------------+---------------+------------+----------------+--------------------+--------------------+--------------------+-----------------+-------------+----------+---------------+----------+----------+--------------------+---------------+------+----+\n",
      "|5009033|          F|           N|              N|           0|        255150.0|           Pensioner|   Incomplete higher|      Civil marriage| Rented apartment|       365243|         1|              0|         0|         0|                null|            2.0|     0|51.0|\n",
      "|5009304|          F|           N|              N|           0|        112500.0|           Pensioner|Secondary / secon...|               Widow|House / apartment|       365243|         1|              0|         0|         0|                null|            1.0|     0|60.0|\n",
      "|5009355|          F|           N|              N|           0|        135000.0|Commercial associate|Secondary / secon...|             Married|House / apartment|        -5273|         1|              1|         1|         0|            Laborers|            2.0|     0|54.0|\n",
      "|5009429|          M|           N|              N|           0|        198000.0|             Working|Secondary / secon...|Single / not married|     With parents|        -1164|         1|              1|         0|         0|            Laborers|            1.0|     0|24.0|\n",
      "|5010070|          F|           N|              Y|           0|        279000.0|       State servant|    Higher education|Single / not married|House / apartment|         -617|         1|              0|         0|         1|            Managers|            1.0|     0|30.0|\n",
      "|5010236|          M|           Y|              Y|           0|        225000.0|             Working|Secondary / secon...|             Married|House / apartment|        -4331|         1|              0|         0|         0|             Drivers|            2.0|     0|45.0|\n",
      "|5010338|          F|           N|              N|           0|        216000.0|           Pensioner|Secondary / secon...|             Married|House / apartment|       365243|         1|              0|         0|         0|                null|            2.0|     0|63.0|\n",
      "|5010511|          F|           Y|              Y|           1|        157500.0|Commercial associate|Secondary / secon...|             Married|House / apartment|        -4239|         1|              0|         0|         0|            Laborers|            3.0|     0|38.0|\n",
      "|5010624|          F|           N|              Y|           0|        103500.0|           Pensioner|   Incomplete higher|             Married|House / apartment|       365243|         1|              0|         1|         0|                null|            2.0|     0|61.0|\n",
      "|5010629|          F|           N|              Y|           0|        180000.0|             Working|Secondary / secon...|Single / not married|House / apartment|        -2017|         1|              0|         0|         0|                null|            1.0|     0|53.0|\n",
      "|5011029|          F|           N|              Y|           0|        292500.0|             Working|Secondary / secon...|      Civil marriage|House / apartment|        -1013|         1|              0|         0|         1|         Sales staff|            2.0|     0|45.0|\n",
      "|5018442|          F|           N|              Y|           0|        202500.0|             Working|Secondary / secon...|               Widow|House / apartment|        -5416|         1|              0|         0|         0|          Core staff|            1.0|     0|55.0|\n",
      "|5021819|          F|           Y|              Y|           1|         67500.0|             Working|Secondary / secon...|             Married|House / apartment|        -1678|         1|              0|         1|         1|       Cooking staff|            3.0|     0|31.0|\n",
      "|5021944|          F|           Y|              Y|           0|        445500.0|Commercial associate|    Higher education|             Married|House / apartment|         -456|         1|              0|         0|         0|            Managers|            2.0|     0|34.0|\n",
      "|5021994|          M|           Y|              Y|           0|        135000.0|             Working|    Higher education|             Married|House / apartment|         -852|         1|              0|         0|         0|         Sales staff|            2.0|     0|25.0|\n",
      "|5022024|          M|           Y|              Y|           0|        112500.0|             Working|Secondary / secon...|Single / not married|House / apartment|        -1613|         1|              0|         0|         0|                null|            1.0|     0|27.0|\n",
      "|5022285|          F|           N|              N|           1|        157500.0|             Working|Secondary / secon...|      Civil marriage|House / apartment|        -3500|         1|              0|         0|         0|       Cooking staff|            3.0|     0|41.0|\n",
      "|5022944|          F|           Y|              N|           0|        202500.0|Commercial associate|   Incomplete higher|           Separated|House / apartment|        -1344|         1|              0|         1|         1|         Accountants|            1.0|     0|39.0|\n",
      "|5023011|          M|           Y|              N|           0|        360000.0|             Working|Secondary / secon...|             Married|House / apartment|        -2457|         1|              0|         0|         0|Private service s...|            2.0|     0|31.0|\n",
      "|5023430|          F|           N|              Y|           0|        108000.0|           Pensioner|Secondary / secon...|             Married|House / apartment|       365243|         1|              0|         1|         0|                null|            2.0|     0|63.0|\n",
      "+-------+-----------+------------+---------------+------------+----------------+--------------------+--------------------+--------------------+-----------------+-------------+----------+---------------+----------+----------+--------------------+---------------+------+----+\n",
      "only showing top 20 rows\n",
      "\n"
     ]
    }
   ],
   "source": [
    "# Dropping the DAYS_BIRTH column\n",
    "dff = dff.drop('DAYS_BIRTH')\n",
    "dff.show()"
   ]
  },
  {
   "cell_type": "code",
   "execution_count": 35,
   "metadata": {},
   "outputs": [
    {
     "name": "stdout",
     "output_type": "stream",
     "text": [
      "root\n",
      " |-- ID: integer (nullable = true)\n",
      " |-- CODE_GENDER: string (nullable = true)\n",
      " |-- FLAG_OWN_CAR: string (nullable = true)\n",
      " |-- FLAG_OWN_REALTY: string (nullable = true)\n",
      " |-- CNT_CHILDREN: integer (nullable = true)\n",
      " |-- AMT_INCOME_TOTAL: double (nullable = true)\n",
      " |-- NAME_INCOME_TYPE: string (nullable = true)\n",
      " |-- NAME_EDUCATION_TYPE: string (nullable = true)\n",
      " |-- NAME_FAMILY_STATUS: string (nullable = true)\n",
      " |-- NAME_HOUSING_TYPE: string (nullable = true)\n",
      " |-- DAYS_EMPLOYED: integer (nullable = true)\n",
      " |-- FLAG_MOBIL: integer (nullable = true)\n",
      " |-- FLAG_WORK_PHONE: integer (nullable = true)\n",
      " |-- FLAG_PHONE: integer (nullable = true)\n",
      " |-- FLAG_EMAIL: integer (nullable = true)\n",
      " |-- OCCUPATION_TYPE: string (nullable = true)\n",
      " |-- CNT_FAM_MEMBERS: double (nullable = true)\n",
      " |-- target: integer (nullable = false)\n",
      " |-- AGE: double (nullable = true)\n",
      "\n"
     ]
    }
   ],
   "source": [
    "dff.printSchema()"
   ]
  },
  {
   "cell_type": "markdown",
   "metadata": {},
   "source": [
    "### Proportion of females in the applicant customer base"
   ]
  },
  {
   "cell_type": "code",
   "execution_count": 36,
   "metadata": {},
   "outputs": [
    {
     "name": "stdout",
     "output_type": "stream",
     "text": [
      "+-----------+-----+\n",
      "|code_gender|count|\n",
      "+-----------+-----+\n",
      "|          F|24809|\n",
      "|          M|12264|\n",
      "+-----------+-----+\n",
      "\n"
     ]
    }
   ],
   "source": [
    "dff.groupby('code_gender').count().show()"
   ]
  },
  {
   "cell_type": "code",
   "execution_count": 37,
   "metadata": {},
   "outputs": [
    {
     "data": {
      "text/html": [
       "<div>\n",
       "<style scoped>\n",
       "    .dataframe tbody tr th:only-of-type {\n",
       "        vertical-align: middle;\n",
       "    }\n",
       "\n",
       "    .dataframe tbody tr th {\n",
       "        vertical-align: top;\n",
       "    }\n",
       "\n",
       "    .dataframe thead th {\n",
       "        text-align: right;\n",
       "    }\n",
       "</style>\n",
       "<table border=\"1\" class=\"dataframe\">\n",
       "  <thead>\n",
       "    <tr style=\"text-align: right;\">\n",
       "      <th></th>\n",
       "      <th>ID</th>\n",
       "      <th>CODE_GENDER</th>\n",
       "      <th>FLAG_OWN_CAR</th>\n",
       "      <th>FLAG_OWN_REALTY</th>\n",
       "      <th>CNT_CHILDREN</th>\n",
       "      <th>AMT_INCOME_TOTAL</th>\n",
       "      <th>NAME_INCOME_TYPE</th>\n",
       "      <th>NAME_EDUCATION_TYPE</th>\n",
       "      <th>NAME_FAMILY_STATUS</th>\n",
       "      <th>NAME_HOUSING_TYPE</th>\n",
       "      <th>DAYS_EMPLOYED</th>\n",
       "      <th>FLAG_MOBIL</th>\n",
       "      <th>FLAG_WORK_PHONE</th>\n",
       "      <th>FLAG_PHONE</th>\n",
       "      <th>FLAG_EMAIL</th>\n",
       "      <th>OCCUPATION_TYPE</th>\n",
       "      <th>CNT_FAM_MEMBERS</th>\n",
       "      <th>target</th>\n",
       "      <th>AGE</th>\n",
       "    </tr>\n",
       "  </thead>\n",
       "  <tbody>\n",
       "    <tr>\n",
       "      <th>0</th>\n",
       "      <td>5009033</td>\n",
       "      <td>F</td>\n",
       "      <td>N</td>\n",
       "      <td>N</td>\n",
       "      <td>0</td>\n",
       "      <td>255150.0</td>\n",
       "      <td>Pensioner</td>\n",
       "      <td>Incomplete higher</td>\n",
       "      <td>Civil marriage</td>\n",
       "      <td>Rented apartment</td>\n",
       "      <td>365243</td>\n",
       "      <td>1</td>\n",
       "      <td>0</td>\n",
       "      <td>0</td>\n",
       "      <td>0</td>\n",
       "      <td>None</td>\n",
       "      <td>2.0</td>\n",
       "      <td>0</td>\n",
       "      <td>51.0</td>\n",
       "    </tr>\n",
       "    <tr>\n",
       "      <th>1</th>\n",
       "      <td>5009304</td>\n",
       "      <td>F</td>\n",
       "      <td>N</td>\n",
       "      <td>N</td>\n",
       "      <td>0</td>\n",
       "      <td>112500.0</td>\n",
       "      <td>Pensioner</td>\n",
       "      <td>Secondary / secondary special</td>\n",
       "      <td>Widow</td>\n",
       "      <td>House / apartment</td>\n",
       "      <td>365243</td>\n",
       "      <td>1</td>\n",
       "      <td>0</td>\n",
       "      <td>0</td>\n",
       "      <td>0</td>\n",
       "      <td>None</td>\n",
       "      <td>1.0</td>\n",
       "      <td>0</td>\n",
       "      <td>60.0</td>\n",
       "    </tr>\n",
       "    <tr>\n",
       "      <th>2</th>\n",
       "      <td>5009355</td>\n",
       "      <td>F</td>\n",
       "      <td>N</td>\n",
       "      <td>N</td>\n",
       "      <td>0</td>\n",
       "      <td>135000.0</td>\n",
       "      <td>Commercial associate</td>\n",
       "      <td>Secondary / secondary special</td>\n",
       "      <td>Married</td>\n",
       "      <td>House / apartment</td>\n",
       "      <td>-5273</td>\n",
       "      <td>1</td>\n",
       "      <td>1</td>\n",
       "      <td>1</td>\n",
       "      <td>0</td>\n",
       "      <td>Laborers</td>\n",
       "      <td>2.0</td>\n",
       "      <td>0</td>\n",
       "      <td>54.0</td>\n",
       "    </tr>\n",
       "    <tr>\n",
       "      <th>3</th>\n",
       "      <td>5009429</td>\n",
       "      <td>M</td>\n",
       "      <td>N</td>\n",
       "      <td>N</td>\n",
       "      <td>0</td>\n",
       "      <td>198000.0</td>\n",
       "      <td>Working</td>\n",
       "      <td>Secondary / secondary special</td>\n",
       "      <td>Single / not married</td>\n",
       "      <td>With parents</td>\n",
       "      <td>-1164</td>\n",
       "      <td>1</td>\n",
       "      <td>1</td>\n",
       "      <td>0</td>\n",
       "      <td>0</td>\n",
       "      <td>Laborers</td>\n",
       "      <td>1.0</td>\n",
       "      <td>0</td>\n",
       "      <td>24.0</td>\n",
       "    </tr>\n",
       "    <tr>\n",
       "      <th>4</th>\n",
       "      <td>5010070</td>\n",
       "      <td>F</td>\n",
       "      <td>N</td>\n",
       "      <td>Y</td>\n",
       "      <td>0</td>\n",
       "      <td>279000.0</td>\n",
       "      <td>State servant</td>\n",
       "      <td>Higher education</td>\n",
       "      <td>Single / not married</td>\n",
       "      <td>House / apartment</td>\n",
       "      <td>-617</td>\n",
       "      <td>1</td>\n",
       "      <td>0</td>\n",
       "      <td>0</td>\n",
       "      <td>1</td>\n",
       "      <td>Managers</td>\n",
       "      <td>1.0</td>\n",
       "      <td>0</td>\n",
       "      <td>30.0</td>\n",
       "    </tr>\n",
       "    <tr>\n",
       "      <th>...</th>\n",
       "      <td>...</td>\n",
       "      <td>...</td>\n",
       "      <td>...</td>\n",
       "      <td>...</td>\n",
       "      <td>...</td>\n",
       "      <td>...</td>\n",
       "      <td>...</td>\n",
       "      <td>...</td>\n",
       "      <td>...</td>\n",
       "      <td>...</td>\n",
       "      <td>...</td>\n",
       "      <td>...</td>\n",
       "      <td>...</td>\n",
       "      <td>...</td>\n",
       "      <td>...</td>\n",
       "      <td>...</td>\n",
       "      <td>...</td>\n",
       "      <td>...</td>\n",
       "      <td>...</td>\n",
       "    </tr>\n",
       "    <tr>\n",
       "      <th>37068</th>\n",
       "      <td>5149419</td>\n",
       "      <td>F</td>\n",
       "      <td>N</td>\n",
       "      <td>Y</td>\n",
       "      <td>0</td>\n",
       "      <td>202500.0</td>\n",
       "      <td>Working</td>\n",
       "      <td>Higher education</td>\n",
       "      <td>Married</td>\n",
       "      <td>House / apartment</td>\n",
       "      <td>-7077</td>\n",
       "      <td>1</td>\n",
       "      <td>0</td>\n",
       "      <td>1</td>\n",
       "      <td>0</td>\n",
       "      <td>Core staff</td>\n",
       "      <td>2.0</td>\n",
       "      <td>0</td>\n",
       "      <td>59.0</td>\n",
       "    </tr>\n",
       "    <tr>\n",
       "      <th>37069</th>\n",
       "      <td>5149601</td>\n",
       "      <td>F</td>\n",
       "      <td>N</td>\n",
       "      <td>Y</td>\n",
       "      <td>0</td>\n",
       "      <td>225000.0</td>\n",
       "      <td>Commercial associate</td>\n",
       "      <td>Secondary / secondary special</td>\n",
       "      <td>Civil marriage</td>\n",
       "      <td>House / apartment</td>\n",
       "      <td>-229</td>\n",
       "      <td>1</td>\n",
       "      <td>1</td>\n",
       "      <td>0</td>\n",
       "      <td>0</td>\n",
       "      <td>None</td>\n",
       "      <td>2.0</td>\n",
       "      <td>0</td>\n",
       "      <td>49.0</td>\n",
       "    </tr>\n",
       "    <tr>\n",
       "      <th>37070</th>\n",
       "      <td>5149751</td>\n",
       "      <td>F</td>\n",
       "      <td>N</td>\n",
       "      <td>Y</td>\n",
       "      <td>1</td>\n",
       "      <td>180000.0</td>\n",
       "      <td>State servant</td>\n",
       "      <td>Secondary / secondary special</td>\n",
       "      <td>Single / not married</td>\n",
       "      <td>House / apartment</td>\n",
       "      <td>-3850</td>\n",
       "      <td>1</td>\n",
       "      <td>0</td>\n",
       "      <td>1</td>\n",
       "      <td>0</td>\n",
       "      <td>Medicine staff</td>\n",
       "      <td>2.0</td>\n",
       "      <td>0</td>\n",
       "      <td>37.0</td>\n",
       "    </tr>\n",
       "    <tr>\n",
       "      <th>37071</th>\n",
       "      <td>5150004</td>\n",
       "      <td>M</td>\n",
       "      <td>Y</td>\n",
       "      <td>Y</td>\n",
       "      <td>1</td>\n",
       "      <td>225000.0</td>\n",
       "      <td>Working</td>\n",
       "      <td>Higher education</td>\n",
       "      <td>Separated</td>\n",
       "      <td>Municipal apartment</td>\n",
       "      <td>-2055</td>\n",
       "      <td>1</td>\n",
       "      <td>0</td>\n",
       "      <td>1</td>\n",
       "      <td>0</td>\n",
       "      <td>Security staff</td>\n",
       "      <td>2.0</td>\n",
       "      <td>0</td>\n",
       "      <td>47.0</td>\n",
       "    </tr>\n",
       "    <tr>\n",
       "      <th>37072</th>\n",
       "      <td>5150044</td>\n",
       "      <td>F</td>\n",
       "      <td>Y</td>\n",
       "      <td>Y</td>\n",
       "      <td>0</td>\n",
       "      <td>54000.0</td>\n",
       "      <td>State servant</td>\n",
       "      <td>Secondary / secondary special</td>\n",
       "      <td>Single / not married</td>\n",
       "      <td>House / apartment</td>\n",
       "      <td>-1537</td>\n",
       "      <td>1</td>\n",
       "      <td>0</td>\n",
       "      <td>0</td>\n",
       "      <td>0</td>\n",
       "      <td>Medicine staff</td>\n",
       "      <td>1.0</td>\n",
       "      <td>0</td>\n",
       "      <td>24.0</td>\n",
       "    </tr>\n",
       "  </tbody>\n",
       "</table>\n",
       "<p>37073 rows × 19 columns</p>\n",
       "</div>"
      ],
      "text/plain": [
       "            ID CODE_GENDER FLAG_OWN_CAR FLAG_OWN_REALTY  CNT_CHILDREN  \\\n",
       "0      5009033           F            N               N             0   \n",
       "1      5009304           F            N               N             0   \n",
       "2      5009355           F            N               N             0   \n",
       "3      5009429           M            N               N             0   \n",
       "4      5010070           F            N               Y             0   \n",
       "...        ...         ...          ...             ...           ...   \n",
       "37068  5149419           F            N               Y             0   \n",
       "37069  5149601           F            N               Y             0   \n",
       "37070  5149751           F            N               Y             1   \n",
       "37071  5150004           M            Y               Y             1   \n",
       "37072  5150044           F            Y               Y             0   \n",
       "\n",
       "       AMT_INCOME_TOTAL      NAME_INCOME_TYPE            NAME_EDUCATION_TYPE  \\\n",
       "0              255150.0             Pensioner              Incomplete higher   \n",
       "1              112500.0             Pensioner  Secondary / secondary special   \n",
       "2              135000.0  Commercial associate  Secondary / secondary special   \n",
       "3              198000.0               Working  Secondary / secondary special   \n",
       "4              279000.0         State servant               Higher education   \n",
       "...                 ...                   ...                            ...   \n",
       "37068          202500.0               Working               Higher education   \n",
       "37069          225000.0  Commercial associate  Secondary / secondary special   \n",
       "37070          180000.0         State servant  Secondary / secondary special   \n",
       "37071          225000.0               Working               Higher education   \n",
       "37072           54000.0         State servant  Secondary / secondary special   \n",
       "\n",
       "         NAME_FAMILY_STATUS    NAME_HOUSING_TYPE  DAYS_EMPLOYED  FLAG_MOBIL  \\\n",
       "0            Civil marriage     Rented apartment         365243           1   \n",
       "1                     Widow    House / apartment         365243           1   \n",
       "2                   Married    House / apartment          -5273           1   \n",
       "3      Single / not married         With parents          -1164           1   \n",
       "4      Single / not married    House / apartment           -617           1   \n",
       "...                     ...                  ...            ...         ...   \n",
       "37068               Married    House / apartment          -7077           1   \n",
       "37069        Civil marriage    House / apartment           -229           1   \n",
       "37070  Single / not married    House / apartment          -3850           1   \n",
       "37071             Separated  Municipal apartment          -2055           1   \n",
       "37072  Single / not married    House / apartment          -1537           1   \n",
       "\n",
       "       FLAG_WORK_PHONE  FLAG_PHONE  FLAG_EMAIL OCCUPATION_TYPE  \\\n",
       "0                    0           0           0            None   \n",
       "1                    0           0           0            None   \n",
       "2                    1           1           0        Laborers   \n",
       "3                    1           0           0        Laborers   \n",
       "4                    0           0           1        Managers   \n",
       "...                ...         ...         ...             ...   \n",
       "37068                0           1           0      Core staff   \n",
       "37069                1           0           0            None   \n",
       "37070                0           1           0  Medicine staff   \n",
       "37071                0           1           0  Security staff   \n",
       "37072                0           0           0  Medicine staff   \n",
       "\n",
       "       CNT_FAM_MEMBERS  target   AGE  \n",
       "0                  2.0       0  51.0  \n",
       "1                  1.0       0  60.0  \n",
       "2                  2.0       0  54.0  \n",
       "3                  1.0       0  24.0  \n",
       "4                  1.0       0  30.0  \n",
       "...                ...     ...   ...  \n",
       "37068              2.0       0  59.0  \n",
       "37069              2.0       0  49.0  \n",
       "37070              2.0       0  37.0  \n",
       "37071              2.0       0  47.0  \n",
       "37072              1.0       0  24.0  \n",
       "\n",
       "[37073 rows x 19 columns]"
      ]
     },
     "execution_count": 37,
     "metadata": {},
     "output_type": "execute_result"
    }
   ],
   "source": [
    "application_records = dff.toPandas()\n",
    "application_records"
   ]
  },
  {
   "cell_type": "code",
   "execution_count": 38,
   "metadata": {},
   "outputs": [
    {
     "data": {
      "text/plain": [
       "37073"
      ]
     },
     "execution_count": 38,
     "metadata": {},
     "output_type": "execute_result"
    }
   ],
   "source": [
    "total = dff.select('code_gender').count()\n",
    "total"
   ]
  },
  {
   "cell_type": "code",
   "execution_count": 39,
   "metadata": {},
   "outputs": [
    {
     "data": {
      "text/plain": [
       "<AxesSubplot:xlabel='CODE_GENDER', ylabel='count'>"
      ]
     },
     "execution_count": 39,
     "metadata": {},
     "output_type": "execute_result"
    },
    {
     "data": {
      "image/png": "[encoded data removed]",
      "text/plain": [
       "<Figure size 432x288 with 1 Axes>"
      ]
     },
     "metadata": {
      "needs_background": "light"
     },
     "output_type": "display_data"
    }
   ],
   "source": [
    "sns.countplot(data = application_records, x='CODE_GENDER')"
   ]
  },
  {
   "cell_type": "code",
   "execution_count": 40,
   "metadata": {},
   "outputs": [
    {
     "data": {
      "text/plain": [
       "<AxesSubplot:>"
      ]
     },
     "execution_count": 40,
     "metadata": {},
     "output_type": "execute_result"
    },
    {
     "data": {
      "image/png": "[encoded data removed]",
      "text/plain": [
       "<Figure size 432x288 with 1 Axes>"
      ]
     },
     "metadata": {
      "needs_background": "light"
     },
     "output_type": "display_data"
    }
   ],
   "source": [
    "gender_prop = application_records['CODE_GENDER'].value_counts(normalize=True)\n",
    "gender_prop.plot.bar()"
   ]
  },
  {
   "cell_type": "markdown",
   "metadata": {},
   "source": [
    "Female proportion is higher than male proportion in the applicant customer base"
   ]
  },
  {
   "cell_type": "markdown",
   "metadata": {},
   "source": [
    "### Homeownership among male applicants and female applicants"
   ]
  },
  {
   "cell_type": "code",
   "execution_count": 41,
   "metadata": {},
   "outputs": [
    {
     "name": "stdout",
     "output_type": "stream",
     "text": [
      "+---------------+-----+\n",
      "|FLAG_OWN_REALTY|count|\n",
      "+---------------+-----+\n",
      "|              Y|24871|\n",
      "|              N|12202|\n",
      "+---------------+-----+\n",
      "\n"
     ]
    }
   ],
   "source": [
    "dff.groupby('FLAG_OWN_REALTY').count().show()"
   ]
  },
  {
   "cell_type": "code",
   "execution_count": 42,
   "metadata": {},
   "outputs": [
    {
     "data": {
      "text/plain": [
       "24871"
      ]
     },
     "execution_count": 42,
     "metadata": {},
     "output_type": "execute_result"
    }
   ],
   "source": [
    "dff.filter(dff['flag_own_realty']=='Y').count()"
   ]
  },
  {
   "cell_type": "code",
   "execution_count": 43,
   "metadata": {},
   "outputs": [
    {
     "name": "stdout",
     "output_type": "stream",
     "text": [
      "+-----------+-----+\n",
      "|code_gender|count|\n",
      "+-----------+-----+\n",
      "|          F|17067|\n",
      "|          M| 7804|\n",
      "+-----------+-----+\n",
      "\n"
     ]
    }
   ],
   "source": [
    "dff.filter(dff['flag_own_realty']=='Y').groupby('code_gender').count().show()"
   ]
  },
  {
   "cell_type": "code",
   "execution_count": 44,
   "metadata": {},
   "outputs": [],
   "source": [
    "homeownership = dff.filter(dff['flag_own_realty']=='Y').groupby('code_gender').count()\n",
    "homeownership = homeownership.toPandas()"
   ]
  },
  {
   "cell_type": "code",
   "execution_count": 45,
   "metadata": {},
   "outputs": [
    {
     "data": {
      "text/plain": [
       "<BarContainer object of 2 artists>"
      ]
     },
     "execution_count": 45,
     "metadata": {},
     "output_type": "execute_result"
    },
    {
     "data": {
      "image/png": "[encoded data removed]",
      "text/plain": [
       "<Figure size 432x288 with 1 Axes>"
      ]
     },
     "metadata": {
      "needs_background": "light"
     },
     "output_type": "display_data"
    }
   ],
   "source": [
    "plt.bar(homeownership['code_gender'], homeownership['count'])"
   ]
  },
  {
   "cell_type": "markdown",
   "metadata": {},
   "source": [
    "Homeownership among female members is higher than that in male members"
   ]
  },
  {
   "cell_type": "markdown",
   "metadata": {},
   "source": [
    "### Correlation between the customer's income level and education level"
   ]
  },
  {
   "cell_type": "code",
   "execution_count": 46,
   "metadata": {},
   "outputs": [
    {
     "data": {
      "text/plain": [
       "[('ID', 'int'),\n",
       " ('CODE_GENDER', 'string'),\n",
       " ('FLAG_OWN_CAR', 'string'),\n",
       " ('FLAG_OWN_REALTY', 'string'),\n",
       " ('CNT_CHILDREN', 'int'),\n",
       " ('AMT_INCOME_TOTAL', 'double'),\n",
       " ('NAME_INCOME_TYPE', 'string'),\n",
       " ('NAME_EDUCATION_TYPE', 'string'),\n",
       " ('NAME_FAMILY_STATUS', 'string'),\n",
       " ('NAME_HOUSING_TYPE', 'string'),\n",
       " ('DAYS_EMPLOYED', 'int'),\n",
       " ('FLAG_MOBIL', 'int'),\n",
       " ('FLAG_WORK_PHONE', 'int'),\n",
       " ('FLAG_PHONE', 'int'),\n",
       " ('FLAG_EMAIL', 'int'),\n",
       " ('OCCUPATION_TYPE', 'string'),\n",
       " ('CNT_FAM_MEMBERS', 'double'),\n",
       " ('target', 'int'),\n",
       " ('AGE', 'double')]"
      ]
     },
     "execution_count": 46,
     "metadata": {},
     "output_type": "execute_result"
    }
   ],
   "source": [
    "dff.dtypes"
   ]
  },
  {
   "cell_type": "code",
   "execution_count": 47,
   "metadata": {},
   "outputs": [],
   "source": [
    "numerical_features = [t[0] for t in dff.dtypes if t[1] == 'int' or t[1]=='double']\n",
    "df_numeric = dff.select(numerical_features).describe().toPandas().transpose()"
   ]
  },
  {
   "cell_type": "code",
   "execution_count": 48,
   "metadata": {},
   "outputs": [
    {
     "data": {
      "text/html": [
       "<div>\n",
       "<style scoped>\n",
       "    .dataframe tbody tr th:only-of-type {\n",
       "        vertical-align: middle;\n",
       "    }\n",
       "\n",
       "    .dataframe tbody tr th {\n",
       "        vertical-align: top;\n",
       "    }\n",
       "\n",
       "    .dataframe thead th {\n",
       "        text-align: right;\n",
       "    }\n",
       "</style>\n",
       "<table border=\"1\" class=\"dataframe\">\n",
       "  <thead>\n",
       "    <tr style=\"text-align: right;\">\n",
       "      <th></th>\n",
       "      <th>0</th>\n",
       "      <th>1</th>\n",
       "      <th>2</th>\n",
       "      <th>3</th>\n",
       "      <th>4</th>\n",
       "    </tr>\n",
       "  </thead>\n",
       "  <tbody>\n",
       "    <tr>\n",
       "      <th>summary</th>\n",
       "      <td>count</td>\n",
       "      <td>mean</td>\n",
       "      <td>stddev</td>\n",
       "      <td>min</td>\n",
       "      <td>max</td>\n",
       "    </tr>\n",
       "    <tr>\n",
       "      <th>ID</th>\n",
       "      <td>37073</td>\n",
       "      <td>5078309.728913225</td>\n",
       "      <td>41888.57701728924</td>\n",
       "      <td>5008804</td>\n",
       "      <td>5150487</td>\n",
       "    </tr>\n",
       "    <tr>\n",
       "      <th>CNT_CHILDREN</th>\n",
       "      <td>37073</td>\n",
       "      <td>0.43028619210746366</td>\n",
       "      <td>0.7423555652578169</td>\n",
       "      <td>0</td>\n",
       "      <td>19</td>\n",
       "    </tr>\n",
       "    <tr>\n",
       "      <th>AMT_INCOME_TOTAL</th>\n",
       "      <td>37073</td>\n",
       "      <td>186672.09548728185</td>\n",
       "      <td>101718.37229069641</td>\n",
       "      <td>27000.0</td>\n",
       "      <td>1575000.0</td>\n",
       "    </tr>\n",
       "    <tr>\n",
       "      <th>DAYS_EMPLOYED</th>\n",
       "      <td>37073</td>\n",
       "      <td>59361.74593369838</td>\n",
       "      <td>137730.5881819515</td>\n",
       "      <td>-15713</td>\n",
       "      <td>365243</td>\n",
       "    </tr>\n",
       "    <tr>\n",
       "      <th>FLAG_MOBIL</th>\n",
       "      <td>37073</td>\n",
       "      <td>1.0</td>\n",
       "      <td>0.0</td>\n",
       "      <td>1</td>\n",
       "      <td>1</td>\n",
       "    </tr>\n",
       "    <tr>\n",
       "      <th>FLAG_WORK_PHONE</th>\n",
       "      <td>37073</td>\n",
       "      <td>0.22582472419280877</td>\n",
       "      <td>0.41812992482962613</td>\n",
       "      <td>0</td>\n",
       "      <td>1</td>\n",
       "    </tr>\n",
       "    <tr>\n",
       "      <th>FLAG_PHONE</th>\n",
       "      <td>37073</td>\n",
       "      <td>0.2949046475871928</td>\n",
       "      <td>0.45600603657517297</td>\n",
       "      <td>0</td>\n",
       "      <td>1</td>\n",
       "    </tr>\n",
       "    <tr>\n",
       "      <th>FLAG_EMAIL</th>\n",
       "      <td>37073</td>\n",
       "      <td>0.08963396541957759</td>\n",
       "      <td>0.28566049565395685</td>\n",
       "      <td>0</td>\n",
       "      <td>1</td>\n",
       "    </tr>\n",
       "    <tr>\n",
       "      <th>CNT_FAM_MEMBERS</th>\n",
       "      <td>37073</td>\n",
       "      <td>2.1977989372319477</td>\n",
       "      <td>0.912061028219706</td>\n",
       "      <td>1.0</td>\n",
       "      <td>20.0</td>\n",
       "    </tr>\n",
       "    <tr>\n",
       "      <th>target</th>\n",
       "      <td>37073</td>\n",
       "      <td>0.01661586599411971</td>\n",
       "      <td>0.1278288689981352</td>\n",
       "      <td>0</td>\n",
       "      <td>1</td>\n",
       "    </tr>\n",
       "    <tr>\n",
       "      <th>AGE</th>\n",
       "      <td>37073</td>\n",
       "      <td>43.774903568634855</td>\n",
       "      <td>11.52193935914525</td>\n",
       "      <td>21.0</td>\n",
       "      <td>69.0</td>\n",
       "    </tr>\n",
       "  </tbody>\n",
       "</table>\n",
       "</div>"
      ],
      "text/plain": [
       "                      0                    1                    2        3  \\\n",
       "summary           count                 mean               stddev      min   \n",
       "ID                37073    5078309.728913225    41888.57701728924  5008804   \n",
       "CNT_CHILDREN      37073  0.43028619210746366   0.7423555652578169        0   \n",
       "AMT_INCOME_TOTAL  37073   186672.09548728185   101718.37229069641  27000.0   \n",
       "DAYS_EMPLOYED     37073    59361.74593369838    137730.5881819515   -15713   \n",
       "FLAG_MOBIL        37073                  1.0                  0.0        1   \n",
       "FLAG_WORK_PHONE   37073  0.22582472419280877  0.41812992482962613        0   \n",
       "FLAG_PHONE        37073   0.2949046475871928  0.45600603657517297        0   \n",
       "FLAG_EMAIL        37073  0.08963396541957759  0.28566049565395685        0   \n",
       "CNT_FAM_MEMBERS   37073   2.1977989372319477    0.912061028219706      1.0   \n",
       "target            37073  0.01661586599411971   0.1278288689981352        0   \n",
       "AGE               37073   43.774903568634855    11.52193935914525     21.0   \n",
       "\n",
       "                          4  \n",
       "summary                 max  \n",
       "ID                  5150487  \n",
       "CNT_CHILDREN             19  \n",
       "AMT_INCOME_TOTAL  1575000.0  \n",
       "DAYS_EMPLOYED        365243  \n",
       "FLAG_MOBIL                1  \n",
       "FLAG_WORK_PHONE           1  \n",
       "FLAG_PHONE                1  \n",
       "FLAG_EMAIL                1  \n",
       "CNT_FAM_MEMBERS        20.0  \n",
       "target                    1  \n",
       "AGE                    69.0  "
      ]
     },
     "execution_count": 48,
     "metadata": {},
     "output_type": "execute_result"
    }
   ],
   "source": [
    "df_numeric"
   ]
  },
  {
   "cell_type": "code",
   "execution_count": 49,
   "metadata": {},
   "outputs": [
    {
     "data": {
      "text/plain": [
       "['ID',\n",
       " 'CNT_CHILDREN',\n",
       " 'AMT_INCOME_TOTAL',\n",
       " 'DAYS_EMPLOYED',\n",
       " 'FLAG_MOBIL',\n",
       " 'FLAG_WORK_PHONE',\n",
       " 'FLAG_PHONE',\n",
       " 'FLAG_EMAIL',\n",
       " 'CNT_FAM_MEMBERS',\n",
       " 'target',\n",
       " 'AGE']"
      ]
     },
     "execution_count": 49,
     "metadata": {},
     "output_type": "execute_result"
    }
   ],
   "source": [
    "numerical_features"
   ]
  },
  {
   "cell_type": "code",
   "execution_count": 50,
   "metadata": {},
   "outputs": [
    {
     "data": {
      "text/html": [
       "<div>\n",
       "<style scoped>\n",
       "    .dataframe tbody tr th:only-of-type {\n",
       "        vertical-align: middle;\n",
       "    }\n",
       "\n",
       "    .dataframe tbody tr th {\n",
       "        vertical-align: top;\n",
       "    }\n",
       "\n",
       "    .dataframe thead th {\n",
       "        text-align: right;\n",
       "    }\n",
       "</style>\n",
       "<table border=\"1\" class=\"dataframe\">\n",
       "  <thead>\n",
       "    <tr style=\"text-align: right;\">\n",
       "      <th></th>\n",
       "      <th>ID</th>\n",
       "      <th>CNT_CHILDREN</th>\n",
       "      <th>AMT_INCOME_TOTAL</th>\n",
       "      <th>DAYS_EMPLOYED</th>\n",
       "      <th>FLAG_WORK_PHONE</th>\n",
       "      <th>FLAG_PHONE</th>\n",
       "      <th>FLAG_EMAIL</th>\n",
       "      <th>CNT_FAM_MEMBERS</th>\n",
       "      <th>AGE</th>\n",
       "      <th>target</th>\n",
       "    </tr>\n",
       "  </thead>\n",
       "  <tbody>\n",
       "    <tr>\n",
       "      <th>0</th>\n",
       "      <td>5009033</td>\n",
       "      <td>0</td>\n",
       "      <td>255150.0</td>\n",
       "      <td>365243</td>\n",
       "      <td>0</td>\n",
       "      <td>0</td>\n",
       "      <td>0</td>\n",
       "      <td>2.0</td>\n",
       "      <td>51.0</td>\n",
       "      <td>0</td>\n",
       "    </tr>\n",
       "    <tr>\n",
       "      <th>1</th>\n",
       "      <td>5009304</td>\n",
       "      <td>0</td>\n",
       "      <td>112500.0</td>\n",
       "      <td>365243</td>\n",
       "      <td>0</td>\n",
       "      <td>0</td>\n",
       "      <td>0</td>\n",
       "      <td>1.0</td>\n",
       "      <td>60.0</td>\n",
       "      <td>0</td>\n",
       "    </tr>\n",
       "    <tr>\n",
       "      <th>2</th>\n",
       "      <td>5009355</td>\n",
       "      <td>0</td>\n",
       "      <td>135000.0</td>\n",
       "      <td>-5273</td>\n",
       "      <td>1</td>\n",
       "      <td>1</td>\n",
       "      <td>0</td>\n",
       "      <td>2.0</td>\n",
       "      <td>54.0</td>\n",
       "      <td>0</td>\n",
       "    </tr>\n",
       "    <tr>\n",
       "      <th>3</th>\n",
       "      <td>5009429</td>\n",
       "      <td>0</td>\n",
       "      <td>198000.0</td>\n",
       "      <td>-1164</td>\n",
       "      <td>1</td>\n",
       "      <td>0</td>\n",
       "      <td>0</td>\n",
       "      <td>1.0</td>\n",
       "      <td>24.0</td>\n",
       "      <td>0</td>\n",
       "    </tr>\n",
       "    <tr>\n",
       "      <th>4</th>\n",
       "      <td>5010070</td>\n",
       "      <td>0</td>\n",
       "      <td>279000.0</td>\n",
       "      <td>-617</td>\n",
       "      <td>0</td>\n",
       "      <td>0</td>\n",
       "      <td>1</td>\n",
       "      <td>1.0</td>\n",
       "      <td>30.0</td>\n",
       "      <td>0</td>\n",
       "    </tr>\n",
       "    <tr>\n",
       "      <th>5</th>\n",
       "      <td>5010236</td>\n",
       "      <td>0</td>\n",
       "      <td>225000.0</td>\n",
       "      <td>-4331</td>\n",
       "      <td>0</td>\n",
       "      <td>0</td>\n",
       "      <td>0</td>\n",
       "      <td>2.0</td>\n",
       "      <td>45.0</td>\n",
       "      <td>0</td>\n",
       "    </tr>\n",
       "    <tr>\n",
       "      <th>6</th>\n",
       "      <td>5010338</td>\n",
       "      <td>0</td>\n",
       "      <td>216000.0</td>\n",
       "      <td>365243</td>\n",
       "      <td>0</td>\n",
       "      <td>0</td>\n",
       "      <td>0</td>\n",
       "      <td>2.0</td>\n",
       "      <td>63.0</td>\n",
       "      <td>0</td>\n",
       "    </tr>\n",
       "    <tr>\n",
       "      <th>7</th>\n",
       "      <td>5010511</td>\n",
       "      <td>1</td>\n",
       "      <td>157500.0</td>\n",
       "      <td>-4239</td>\n",
       "      <td>0</td>\n",
       "      <td>0</td>\n",
       "      <td>0</td>\n",
       "      <td>3.0</td>\n",
       "      <td>38.0</td>\n",
       "      <td>0</td>\n",
       "    </tr>\n",
       "    <tr>\n",
       "      <th>8</th>\n",
       "      <td>5010624</td>\n",
       "      <td>0</td>\n",
       "      <td>103500.0</td>\n",
       "      <td>365243</td>\n",
       "      <td>0</td>\n",
       "      <td>1</td>\n",
       "      <td>0</td>\n",
       "      <td>2.0</td>\n",
       "      <td>61.0</td>\n",
       "      <td>0</td>\n",
       "    </tr>\n",
       "    <tr>\n",
       "      <th>9</th>\n",
       "      <td>5010629</td>\n",
       "      <td>0</td>\n",
       "      <td>180000.0</td>\n",
       "      <td>-2017</td>\n",
       "      <td>0</td>\n",
       "      <td>0</td>\n",
       "      <td>0</td>\n",
       "      <td>1.0</td>\n",
       "      <td>53.0</td>\n",
       "      <td>0</td>\n",
       "    </tr>\n",
       "  </tbody>\n",
       "</table>\n",
       "</div>"
      ],
      "text/plain": [
       "        ID  CNT_CHILDREN  AMT_INCOME_TOTAL  DAYS_EMPLOYED  FLAG_WORK_PHONE  \\\n",
       "0  5009033             0          255150.0         365243                0   \n",
       "1  5009304             0          112500.0         365243                0   \n",
       "2  5009355             0          135000.0          -5273                1   \n",
       "3  5009429             0          198000.0          -1164                1   \n",
       "4  5010070             0          279000.0           -617                0   \n",
       "5  5010236             0          225000.0          -4331                0   \n",
       "6  5010338             0          216000.0         365243                0   \n",
       "7  5010511             1          157500.0          -4239                0   \n",
       "8  5010624             0          103500.0         365243                0   \n",
       "9  5010629             0          180000.0          -2017                0   \n",
       "\n",
       "   FLAG_PHONE  FLAG_EMAIL  CNT_FAM_MEMBERS   AGE  target  \n",
       "0           0           0              2.0  51.0       0  \n",
       "1           0           0              1.0  60.0       0  \n",
       "2           1           0              2.0  54.0       0  \n",
       "3           0           0              1.0  24.0       0  \n",
       "4           0           1              1.0  30.0       0  \n",
       "5           0           0              2.0  45.0       0  \n",
       "6           0           0              2.0  63.0       0  \n",
       "7           0           0              3.0  38.0       0  \n",
       "8           1           0              2.0  61.0       0  \n",
       "9           0           0              1.0  53.0       0  "
      ]
     },
     "execution_count": 50,
     "metadata": {},
     "output_type": "execute_result"
    }
   ],
   "source": [
    "df = dff.select(['ID',\n",
    " 'CNT_CHILDREN',\n",
    " 'AMT_INCOME_TOTAL',\n",
    " 'DAYS_EMPLOYED',\n",
    " 'FLAG_WORK_PHONE',\n",
    " 'FLAG_PHONE',\n",
    " 'FLAG_EMAIL',\n",
    " 'CNT_FAM_MEMBERS',\n",
    " 'AGE','target']).toPandas()\n",
    "df.head(10)"
   ]
  },
  {
   "cell_type": "code",
   "execution_count": 51,
   "metadata": {},
   "outputs": [
    {
     "data": {
      "image/png": "[encoded data removed]",
      "text/plain": [
       "<Figure size 720x360 with 2 Axes>"
      ]
     },
     "metadata": {
      "needs_background": "light"
     },
     "output_type": "display_data"
    }
   ],
   "source": [
    "# Generating the correlation matrix for all numerical features\n",
    "plt.figure(figsize=(10,5))\n",
    "sns.heatmap(df.corr(),annot=True)\n",
    "plt.show()"
   ]
  },
  {
   "cell_type": "markdown",
   "metadata": {},
   "source": [
    "As we can see, there are high negative correlations present in DAYS_EMPLOYED, AMT_INCOME_TOTAL, AGE, CNT_FAM_MEMBERS"
   ]
  },
  {
   "cell_type": "code",
   "execution_count": 52,
   "metadata": {},
   "outputs": [
    {
     "name": "stdout",
     "output_type": "stream",
     "text": [
      "+--------------------+\n",
      "| NAME_EDUCATION_TYPE|\n",
      "+--------------------+\n",
      "|     Academic degree|\n",
      "|   Incomplete higher|\n",
      "|Secondary / secon...|\n",
      "|     Lower secondary|\n",
      "|    Higher education|\n",
      "+--------------------+\n",
      "\n"
     ]
    }
   ],
   "source": [
    "dff.select('NAME_EDUCATION_TYPE').distinct().show()"
   ]
  },
  {
   "cell_type": "code",
   "execution_count": 53,
   "metadata": {},
   "outputs": [
    {
     "name": "stdout",
     "output_type": "stream",
     "text": [
      "+-------+-----------+------------+---------------+------------+----------------+--------------------+--------------------+--------------------+-----------------+-------------+----------+---------------+----------+----------+--------------------+---------------+------+----+-------------------------+\n",
      "|     ID|CODE_GENDER|FLAG_OWN_CAR|FLAG_OWN_REALTY|CNT_CHILDREN|AMT_INCOME_TOTAL|    NAME_INCOME_TYPE| NAME_EDUCATION_TYPE|  NAME_FAMILY_STATUS|NAME_HOUSING_TYPE|DAYS_EMPLOYED|FLAG_MOBIL|FLAG_WORK_PHONE|FLAG_PHONE|FLAG_EMAIL|     OCCUPATION_TYPE|CNT_FAM_MEMBERS|target| AGE|NAME_EDUCATION_TYPE_INDEX|\n",
      "+-------+-----------+------------+---------------+------------+----------------+--------------------+--------------------+--------------------+-----------------+-------------+----------+---------------+----------+----------+--------------------+---------------+------+----+-------------------------+\n",
      "|5009033|          F|           N|              N|           0|        255150.0|           Pensioner|   Incomplete higher|      Civil marriage| Rented apartment|       365243|         1|              0|         0|         0|                null|            2.0|     0|51.0|                      2.0|\n",
      "|5009304|          F|           N|              N|           0|        112500.0|           Pensioner|Secondary / secon...|               Widow|House / apartment|       365243|         1|              0|         0|         0|                null|            1.0|     0|60.0|                      0.0|\n",
      "|5009355|          F|           N|              N|           0|        135000.0|Commercial associate|Secondary / secon...|             Married|House / apartment|        -5273|         1|              1|         1|         0|            Laborers|            2.0|     0|54.0|                      0.0|\n",
      "|5009429|          M|           N|              N|           0|        198000.0|             Working|Secondary / secon...|Single / not married|     With parents|        -1164|         1|              1|         0|         0|            Laborers|            1.0|     0|24.0|                      0.0|\n",
      "|5010070|          F|           N|              Y|           0|        279000.0|       State servant|    Higher education|Single / not married|House / apartment|         -617|         1|              0|         0|         1|            Managers|            1.0|     0|30.0|                      1.0|\n",
      "|5010236|          M|           Y|              Y|           0|        225000.0|             Working|Secondary / secon...|             Married|House / apartment|        -4331|         1|              0|         0|         0|             Drivers|            2.0|     0|45.0|                      0.0|\n",
      "|5010338|          F|           N|              N|           0|        216000.0|           Pensioner|Secondary / secon...|             Married|House / apartment|       365243|         1|              0|         0|         0|                null|            2.0|     0|63.0|                      0.0|\n",
      "|5010511|          F|           Y|              Y|           1|        157500.0|Commercial associate|Secondary / secon...|             Married|House / apartment|        -4239|         1|              0|         0|         0|            Laborers|            3.0|     0|38.0|                      0.0|\n",
      "|5010624|          F|           N|              Y|           0|        103500.0|           Pensioner|   Incomplete higher|             Married|House / apartment|       365243|         1|              0|         1|         0|                null|            2.0|     0|61.0|                      2.0|\n",
      "|5010629|          F|           N|              Y|           0|        180000.0|             Working|Secondary / secon...|Single / not married|House / apartment|        -2017|         1|              0|         0|         0|                null|            1.0|     0|53.0|                      0.0|\n",
      "|5011029|          F|           N|              Y|           0|        292500.0|             Working|Secondary / secon...|      Civil marriage|House / apartment|        -1013|         1|              0|         0|         1|         Sales staff|            2.0|     0|45.0|                      0.0|\n",
      "|5018442|          F|           N|              Y|           0|        202500.0|             Working|Secondary / secon...|               Widow|House / apartment|        -5416|         1|              0|         0|         0|          Core staff|            1.0|     0|55.0|                      0.0|\n",
      "|5021819|          F|           Y|              Y|           1|         67500.0|             Working|Secondary / secon...|             Married|House / apartment|        -1678|         1|              0|         1|         1|       Cooking staff|            3.0|     0|31.0|                      0.0|\n",
      "|5021944|          F|           Y|              Y|           0|        445500.0|Commercial associate|    Higher education|             Married|House / apartment|         -456|         1|              0|         0|         0|            Managers|            2.0|     0|34.0|                      1.0|\n",
      "|5021994|          M|           Y|              Y|           0|        135000.0|             Working|    Higher education|             Married|House / apartment|         -852|         1|              0|         0|         0|         Sales staff|            2.0|     0|25.0|                      1.0|\n",
      "|5022024|          M|           Y|              Y|           0|        112500.0|             Working|Secondary / secon...|Single / not married|House / apartment|        -1613|         1|              0|         0|         0|                null|            1.0|     0|27.0|                      0.0|\n",
      "|5022285|          F|           N|              N|           1|        157500.0|             Working|Secondary / secon...|      Civil marriage|House / apartment|        -3500|         1|              0|         0|         0|       Cooking staff|            3.0|     0|41.0|                      0.0|\n",
      "|5022944|          F|           Y|              N|           0|        202500.0|Commercial associate|   Incomplete higher|           Separated|House / apartment|        -1344|         1|              0|         1|         1|         Accountants|            1.0|     0|39.0|                      2.0|\n",
      "|5023011|          M|           Y|              N|           0|        360000.0|             Working|Secondary / secon...|             Married|House / apartment|        -2457|         1|              0|         0|         0|Private service s...|            2.0|     0|31.0|                      0.0|\n",
      "|5023430|          F|           N|              Y|           0|        108000.0|           Pensioner|Secondary / secon...|             Married|House / apartment|       365243|         1|              0|         1|         0|                null|            2.0|     0|63.0|                      0.0|\n",
      "+-------+-----------+------------+---------------+------------+----------------+--------------------+--------------------+--------------------+-----------------+-------------+----------+---------------+----------+----------+--------------------+---------------+------+----+-------------------------+\n",
      "only showing top 20 rows\n",
      "\n"
     ]
    }
   ],
   "source": [
    "# Comverting ordinal categorial variable to numerical type for correlation matrix\n",
    "from pyspark.ml.feature import (VectorAssembler,VectorIndexer,OneHotEncoder,StringIndexer)\n",
    "\n",
    "indexer = StringIndexer(inputCol=\"NAME_EDUCATION_TYPE\", outputCol=\"NAME_EDUCATION_TYPE_INDEX\")\n",
    "indexed = indexer.fit(dff).transform(dff)\n",
    "indexed.show()"
   ]
  },
  {
   "cell_type": "code",
   "execution_count": 54,
   "metadata": {},
   "outputs": [
    {
     "name": "stdout",
     "output_type": "stream",
     "text": [
      "+-------------------------+--------------------+\n",
      "|NAME_EDUCATION_TYPE_INDEX| NAME_EDUCATION_TYPE|\n",
      "+-------------------------+--------------------+\n",
      "|                      3.0|     Lower secondary|\n",
      "|                      4.0|     Academic degree|\n",
      "|                      2.0|   Incomplete higher|\n",
      "|                      1.0|    Higher education|\n",
      "|                      0.0|Secondary / secon...|\n",
      "+-------------------------+--------------------+\n",
      "\n"
     ]
    }
   ],
   "source": [
    "indexed.select('NAME_EDUCATION_TYPE_INDEX','NAME_EDUCATION_TYPE').distinct().show()"
   ]
  },
  {
   "cell_type": "code",
   "execution_count": 55,
   "metadata": {},
   "outputs": [],
   "source": [
    "df_indexed = indexed.toPandas()"
   ]
  },
  {
   "cell_type": "code",
   "execution_count": 56,
   "metadata": {},
   "outputs": [
    {
     "data": {
      "text/plain": [
       "<matplotlib.collections.PathCollection at 0x7f3beea68ad0>"
      ]
     },
     "execution_count": 56,
     "metadata": {},
     "output_type": "execute_result"
    },
    {
     "data": {
      "image/png": "[encoded data removed]",
      "text/plain": [
       "<Figure size 432x288 with 1 Axes>"
      ]
     },
     "metadata": {
      "needs_background": "light"
     },
     "output_type": "display_data"
    }
   ],
   "source": [
    "plt.scatter(df_indexed['NAME_EDUCATION_TYPE_INDEX'],df_indexed['AMT_INCOME_TOTAL'])"
   ]
  },
  {
   "cell_type": "markdown",
   "metadata": {},
   "source": [
    "Customers with a higher education have the greatest total income"
   ]
  },
  {
   "cell_type": "markdown",
   "metadata": {},
   "source": [
    "### The average and median salary of the applicant base"
   ]
  },
  {
   "cell_type": "code",
   "execution_count": 57,
   "metadata": {},
   "outputs": [
    {
     "name": "stdout",
     "output_type": "stream",
     "text": [
      "+-------+------------------+\n",
      "|summary|  AMT_INCOME_TOTAL|\n",
      "+-------+------------------+\n",
      "|  count|             37073|\n",
      "|   mean|186672.09548728185|\n",
      "| stddev|101718.37229069641|\n",
      "|    min|           27000.0|\n",
      "|    max|         1575000.0|\n",
      "+-------+------------------+\n",
      "\n"
     ]
    }
   ],
   "source": [
    "# Mean of the total income\n",
    "dff.select('AMT_INCOME_TOTAL').describe().show()"
   ]
  },
  {
   "cell_type": "code",
   "execution_count": 58,
   "metadata": {},
   "outputs": [
    {
     "data": {
      "text/html": [
       "<div>\n",
       "<style scoped>\n",
       "    .dataframe tbody tr th:only-of-type {\n",
       "        vertical-align: middle;\n",
       "    }\n",
       "\n",
       "    .dataframe tbody tr th {\n",
       "        vertical-align: top;\n",
       "    }\n",
       "\n",
       "    .dataframe thead th {\n",
       "        text-align: right;\n",
       "    }\n",
       "</style>\n",
       "<table border=\"1\" class=\"dataframe\">\n",
       "  <thead>\n",
       "    <tr style=\"text-align: right;\">\n",
       "      <th></th>\n",
       "      <th>AMT_INCOME_TOTAL</th>\n",
       "    </tr>\n",
       "  </thead>\n",
       "  <tbody>\n",
       "    <tr>\n",
       "      <th>0</th>\n",
       "      <td>255150.0</td>\n",
       "    </tr>\n",
       "    <tr>\n",
       "      <th>1</th>\n",
       "      <td>112500.0</td>\n",
       "    </tr>\n",
       "    <tr>\n",
       "      <th>2</th>\n",
       "      <td>135000.0</td>\n",
       "    </tr>\n",
       "    <tr>\n",
       "      <th>3</th>\n",
       "      <td>198000.0</td>\n",
       "    </tr>\n",
       "    <tr>\n",
       "      <th>4</th>\n",
       "      <td>279000.0</td>\n",
       "    </tr>\n",
       "    <tr>\n",
       "      <th>...</th>\n",
       "      <td>...</td>\n",
       "    </tr>\n",
       "    <tr>\n",
       "      <th>37068</th>\n",
       "      <td>202500.0</td>\n",
       "    </tr>\n",
       "    <tr>\n",
       "      <th>37069</th>\n",
       "      <td>225000.0</td>\n",
       "    </tr>\n",
       "    <tr>\n",
       "      <th>37070</th>\n",
       "      <td>180000.0</td>\n",
       "    </tr>\n",
       "    <tr>\n",
       "      <th>37071</th>\n",
       "      <td>225000.0</td>\n",
       "    </tr>\n",
       "    <tr>\n",
       "      <th>37072</th>\n",
       "      <td>54000.0</td>\n",
       "    </tr>\n",
       "  </tbody>\n",
       "</table>\n",
       "<p>37073 rows × 1 columns</p>\n",
       "</div>"
      ],
      "text/plain": [
       "       AMT_INCOME_TOTAL\n",
       "0              255150.0\n",
       "1              112500.0\n",
       "2              135000.0\n",
       "3              198000.0\n",
       "4              279000.0\n",
       "...                 ...\n",
       "37068          202500.0\n",
       "37069          225000.0\n",
       "37070          180000.0\n",
       "37071          225000.0\n",
       "37072           54000.0\n",
       "\n",
       "[37073 rows x 1 columns]"
      ]
     },
     "execution_count": 58,
     "metadata": {},
     "output_type": "execute_result"
    }
   ],
   "source": [
    "df_income = dff.select('AMT_INCOME_TOTAL').toPandas()\n",
    "df_income"
   ]
  },
  {
   "cell_type": "code",
   "execution_count": 59,
   "metadata": {},
   "outputs": [
    {
     "data": {
      "image/png": "[encoded data removed]",
      "text/plain": [
       "<Figure size 432x288 with 1 Axes>"
      ]
     },
     "metadata": {
      "needs_background": "light"
     },
     "output_type": "display_data"
    }
   ],
   "source": [
    "# Creating a boxplot for income to check for outliers\n",
    "plt.boxplot(df_income)\n",
    "plt.show()"
   ]
  },
  {
   "cell_type": "code",
   "execution_count": 60,
   "metadata": {},
   "outputs": [
    {
     "data": {
      "text/plain": [
       "157500.0"
      ]
     },
     "execution_count": 60,
     "metadata": {},
     "output_type": "execute_result"
    }
   ],
   "source": [
    "import statistics\n",
    "# Median of the total income using statistics library\n",
    "statistics.median(application_records['AMT_INCOME_TOTAL'])"
   ]
  },
  {
   "cell_type": "markdown",
   "metadata": {},
   "source": [
    "The average of salary is 186672 and median is 15700.0\n"
   ]
  },
  {
   "cell_type": "code",
   "execution_count": 61,
   "metadata": {},
   "outputs": [
    {
     "data": {
      "text/html": [
       "<div>\n",
       "<style scoped>\n",
       "    .dataframe tbody tr th:only-of-type {\n",
       "        vertical-align: middle;\n",
       "    }\n",
       "\n",
       "    .dataframe tbody tr th {\n",
       "        vertical-align: top;\n",
       "    }\n",
       "\n",
       "    .dataframe thead th {\n",
       "        text-align: right;\n",
       "    }\n",
       "</style>\n",
       "<table border=\"1\" class=\"dataframe\">\n",
       "  <thead>\n",
       "    <tr style=\"text-align: right;\">\n",
       "      <th></th>\n",
       "      <th>AMT_INCOME_TOTAL</th>\n",
       "    </tr>\n",
       "  </thead>\n",
       "  <tbody>\n",
       "    <tr>\n",
       "      <th>0.010</th>\n",
       "      <td>54000.0</td>\n",
       "    </tr>\n",
       "    <tr>\n",
       "      <th>0.100</th>\n",
       "      <td>90000.0</td>\n",
       "    </tr>\n",
       "    <tr>\n",
       "      <th>0.200</th>\n",
       "      <td>112500.0</td>\n",
       "    </tr>\n",
       "    <tr>\n",
       "      <th>0.300</th>\n",
       "      <td>135000.0</td>\n",
       "    </tr>\n",
       "    <tr>\n",
       "      <th>0.500</th>\n",
       "      <td>157500.0</td>\n",
       "    </tr>\n",
       "    <tr>\n",
       "      <th>0.700</th>\n",
       "      <td>216000.0</td>\n",
       "    </tr>\n",
       "    <tr>\n",
       "      <th>0.900</th>\n",
       "      <td>315000.0</td>\n",
       "    </tr>\n",
       "    <tr>\n",
       "      <th>0.950</th>\n",
       "      <td>360000.0</td>\n",
       "    </tr>\n",
       "    <tr>\n",
       "      <th>0.990</th>\n",
       "      <td>560250.0</td>\n",
       "    </tr>\n",
       "    <tr>\n",
       "      <th>0.999</th>\n",
       "      <td>900000.0</td>\n",
       "    </tr>\n",
       "    <tr>\n",
       "      <th>1.000</th>\n",
       "      <td>1575000.0</td>\n",
       "    </tr>\n",
       "  </tbody>\n",
       "</table>\n",
       "</div>"
      ],
      "text/plain": [
       "       AMT_INCOME_TOTAL\n",
       "0.010           54000.0\n",
       "0.100           90000.0\n",
       "0.200          112500.0\n",
       "0.300          135000.0\n",
       "0.500          157500.0\n",
       "0.700          216000.0\n",
       "0.900          315000.0\n",
       "0.950          360000.0\n",
       "0.990          560250.0\n",
       "0.999          900000.0\n",
       "1.000         1575000.0"
      ]
     },
     "execution_count": 61,
     "metadata": {},
     "output_type": "execute_result"
    }
   ],
   "source": [
    "# Checking quantiles in income\n",
    "df_income.quantile([0.01, 0.1, 0.2, 0.3, 0.5, 0.7, 0.9, 0.95, 0.99, 0.999, 1])"
   ]
  },
  {
   "cell_type": "markdown",
   "metadata": {},
   "source": [
    "There are few outliers present in income column. 99% of income lies within the range 900000. "
   ]
  },
  {
   "cell_type": "code",
   "execution_count": 62,
   "metadata": {},
   "outputs": [
    {
     "data": {
      "text/plain": [
       "(368, 1)"
      ]
     },
     "execution_count": 62,
     "metadata": {},
     "output_type": "execute_result"
    }
   ],
   "source": [
    "df_income[df_income['AMT_INCOME_TOTAL'] > df_income['AMT_INCOME_TOTAL'].quantile(0.99)].shape"
   ]
  },
  {
   "cell_type": "markdown",
   "metadata": {},
   "source": [
    "### Proportion of good and bad customers who own cars "
   ]
  },
  {
   "cell_type": "code",
   "execution_count": 63,
   "metadata": {},
   "outputs": [
    {
     "name": "stdout",
     "output_type": "stream",
     "text": [
      "+------------+\n",
      "|flag_own_car|\n",
      "+------------+\n",
      "|           Y|\n",
      "|           N|\n",
      "+------------+\n",
      "\n"
     ]
    }
   ],
   "source": [
    "dff.select('flag_own_car').distinct().show()"
   ]
  },
  {
   "cell_type": "code",
   "execution_count": 64,
   "metadata": {},
   "outputs": [
    {
     "data": {
      "text/plain": [
       "14067"
      ]
     },
     "execution_count": 64,
     "metadata": {},
     "output_type": "execute_result"
    }
   ],
   "source": [
    "dff.filter(dff['flag_own_car']=='Y').count()"
   ]
  },
  {
   "cell_type": "code",
   "execution_count": 65,
   "metadata": {},
   "outputs": [
    {
     "name": "stdout",
     "output_type": "stream",
     "text": [
      "+------+-----+\n",
      "|target|count|\n",
      "+------+-----+\n",
      "|     1|  224|\n",
      "|     0|13843|\n",
      "+------+-----+\n",
      "\n"
     ]
    }
   ],
   "source": [
    "car_owners = dff.filter(dff['flag_own_car']=='Y').groupby('target').count()\n",
    "car_owners.show()"
   ]
  },
  {
   "cell_type": "code",
   "execution_count": 66,
   "metadata": {},
   "outputs": [
    {
     "name": "stdout",
     "output_type": "stream",
     "text": [
      "+------+-----+-------------+\n",
      "|target|count|Customer Type|\n",
      "+------+-----+-------------+\n",
      "|     1|  224|          bad|\n",
      "|     0|13843|         good|\n",
      "+------+-----+-------------+\n",
      "\n"
     ]
    }
   ],
   "source": [
    "car_owners = car_owners.withColumn('Customer Type', when(col('target')==1,'bad').otherwise('good'))\n",
    "car_owners.show()"
   ]
  },
  {
   "cell_type": "code",
   "execution_count": 67,
   "metadata": {},
   "outputs": [],
   "source": [
    "car_owners = car_owners.toPandas()"
   ]
  },
  {
   "cell_type": "code",
   "execution_count": 68,
   "metadata": {},
   "outputs": [
    {
     "data": {
      "text/plain": [
       "<BarContainer object of 2 artists>"
      ]
     },
     "execution_count": 68,
     "metadata": {},
     "output_type": "execute_result"
    },
    {
     "data": {
      "image/png": "[encoded data removed]",
      "text/plain": [
       "<Figure size 432x288 with 1 Axes>"
      ]
     },
     "metadata": {
      "needs_background": "light"
     },
     "output_type": "display_data"
    }
   ],
   "source": [
    "plt.bar(car_owners['Customer Type'],car_owners['count'])"
   ]
  },
  {
   "cell_type": "markdown",
   "metadata": {},
   "source": [
    "Proportion of good customers who own car is higher than that of bad customers"
   ]
  },
  {
   "cell_type": "markdown",
   "metadata": {},
   "source": [
    "### Proportion of bad customers living on rent compared to the rest of the population"
   ]
  },
  {
   "cell_type": "code",
   "execution_count": 69,
   "metadata": {},
   "outputs": [
    {
     "name": "stdout",
     "output_type": "stream",
     "text": [
      "+-------------------+-----+\n",
      "|  NAME_HOUSING_TYPE|count|\n",
      "+-------------------+-----+\n",
      "|  House / apartment|33088|\n",
      "|Municipal apartment| 1158|\n",
      "|    Co-op apartment|  171|\n",
      "|   Rented apartment|  583|\n",
      "|   Office apartment|  271|\n",
      "|       With parents| 1802|\n",
      "+-------------------+-----+\n",
      "\n"
     ]
    }
   ],
   "source": [
    "housing_type = dff.groupby('NAME_HOUSING_TYPE').count().show()"
   ]
  },
  {
   "cell_type": "code",
   "execution_count": 70,
   "metadata": {},
   "outputs": [
    {
     "name": "stdout",
     "output_type": "stream",
     "text": [
      "+------+-----+\n",
      "|target|count|\n",
      "+------+-----+\n",
      "|     1|    8|\n",
      "|     0|  575|\n",
      "+------+-----+\n",
      "\n"
     ]
    }
   ],
   "source": [
    "housing = dff.filter(dff['NAME_HOUSING_TYPE']=='Rented apartment').groupby('target').count().show()"
   ]
  },
  {
   "cell_type": "markdown",
   "metadata": {},
   "source": [
    "Proportion of bad customers living on rented apartments is not higher than the rest of the population"
   ]
  },
  {
   "cell_type": "markdown",
   "metadata": {},
   "source": [
    "### Proportion of bad customers for single customers v/s married customers"
   ]
  },
  {
   "cell_type": "code",
   "execution_count": 71,
   "metadata": {},
   "outputs": [],
   "source": [
    "df_pandas = dff.toPandas()"
   ]
  },
  {
   "cell_type": "code",
   "execution_count": 72,
   "metadata": {},
   "outputs": [
    {
     "data": {
      "text/html": [
       "<div>\n",
       "<style scoped>\n",
       "    .dataframe tbody tr th:only-of-type {\n",
       "        vertical-align: middle;\n",
       "    }\n",
       "\n",
       "    .dataframe tbody tr th {\n",
       "        vertical-align: top;\n",
       "    }\n",
       "\n",
       "    .dataframe thead th {\n",
       "        text-align: right;\n",
       "    }\n",
       "</style>\n",
       "<table border=\"1\" class=\"dataframe\">\n",
       "  <thead>\n",
       "    <tr style=\"text-align: right;\">\n",
       "      <th>target</th>\n",
       "      <th>0</th>\n",
       "      <th>1</th>\n",
       "      <th>All</th>\n",
       "    </tr>\n",
       "    <tr>\n",
       "      <th>NAME_FAMILY_STATUS</th>\n",
       "      <th></th>\n",
       "      <th></th>\n",
       "      <th></th>\n",
       "    </tr>\n",
       "  </thead>\n",
       "  <tbody>\n",
       "    <tr>\n",
       "      <th>Civil marriage</th>\n",
       "      <td>2945</td>\n",
       "      <td>46</td>\n",
       "      <td>2991</td>\n",
       "    </tr>\n",
       "    <tr>\n",
       "      <th>Married</th>\n",
       "      <td>25048</td>\n",
       "      <td>393</td>\n",
       "      <td>25441</td>\n",
       "    </tr>\n",
       "    <tr>\n",
       "      <th>Separated</th>\n",
       "      <td>2103</td>\n",
       "      <td>31</td>\n",
       "      <td>2134</td>\n",
       "    </tr>\n",
       "    <tr>\n",
       "      <th>Single / not married</th>\n",
       "      <td>4829</td>\n",
       "      <td>101</td>\n",
       "      <td>4930</td>\n",
       "    </tr>\n",
       "    <tr>\n",
       "      <th>Widow</th>\n",
       "      <td>1532</td>\n",
       "      <td>45</td>\n",
       "      <td>1577</td>\n",
       "    </tr>\n",
       "    <tr>\n",
       "      <th>All</th>\n",
       "      <td>36457</td>\n",
       "      <td>616</td>\n",
       "      <td>37073</td>\n",
       "    </tr>\n",
       "  </tbody>\n",
       "</table>\n",
       "</div>"
      ],
      "text/plain": [
       "target                    0    1    All\n",
       "NAME_FAMILY_STATUS                     \n",
       "Civil marriage         2945   46   2991\n",
       "Married               25048  393  25441\n",
       "Separated              2103   31   2134\n",
       "Single / not married   4829  101   4930\n",
       "Widow                  1532   45   1577\n",
       "All                   36457  616  37073"
      ]
     },
     "execution_count": 72,
     "metadata": {},
     "output_type": "execute_result"
    }
   ],
   "source": [
    "# Finding the distribution of good and bad customers for various categories of NAME_FAMILY_STATUS\n",
    "pd.crosstab(index=df_pandas['NAME_FAMILY_STATUS'], columns=df_pandas['target'], margins = True)"
   ]
  },
  {
   "cell_type": "markdown",
   "metadata": {},
   "source": [
    "Single customers who are delinquent(bad-1) are 101 out of total 4930 single customers.\n",
    "Married customers who are delinquent(bad-1) are 393 out of total 25441 married customers."
   ]
  },
  {
   "cell_type": "code",
   "execution_count": 73,
   "metadata": {},
   "outputs": [
    {
     "name": "stdout",
     "output_type": "stream",
     "text": [
      "+--------------------+-----+\n",
      "|  NAME_FAMILY_STATUS|count|\n",
      "+--------------------+-----+\n",
      "|           Separated| 2134|\n",
      "|             Married|25441|\n",
      "|Single / not married| 4930|\n",
      "|               Widow| 1577|\n",
      "|      Civil marriage| 2991|\n",
      "+--------------------+-----+\n",
      "\n"
     ]
    }
   ],
   "source": [
    "marital_status = dff.groupby(dff['NAME_FAMILY_STATUS']).count()\n",
    "marital_status.show()"
   ]
  },
  {
   "cell_type": "code",
   "execution_count": 74,
   "metadata": {},
   "outputs": [
    {
     "name": "stdout",
     "output_type": "stream",
     "text": [
      "+--------------------+-----+\n",
      "|  NAME_FAMILY_STATUS|count|\n",
      "+--------------------+-----+\n",
      "|Single / not married| 4930|\n",
      "+--------------------+-----+\n",
      "\n"
     ]
    }
   ],
   "source": [
    "marital_status.filter(marital_status['NAME_FAMILY_STATUS']=='Single / not married').show()"
   ]
  },
  {
   "cell_type": "code",
   "execution_count": 75,
   "metadata": {},
   "outputs": [
    {
     "name": "stdout",
     "output_type": "stream",
     "text": [
      "+------------------+-----+\n",
      "|NAME_FAMILY_STATUS|count|\n",
      "+------------------+-----+\n",
      "|           Married|25441|\n",
      "+------------------+-----+\n",
      "\n"
     ]
    }
   ],
   "source": [
    "marital_status.filter(marital_status['NAME_FAMILY_STATUS']=='Married').show()"
   ]
  },
  {
   "cell_type": "code",
   "execution_count": 76,
   "metadata": {},
   "outputs": [
    {
     "name": "stdout",
     "output_type": "stream",
     "text": [
      "+------+-----+\n",
      "|target|count|\n",
      "+------+-----+\n",
      "|     1|  101|\n",
      "|     0| 4829|\n",
      "+------+-----+\n",
      "\n"
     ]
    }
   ],
   "source": [
    "single_target = dff.filter(dff['NAME_FAMILY_STATUS']=='Single / not married').groupby('target').count()\n",
    "single_target.show()"
   ]
  },
  {
   "cell_type": "code",
   "execution_count": 77,
   "metadata": {},
   "outputs": [
    {
     "name": "stdout",
     "output_type": "stream",
     "text": [
      "+------+-----+------------------+\n",
      "|target|count|        proportion|\n",
      "+------+-----+------------------+\n",
      "|     1|  101|0.0204868154158215|\n",
      "|     0| 4829|0.9795131845841785|\n",
      "+------+-----+------------------+\n",
      "\n"
     ]
    }
   ],
   "source": [
    "single_target.withColumn('proportion', col('count')/4930).show()"
   ]
  },
  {
   "cell_type": "code",
   "execution_count": 78,
   "metadata": {},
   "outputs": [
    {
     "name": "stdout",
     "output_type": "stream",
     "text": [
      "+------+-----+\n",
      "|target|count|\n",
      "+------+-----+\n",
      "|     1|  393|\n",
      "|     0|25048|\n",
      "+------+-----+\n",
      "\n"
     ]
    }
   ],
   "source": [
    "married_target = dff.filter(dff['NAME_FAMILY_STATUS']=='Married').groupby('target').count()\n",
    "married_target.show()"
   ]
  },
  {
   "cell_type": "code",
   "execution_count": 79,
   "metadata": {},
   "outputs": [
    {
     "name": "stdout",
     "output_type": "stream",
     "text": [
      "+------+-----+--------------------+\n",
      "|target|count|          proportion|\n",
      "+------+-----+--------------------+\n",
      "|     1|  393|0.015447505994261233|\n",
      "|     0|25048|  0.9845524940057387|\n",
      "+------+-----+--------------------+\n",
      "\n"
     ]
    }
   ],
   "source": [
    "married_target.withColumn('proportion', col('count')/25441).show()"
   ]
  },
  {
   "cell_type": "markdown",
   "metadata": {},
   "source": [
    "Proportion of single bad customers (0.02) is comparable to that of married bad customers (0.015) with the former being a little higher than the latter."
   ]
  },
  {
   "cell_type": "markdown",
   "metadata": {},
   "source": [
    "## Handling NULL values"
   ]
  },
  {
   "cell_type": "code",
   "execution_count": 80,
   "metadata": {},
   "outputs": [
    {
     "name": "stdout",
     "output_type": "stream",
     "text": [
      "+---+-----------+------------+---------------+------------+----------------+----------------+-------------------+------------------+-----------------+-------------+----------+---------------+----------+----------+---------------+---------------+------+---+\n",
      "| ID|CODE_GENDER|FLAG_OWN_CAR|FLAG_OWN_REALTY|CNT_CHILDREN|AMT_INCOME_TOTAL|NAME_INCOME_TYPE|NAME_EDUCATION_TYPE|NAME_FAMILY_STATUS|NAME_HOUSING_TYPE|DAYS_EMPLOYED|FLAG_MOBIL|FLAG_WORK_PHONE|FLAG_PHONE|FLAG_EMAIL|OCCUPATION_TYPE|CNT_FAM_MEMBERS|target|AGE|\n",
      "+---+-----------+------------+---------------+------------+----------------+----------------+-------------------+------------------+-----------------+-------------+----------+---------------+----------+----------+---------------+---------------+------+---+\n",
      "|  0|          0|           0|              0|           0|               0|               0|                  0|                 0|                0|            0|         0|              0|         0|         0|          11517|              0|     0|  0|\n",
      "+---+-----------+------------+---------------+------------+----------------+----------------+-------------------+------------------+-----------------+-------------+----------+---------------+----------+----------+---------------+---------------+------+---+\n",
      "\n"
     ]
    }
   ],
   "source": [
    "# Checking for null values in all columns of dataset\n",
    "dff.select([count(when(isnull(c), c)).alias(c) for c in dff.columns]).show()"
   ]
  },
  {
   "cell_type": "markdown",
   "metadata": {},
   "source": [
    "Only occupation has null values."
   ]
  },
  {
   "cell_type": "code",
   "execution_count": 81,
   "metadata": {},
   "outputs": [
    {
     "name": "stdout",
     "output_type": "stream",
     "text": [
      "+--------------------+\n",
      "|     OCCUPATION_TYPE|\n",
      "+--------------------+\n",
      "|                null|\n",
      "|            Managers|\n",
      "|            HR staff|\n",
      "|      Medicine staff|\n",
      "|         Accountants|\n",
      "|            Laborers|\n",
      "|      Cleaning staff|\n",
      "|Private service s...|\n",
      "|             Drivers|\n",
      "|         Sales staff|\n",
      "|       Realty agents|\n",
      "|            IT staff|\n",
      "|      Security staff|\n",
      "|         Secretaries|\n",
      "|  Low-skill Laborers|\n",
      "|          Core staff|\n",
      "|       Cooking staff|\n",
      "|High skill tech s...|\n",
      "|Waiters/barmen staff|\n",
      "+--------------------+\n",
      "\n"
     ]
    }
   ],
   "source": [
    "dff.select('OCCUPATION_TYPE').distinct().show()"
   ]
  },
  {
   "cell_type": "code",
   "execution_count": 82,
   "metadata": {},
   "outputs": [
    {
     "name": "stdout",
     "output_type": "stream",
     "text": [
      "+--------------------+-----+\n",
      "|     OCCUPATION_TYPE|count|\n",
      "+--------------------+-----+\n",
      "|                null|11517|\n",
      "|            Managers| 3059|\n",
      "|            HR staff|   86|\n",
      "|      Medicine staff| 1217|\n",
      "|         Accountants| 1264|\n",
      "|            Laborers| 6310|\n",
      "|      Cleaning staff|  556|\n",
      "|Private service s...|  346|\n",
      "|             Drivers| 2187|\n",
      "|         Sales staff| 3530|\n",
      "|       Realty agents|   79|\n",
      "|            IT staff|   63|\n",
      "|      Security staff|  605|\n",
      "|         Secretaries|  153|\n",
      "|  Low-skill Laborers|  183|\n",
      "|          Core staff| 3665|\n",
      "|       Cooking staff|  664|\n",
      "|High skill tech s...| 1413|\n",
      "|Waiters/barmen staff|  176|\n",
      "+--------------------+-----+\n",
      "\n"
     ]
    }
   ],
   "source": [
    "dff.groupby('OCCUPATION_TYPE').count().show()"
   ]
  },
  {
   "cell_type": "code",
   "execution_count": 83,
   "metadata": {},
   "outputs": [],
   "source": [
    "# Removing the null rows in OCCUPATION as they have the largest proportion of occupations\n",
    "dff = dff.dropna(subset = 'OCCUPATION_TYPE')"
   ]
  },
  {
   "cell_type": "code",
   "execution_count": 84,
   "metadata": {},
   "outputs": [
    {
     "name": "stdout",
     "output_type": "stream",
     "text": [
      "+--------------------+\n",
      "|     OCCUPATION_TYPE|\n",
      "+--------------------+\n",
      "|            Managers|\n",
      "|            HR staff|\n",
      "|      Medicine staff|\n",
      "|         Accountants|\n",
      "|            Laborers|\n",
      "|      Cleaning staff|\n",
      "|Private service s...|\n",
      "|             Drivers|\n",
      "|         Sales staff|\n",
      "|       Realty agents|\n",
      "|            IT staff|\n",
      "|      Security staff|\n",
      "|         Secretaries|\n",
      "|  Low-skill Laborers|\n",
      "|          Core staff|\n",
      "|       Cooking staff|\n",
      "|High skill tech s...|\n",
      "|Waiters/barmen staff|\n",
      "+--------------------+\n",
      "\n"
     ]
    }
   ],
   "source": [
    "dff.select('OCCUPATION_TYPE').distinct().show()"
   ]
  },
  {
   "cell_type": "markdown",
   "metadata": {},
   "source": [
    "## Separating categorical variables form numerical variables"
   ]
  },
  {
   "cell_type": "code",
   "execution_count": 85,
   "metadata": {},
   "outputs": [
    {
     "name": "stdout",
     "output_type": "stream",
     "text": [
      "root\n",
      " |-- ID: integer (nullable = true)\n",
      " |-- CODE_GENDER: string (nullable = true)\n",
      " |-- FLAG_OWN_CAR: string (nullable = true)\n",
      " |-- FLAG_OWN_REALTY: string (nullable = true)\n",
      " |-- CNT_CHILDREN: integer (nullable = true)\n",
      " |-- AMT_INCOME_TOTAL: double (nullable = true)\n",
      " |-- NAME_INCOME_TYPE: string (nullable = true)\n",
      " |-- NAME_EDUCATION_TYPE: string (nullable = true)\n",
      " |-- NAME_FAMILY_STATUS: string (nullable = true)\n",
      " |-- NAME_HOUSING_TYPE: string (nullable = true)\n",
      " |-- DAYS_EMPLOYED: integer (nullable = true)\n",
      " |-- FLAG_MOBIL: integer (nullable = true)\n",
      " |-- FLAG_WORK_PHONE: integer (nullable = true)\n",
      " |-- FLAG_PHONE: integer (nullable = true)\n",
      " |-- FLAG_EMAIL: integer (nullable = true)\n",
      " |-- OCCUPATION_TYPE: string (nullable = true)\n",
      " |-- CNT_FAM_MEMBERS: double (nullable = true)\n",
      " |-- target: integer (nullable = false)\n",
      " |-- AGE: double (nullable = true)\n",
      "\n"
     ]
    }
   ],
   "source": [
    "dff.printSchema()"
   ]
  },
  {
   "cell_type": "code",
   "execution_count": 86,
   "metadata": {},
   "outputs": [
    {
     "data": {
      "text/plain": [
       "25556"
      ]
     },
     "execution_count": 86,
     "metadata": {},
     "output_type": "execute_result"
    }
   ],
   "source": [
    "dff.count()"
   ]
  },
  {
   "cell_type": "code",
   "execution_count": 87,
   "metadata": {},
   "outputs": [],
   "source": [
    "cat_var = dff.select('CODE_GENDER','FLAG_OWN_CAR','FLAG_OWN_REALTY','NAME_INCOME_TYPE','NAME_EDUCATION_TYPE'\n",
    "                    ,'NAME_FAMILY_STATUS','NAME_HOUSING_TYPE','OCCUPATION_TYPE')\n",
    "num_var = numerical_features"
   ]
  },
  {
   "cell_type": "code",
   "execution_count": 88,
   "metadata": {},
   "outputs": [
    {
     "data": {
      "text/plain": [
       "['ID',\n",
       " 'CNT_CHILDREN',\n",
       " 'AMT_INCOME_TOTAL',\n",
       " 'DAYS_EMPLOYED',\n",
       " 'FLAG_MOBIL',\n",
       " 'FLAG_WORK_PHONE',\n",
       " 'FLAG_PHONE',\n",
       " 'FLAG_EMAIL',\n",
       " 'CNT_FAM_MEMBERS',\n",
       " 'target',\n",
       " 'AGE']"
      ]
     },
     "execution_count": 88,
     "metadata": {},
     "output_type": "execute_result"
    }
   ],
   "source": [
    "num_var"
   ]
  },
  {
   "cell_type": "code",
   "execution_count": 89,
   "metadata": {},
   "outputs": [
    {
     "name": "stdout",
     "output_type": "stream",
     "text": [
      "+-------+-----------+------------+---------------+------------+----------------+--------------------+--------------------+--------------------+-----------------+-------------+----------+---------------+----------+----------+---------------+---------------+------+----+\n",
      "|     ID|CODE_GENDER|FLAG_OWN_CAR|FLAG_OWN_REALTY|CNT_CHILDREN|AMT_INCOME_TOTAL|    NAME_INCOME_TYPE| NAME_EDUCATION_TYPE|  NAME_FAMILY_STATUS|NAME_HOUSING_TYPE|DAYS_EMPLOYED|FLAG_MOBIL|FLAG_WORK_PHONE|FLAG_PHONE|FLAG_EMAIL|OCCUPATION_TYPE|CNT_FAM_MEMBERS|target| AGE|\n",
      "+-------+-----------+------------+---------------+------------+----------------+--------------------+--------------------+--------------------+-----------------+-------------+----------+---------------+----------+----------+---------------+---------------+------+----+\n",
      "|5009355|          F|           N|              N|           0|        135000.0|Commercial associate|Secondary / secon...|             Married|House / apartment|        -5273|         1|              1|         1|         0|       Laborers|            2.0|     0|54.0|\n",
      "|5009429|          M|           N|              N|           0|        198000.0|             Working|Secondary / secon...|Single / not married|     With parents|        -1164|         1|              1|         0|         0|       Laborers|            1.0|     0|24.0|\n",
      "|5010070|          F|           N|              Y|           0|        279000.0|       State servant|    Higher education|Single / not married|House / apartment|         -617|         1|              0|         0|         1|       Managers|            1.0|     0|30.0|\n",
      "|5010236|          M|           Y|              Y|           0|        225000.0|             Working|Secondary / secon...|             Married|House / apartment|        -4331|         1|              0|         0|         0|        Drivers|            2.0|     0|45.0|\n",
      "|5010511|          F|           Y|              Y|           1|        157500.0|Commercial associate|Secondary / secon...|             Married|House / apartment|        -4239|         1|              0|         0|         0|       Laborers|            3.0|     0|38.0|\n",
      "+-------+-----------+------------+---------------+------------+----------------+--------------------+--------------------+--------------------+-----------------+-------------+----------+---------------+----------+----------+---------------+---------------+------+----+\n",
      "only showing top 5 rows\n",
      "\n"
     ]
    }
   ],
   "source": [
    "dff.show(5)"
   ]
  },
  {
   "cell_type": "markdown",
   "metadata": {},
   "source": [
    "## Variable Transformation using WOE and IV"
   ]
  },
  {
   "cell_type": "code",
   "execution_count": 90,
   "metadata": {},
   "outputs": [],
   "source": [
    "df_pandas=dff.toPandas()"
   ]
  },
  {
   "cell_type": "code",
   "execution_count": 91,
   "metadata": {},
   "outputs": [
    {
     "data": {
      "text/html": [
       "<div>\n",
       "<style scoped>\n",
       "    .dataframe tbody tr th:only-of-type {\n",
       "        vertical-align: middle;\n",
       "    }\n",
       "\n",
       "    .dataframe tbody tr th {\n",
       "        vertical-align: top;\n",
       "    }\n",
       "\n",
       "    .dataframe thead th {\n",
       "        text-align: right;\n",
       "    }\n",
       "</style>\n",
       "<table border=\"1\" class=\"dataframe\">\n",
       "  <thead>\n",
       "    <tr style=\"text-align: right;\">\n",
       "      <th></th>\n",
       "      <th>ID</th>\n",
       "      <th>CODE_GENDER</th>\n",
       "      <th>FLAG_OWN_CAR</th>\n",
       "      <th>FLAG_OWN_REALTY</th>\n",
       "      <th>CNT_CHILDREN</th>\n",
       "      <th>AMT_INCOME_TOTAL</th>\n",
       "      <th>NAME_INCOME_TYPE</th>\n",
       "      <th>NAME_EDUCATION_TYPE</th>\n",
       "      <th>NAME_FAMILY_STATUS</th>\n",
       "      <th>NAME_HOUSING_TYPE</th>\n",
       "      <th>DAYS_EMPLOYED</th>\n",
       "      <th>FLAG_MOBIL</th>\n",
       "      <th>FLAG_WORK_PHONE</th>\n",
       "      <th>FLAG_PHONE</th>\n",
       "      <th>FLAG_EMAIL</th>\n",
       "      <th>OCCUPATION_TYPE</th>\n",
       "      <th>CNT_FAM_MEMBERS</th>\n",
       "      <th>target</th>\n",
       "      <th>AGE</th>\n",
       "    </tr>\n",
       "  </thead>\n",
       "  <tbody>\n",
       "    <tr>\n",
       "      <th>0</th>\n",
       "      <td>5009355</td>\n",
       "      <td>F</td>\n",
       "      <td>N</td>\n",
       "      <td>N</td>\n",
       "      <td>0</td>\n",
       "      <td>135000.0</td>\n",
       "      <td>Commercial associate</td>\n",
       "      <td>Secondary / secondary special</td>\n",
       "      <td>Married</td>\n",
       "      <td>House / apartment</td>\n",
       "      <td>-5273</td>\n",
       "      <td>1</td>\n",
       "      <td>1</td>\n",
       "      <td>1</td>\n",
       "      <td>0</td>\n",
       "      <td>Laborers</td>\n",
       "      <td>2.0</td>\n",
       "      <td>0</td>\n",
       "      <td>54.0</td>\n",
       "    </tr>\n",
       "    <tr>\n",
       "      <th>1</th>\n",
       "      <td>5009429</td>\n",
       "      <td>M</td>\n",
       "      <td>N</td>\n",
       "      <td>N</td>\n",
       "      <td>0</td>\n",
       "      <td>198000.0</td>\n",
       "      <td>Working</td>\n",
       "      <td>Secondary / secondary special</td>\n",
       "      <td>Single / not married</td>\n",
       "      <td>With parents</td>\n",
       "      <td>-1164</td>\n",
       "      <td>1</td>\n",
       "      <td>1</td>\n",
       "      <td>0</td>\n",
       "      <td>0</td>\n",
       "      <td>Laborers</td>\n",
       "      <td>1.0</td>\n",
       "      <td>0</td>\n",
       "      <td>24.0</td>\n",
       "    </tr>\n",
       "    <tr>\n",
       "      <th>2</th>\n",
       "      <td>5010070</td>\n",
       "      <td>F</td>\n",
       "      <td>N</td>\n",
       "      <td>Y</td>\n",
       "      <td>0</td>\n",
       "      <td>279000.0</td>\n",
       "      <td>State servant</td>\n",
       "      <td>Higher education</td>\n",
       "      <td>Single / not married</td>\n",
       "      <td>House / apartment</td>\n",
       "      <td>-617</td>\n",
       "      <td>1</td>\n",
       "      <td>0</td>\n",
       "      <td>0</td>\n",
       "      <td>1</td>\n",
       "      <td>Managers</td>\n",
       "      <td>1.0</td>\n",
       "      <td>0</td>\n",
       "      <td>30.0</td>\n",
       "    </tr>\n",
       "    <tr>\n",
       "      <th>3</th>\n",
       "      <td>5010236</td>\n",
       "      <td>M</td>\n",
       "      <td>Y</td>\n",
       "      <td>Y</td>\n",
       "      <td>0</td>\n",
       "      <td>225000.0</td>\n",
       "      <td>Working</td>\n",
       "      <td>Secondary / secondary special</td>\n",
       "      <td>Married</td>\n",
       "      <td>House / apartment</td>\n",
       "      <td>-4331</td>\n",
       "      <td>1</td>\n",
       "      <td>0</td>\n",
       "      <td>0</td>\n",
       "      <td>0</td>\n",
       "      <td>Drivers</td>\n",
       "      <td>2.0</td>\n",
       "      <td>0</td>\n",
       "      <td>45.0</td>\n",
       "    </tr>\n",
       "    <tr>\n",
       "      <th>4</th>\n",
       "      <td>5010511</td>\n",
       "      <td>F</td>\n",
       "      <td>Y</td>\n",
       "      <td>Y</td>\n",
       "      <td>1</td>\n",
       "      <td>157500.0</td>\n",
       "      <td>Commercial associate</td>\n",
       "      <td>Secondary / secondary special</td>\n",
       "      <td>Married</td>\n",
       "      <td>House / apartment</td>\n",
       "      <td>-4239</td>\n",
       "      <td>1</td>\n",
       "      <td>0</td>\n",
       "      <td>0</td>\n",
       "      <td>0</td>\n",
       "      <td>Laborers</td>\n",
       "      <td>3.0</td>\n",
       "      <td>0</td>\n",
       "      <td>38.0</td>\n",
       "    </tr>\n",
       "    <tr>\n",
       "      <th>...</th>\n",
       "      <td>...</td>\n",
       "      <td>...</td>\n",
       "      <td>...</td>\n",
       "      <td>...</td>\n",
       "      <td>...</td>\n",
       "      <td>...</td>\n",
       "      <td>...</td>\n",
       "      <td>...</td>\n",
       "      <td>...</td>\n",
       "      <td>...</td>\n",
       "      <td>...</td>\n",
       "      <td>...</td>\n",
       "      <td>...</td>\n",
       "      <td>...</td>\n",
       "      <td>...</td>\n",
       "      <td>...</td>\n",
       "      <td>...</td>\n",
       "      <td>...</td>\n",
       "      <td>...</td>\n",
       "    </tr>\n",
       "    <tr>\n",
       "      <th>25551</th>\n",
       "      <td>5148745</td>\n",
       "      <td>F</td>\n",
       "      <td>Y</td>\n",
       "      <td>Y</td>\n",
       "      <td>0</td>\n",
       "      <td>157500.0</td>\n",
       "      <td>Commercial associate</td>\n",
       "      <td>Secondary / secondary special</td>\n",
       "      <td>Married</td>\n",
       "      <td>House / apartment</td>\n",
       "      <td>-533</td>\n",
       "      <td>1</td>\n",
       "      <td>0</td>\n",
       "      <td>0</td>\n",
       "      <td>0</td>\n",
       "      <td>Medicine staff</td>\n",
       "      <td>2.0</td>\n",
       "      <td>0</td>\n",
       "      <td>51.0</td>\n",
       "    </tr>\n",
       "    <tr>\n",
       "      <th>25552</th>\n",
       "      <td>5149419</td>\n",
       "      <td>F</td>\n",
       "      <td>N</td>\n",
       "      <td>Y</td>\n",
       "      <td>0</td>\n",
       "      <td>202500.0</td>\n",
       "      <td>Working</td>\n",
       "      <td>Higher education</td>\n",
       "      <td>Married</td>\n",
       "      <td>House / apartment</td>\n",
       "      <td>-7077</td>\n",
       "      <td>1</td>\n",
       "      <td>0</td>\n",
       "      <td>1</td>\n",
       "      <td>0</td>\n",
       "      <td>Core staff</td>\n",
       "      <td>2.0</td>\n",
       "      <td>0</td>\n",
       "      <td>59.0</td>\n",
       "    </tr>\n",
       "    <tr>\n",
       "      <th>25553</th>\n",
       "      <td>5149751</td>\n",
       "      <td>F</td>\n",
       "      <td>N</td>\n",
       "      <td>Y</td>\n",
       "      <td>1</td>\n",
       "      <td>180000.0</td>\n",
       "      <td>State servant</td>\n",
       "      <td>Secondary / secondary special</td>\n",
       "      <td>Single / not married</td>\n",
       "      <td>House / apartment</td>\n",
       "      <td>-3850</td>\n",
       "      <td>1</td>\n",
       "      <td>0</td>\n",
       "      <td>1</td>\n",
       "      <td>0</td>\n",
       "      <td>Medicine staff</td>\n",
       "      <td>2.0</td>\n",
       "      <td>0</td>\n",
       "      <td>37.0</td>\n",
       "    </tr>\n",
       "    <tr>\n",
       "      <th>25554</th>\n",
       "      <td>5150004</td>\n",
       "      <td>M</td>\n",
       "      <td>Y</td>\n",
       "      <td>Y</td>\n",
       "      <td>1</td>\n",
       "      <td>225000.0</td>\n",
       "      <td>Working</td>\n",
       "      <td>Higher education</td>\n",
       "      <td>Separated</td>\n",
       "      <td>Municipal apartment</td>\n",
       "      <td>-2055</td>\n",
       "      <td>1</td>\n",
       "      <td>0</td>\n",
       "      <td>1</td>\n",
       "      <td>0</td>\n",
       "      <td>Security staff</td>\n",
       "      <td>2.0</td>\n",
       "      <td>0</td>\n",
       "      <td>47.0</td>\n",
       "    </tr>\n",
       "    <tr>\n",
       "      <th>25555</th>\n",
       "      <td>5150044</td>\n",
       "      <td>F</td>\n",
       "      <td>Y</td>\n",
       "      <td>Y</td>\n",
       "      <td>0</td>\n",
       "      <td>54000.0</td>\n",
       "      <td>State servant</td>\n",
       "      <td>Secondary / secondary special</td>\n",
       "      <td>Single / not married</td>\n",
       "      <td>House / apartment</td>\n",
       "      <td>-1537</td>\n",
       "      <td>1</td>\n",
       "      <td>0</td>\n",
       "      <td>0</td>\n",
       "      <td>0</td>\n",
       "      <td>Medicine staff</td>\n",
       "      <td>1.0</td>\n",
       "      <td>0</td>\n",
       "      <td>24.0</td>\n",
       "    </tr>\n",
       "  </tbody>\n",
       "</table>\n",
       "<p>25556 rows × 19 columns</p>\n",
       "</div>"
      ],
      "text/plain": [
       "            ID CODE_GENDER FLAG_OWN_CAR FLAG_OWN_REALTY  CNT_CHILDREN  \\\n",
       "0      5009355           F            N               N             0   \n",
       "1      5009429           M            N               N             0   \n",
       "2      5010070           F            N               Y             0   \n",
       "3      5010236           M            Y               Y             0   \n",
       "4      5010511           F            Y               Y             1   \n",
       "...        ...         ...          ...             ...           ...   \n",
       "25551  5148745           F            Y               Y             0   \n",
       "25552  5149419           F            N               Y             0   \n",
       "25553  5149751           F            N               Y             1   \n",
       "25554  5150004           M            Y               Y             1   \n",
       "25555  5150044           F            Y               Y             0   \n",
       "\n",
       "       AMT_INCOME_TOTAL      NAME_INCOME_TYPE            NAME_EDUCATION_TYPE  \\\n",
       "0              135000.0  Commercial associate  Secondary / secondary special   \n",
       "1              198000.0               Working  Secondary / secondary special   \n",
       "2              279000.0         State servant               Higher education   \n",
       "3              225000.0               Working  Secondary / secondary special   \n",
       "4              157500.0  Commercial associate  Secondary / secondary special   \n",
       "...                 ...                   ...                            ...   \n",
       "25551          157500.0  Commercial associate  Secondary / secondary special   \n",
       "25552          202500.0               Working               Higher education   \n",
       "25553          180000.0         State servant  Secondary / secondary special   \n",
       "25554          225000.0               Working               Higher education   \n",
       "25555           54000.0         State servant  Secondary / secondary special   \n",
       "\n",
       "         NAME_FAMILY_STATUS    NAME_HOUSING_TYPE  DAYS_EMPLOYED  FLAG_MOBIL  \\\n",
       "0                   Married    House / apartment          -5273           1   \n",
       "1      Single / not married         With parents          -1164           1   \n",
       "2      Single / not married    House / apartment           -617           1   \n",
       "3                   Married    House / apartment          -4331           1   \n",
       "4                   Married    House / apartment          -4239           1   \n",
       "...                     ...                  ...            ...         ...   \n",
       "25551               Married    House / apartment           -533           1   \n",
       "25552               Married    House / apartment          -7077           1   \n",
       "25553  Single / not married    House / apartment          -3850           1   \n",
       "25554             Separated  Municipal apartment          -2055           1   \n",
       "25555  Single / not married    House / apartment          -1537           1   \n",
       "\n",
       "       FLAG_WORK_PHONE  FLAG_PHONE  FLAG_EMAIL OCCUPATION_TYPE  \\\n",
       "0                    1           1           0        Laborers   \n",
       "1                    1           0           0        Laborers   \n",
       "2                    0           0           1        Managers   \n",
       "3                    0           0           0         Drivers   \n",
       "4                    0           0           0        Laborers   \n",
       "...                ...         ...         ...             ...   \n",
       "25551                0           0           0  Medicine staff   \n",
       "25552                0           1           0      Core staff   \n",
       "25553                0           1           0  Medicine staff   \n",
       "25554                0           1           0  Security staff   \n",
       "25555                0           0           0  Medicine staff   \n",
       "\n",
       "       CNT_FAM_MEMBERS  target   AGE  \n",
       "0                  2.0       0  54.0  \n",
       "1                  1.0       0  24.0  \n",
       "2                  1.0       0  30.0  \n",
       "3                  2.0       0  45.0  \n",
       "4                  3.0       0  38.0  \n",
       "...                ...     ...   ...  \n",
       "25551              2.0       0  51.0  \n",
       "25552              2.0       0  59.0  \n",
       "25553              2.0       0  37.0  \n",
       "25554              2.0       0  47.0  \n",
       "25555              1.0       0  24.0  \n",
       "\n",
       "[25556 rows x 19 columns]"
      ]
     },
     "execution_count": 91,
     "metadata": {},
     "output_type": "execute_result"
    }
   ],
   "source": [
    "df_pandas"
   ]
  },
  {
   "cell_type": "code",
   "execution_count": 92,
   "metadata": {},
   "outputs": [
    {
     "data": {
      "text/html": [
       "<div>\n",
       "<style scoped>\n",
       "    .dataframe tbody tr th:only-of-type {\n",
       "        vertical-align: middle;\n",
       "    }\n",
       "\n",
       "    .dataframe tbody tr th {\n",
       "        vertical-align: top;\n",
       "    }\n",
       "\n",
       "    .dataframe thead th {\n",
       "        text-align: right;\n",
       "    }\n",
       "</style>\n",
       "<table border=\"1\" class=\"dataframe\">\n",
       "  <thead>\n",
       "    <tr style=\"text-align: right;\">\n",
       "      <th>target</th>\n",
       "      <th>0</th>\n",
       "      <th>1</th>\n",
       "      <th>All</th>\n",
       "    </tr>\n",
       "    <tr>\n",
       "      <th>CODE_GENDER</th>\n",
       "      <th></th>\n",
       "      <th></th>\n",
       "      <th></th>\n",
       "    </tr>\n",
       "  </thead>\n",
       "  <tbody>\n",
       "    <tr>\n",
       "      <th>F</th>\n",
       "      <td>15630</td>\n",
       "      <td>230</td>\n",
       "      <td>15860</td>\n",
       "    </tr>\n",
       "    <tr>\n",
       "      <th>M</th>\n",
       "      <td>9504</td>\n",
       "      <td>192</td>\n",
       "      <td>9696</td>\n",
       "    </tr>\n",
       "    <tr>\n",
       "      <th>All</th>\n",
       "      <td>25134</td>\n",
       "      <td>422</td>\n",
       "      <td>25556</td>\n",
       "    </tr>\n",
       "  </tbody>\n",
       "</table>\n",
       "</div>"
      ],
      "text/plain": [
       "target           0    1    All\n",
       "CODE_GENDER                   \n",
       "F            15630  230  15860\n",
       "M             9504  192   9696\n",
       "All          25134  422  25556"
      ]
     },
     "execution_count": 92,
     "metadata": {},
     "output_type": "execute_result"
    }
   ],
   "source": [
    "# Good (0) and Bad(1) customers based on Code_Gender\n",
    "df_gender = pd.crosstab(index=df_pandas['CODE_GENDER'], columns=df_pandas['target'], margins = True)\n",
    "df_gender"
   ]
  },
  {
   "cell_type": "code",
   "execution_count": 93,
   "metadata": {},
   "outputs": [
    {
     "data": {
      "text/plain": [
       "15630"
      ]
     },
     "execution_count": 93,
     "metadata": {},
     "output_type": "execute_result"
    }
   ],
   "source": [
    "# Good female customers\n",
    "df_gender[0][0]"
   ]
  },
  {
   "cell_type": "code",
   "execution_count": 94,
   "metadata": {},
   "outputs": [
    {
     "data": {
      "text/plain": [
       "25134"
      ]
     },
     "execution_count": 94,
     "metadata": {},
     "output_type": "execute_result"
    }
   ],
   "source": [
    "# Good male customers\n",
    "df_gender[0][2]"
   ]
  },
  {
   "cell_type": "code",
   "execution_count": 95,
   "metadata": {},
   "outputs": [],
   "source": [
    "# Distribution of good customers for females\n",
    "df_gender['proportion_good']= df_gender[0][0]/df_gender[0][2]"
   ]
  },
  {
   "cell_type": "code",
   "execution_count": 96,
   "metadata": {},
   "outputs": [],
   "source": [
    "# Distribution of good customers for males\n",
    "df_gender['proportion_good'][1] =df_gender[0][1]/df_gender[0][2]"
   ]
  },
  {
   "cell_type": "code",
   "execution_count": 97,
   "metadata": {},
   "outputs": [],
   "source": [
    "df_gender['proportion_good'][2] = 0"
   ]
  },
  {
   "cell_type": "code",
   "execution_count": 98,
   "metadata": {},
   "outputs": [],
   "source": [
    "# Distribution of bad customers for females\n",
    "df_gender['proportion_bad'] = df_gender[1][0]/df_gender[1][2]"
   ]
  },
  {
   "cell_type": "code",
   "execution_count": 99,
   "metadata": {},
   "outputs": [],
   "source": [
    "# Distribution of bad customers for males\n",
    "df_gender['proportion_bad'][1] = df_gender[1][1]/df_gender[1][2]"
   ]
  },
  {
   "cell_type": "code",
   "execution_count": 100,
   "metadata": {},
   "outputs": [],
   "source": [
    "df_gender['proportion_bad'][2] = 0"
   ]
  },
  {
   "cell_type": "code",
   "execution_count": 101,
   "metadata": {},
   "outputs": [
    {
     "data": {
      "text/html": [
       "<div>\n",
       "<style scoped>\n",
       "    .dataframe tbody tr th:only-of-type {\n",
       "        vertical-align: middle;\n",
       "    }\n",
       "\n",
       "    .dataframe tbody tr th {\n",
       "        vertical-align: top;\n",
       "    }\n",
       "\n",
       "    .dataframe thead th {\n",
       "        text-align: right;\n",
       "    }\n",
       "</style>\n",
       "<table border=\"1\" class=\"dataframe\">\n",
       "  <thead>\n",
       "    <tr style=\"text-align: right;\">\n",
       "      <th>target</th>\n",
       "      <th>0</th>\n",
       "      <th>1</th>\n",
       "      <th>All</th>\n",
       "      <th>proportion_good</th>\n",
       "      <th>proportion_bad</th>\n",
       "    </tr>\n",
       "    <tr>\n",
       "      <th>CODE_GENDER</th>\n",
       "      <th></th>\n",
       "      <th></th>\n",
       "      <th></th>\n",
       "      <th></th>\n",
       "      <th></th>\n",
       "    </tr>\n",
       "  </thead>\n",
       "  <tbody>\n",
       "    <tr>\n",
       "      <th>F</th>\n",
       "      <td>15630</td>\n",
       "      <td>230</td>\n",
       "      <td>15860</td>\n",
       "      <td>0.621867</td>\n",
       "      <td>0.545024</td>\n",
       "    </tr>\n",
       "    <tr>\n",
       "      <th>M</th>\n",
       "      <td>9504</td>\n",
       "      <td>192</td>\n",
       "      <td>9696</td>\n",
       "      <td>0.378133</td>\n",
       "      <td>0.454976</td>\n",
       "    </tr>\n",
       "    <tr>\n",
       "      <th>All</th>\n",
       "      <td>25134</td>\n",
       "      <td>422</td>\n",
       "      <td>25556</td>\n",
       "      <td>0.000000</td>\n",
       "      <td>0.000000</td>\n",
       "    </tr>\n",
       "  </tbody>\n",
       "</table>\n",
       "</div>"
      ],
      "text/plain": [
       "target           0    1    All  proportion_good  proportion_bad\n",
       "CODE_GENDER                                                    \n",
       "F            15630  230  15860         0.621867        0.545024\n",
       "M             9504  192   9696         0.378133        0.454976\n",
       "All          25134  422  25556         0.000000        0.000000"
      ]
     },
     "execution_count": 101,
     "metadata": {},
     "output_type": "execute_result"
    }
   ],
   "source": [
    "df_gender"
   ]
  },
  {
   "cell_type": "code",
   "execution_count": 102,
   "metadata": {},
   "outputs": [],
   "source": [
    "# Calculating WOE for code_gender\n",
    "df_gender['WOE'] = np.log(df_gender['proportion_good'][0])-np.log(df_gender['proportion_bad'][0])\n",
    "for i in range(df_gender.index.size-1):\n",
    "    df_gender['WOE'][1] = np.log(df_gender['proportion_good'][i])-np.log(df_gender['proportion_bad'][i])  \n",
    "    \n",
    "df_gender['WOE'][2] = 0"
   ]
  },
  {
   "cell_type": "code",
   "execution_count": 103,
   "metadata": {},
   "outputs": [
    {
     "data": {
      "text/html": [
       "<div>\n",
       "<style scoped>\n",
       "    .dataframe tbody tr th:only-of-type {\n",
       "        vertical-align: middle;\n",
       "    }\n",
       "\n",
       "    .dataframe tbody tr th {\n",
       "        vertical-align: top;\n",
       "    }\n",
       "\n",
       "    .dataframe thead th {\n",
       "        text-align: right;\n",
       "    }\n",
       "</style>\n",
       "<table border=\"1\" class=\"dataframe\">\n",
       "  <thead>\n",
       "    <tr style=\"text-align: right;\">\n",
       "      <th>target</th>\n",
       "      <th>0</th>\n",
       "      <th>1</th>\n",
       "      <th>All</th>\n",
       "      <th>proportion_good</th>\n",
       "      <th>proportion_bad</th>\n",
       "      <th>WOE</th>\n",
       "    </tr>\n",
       "    <tr>\n",
       "      <th>CODE_GENDER</th>\n",
       "      <th></th>\n",
       "      <th></th>\n",
       "      <th></th>\n",
       "      <th></th>\n",
       "      <th></th>\n",
       "      <th></th>\n",
       "    </tr>\n",
       "  </thead>\n",
       "  <tbody>\n",
       "    <tr>\n",
       "      <th>F</th>\n",
       "      <td>15630</td>\n",
       "      <td>230</td>\n",
       "      <td>15860</td>\n",
       "      <td>0.621867</td>\n",
       "      <td>0.545024</td>\n",
       "      <td>0.131897</td>\n",
       "    </tr>\n",
       "    <tr>\n",
       "      <th>M</th>\n",
       "      <td>9504</td>\n",
       "      <td>192</td>\n",
       "      <td>9696</td>\n",
       "      <td>0.378133</td>\n",
       "      <td>0.454976</td>\n",
       "      <td>-0.184999</td>\n",
       "    </tr>\n",
       "    <tr>\n",
       "      <th>All</th>\n",
       "      <td>25134</td>\n",
       "      <td>422</td>\n",
       "      <td>25556</td>\n",
       "      <td>0.000000</td>\n",
       "      <td>0.000000</td>\n",
       "      <td>0.000000</td>\n",
       "    </tr>\n",
       "  </tbody>\n",
       "</table>\n",
       "</div>"
      ],
      "text/plain": [
       "target           0    1    All  proportion_good  proportion_bad       WOE\n",
       "CODE_GENDER                                                              \n",
       "F            15630  230  15860         0.621867        0.545024  0.131897\n",
       "M             9504  192   9696         0.378133        0.454976 -0.184999\n",
       "All          25134  422  25556         0.000000        0.000000  0.000000"
      ]
     },
     "execution_count": 103,
     "metadata": {},
     "output_type": "execute_result"
    }
   ],
   "source": [
    "df_gender"
   ]
  },
  {
   "cell_type": "code",
   "execution_count": 104,
   "metadata": {},
   "outputs": [],
   "source": [
    "# Calculating IV\n",
    "df_gender['IV'] = df_gender['WOE'][0]*(df_gender['proportion_good'][0]-df_gender['proportion_bad'][0])\n",
    "for i in range(df_gender.index.size-1):\n",
    "    df_gender['IV'][i] = df_gender['WOE'][i]*(df_gender['proportion_good'][i]-df_gender['proportion_bad'][i])\n",
    "    \n",
    "df_gender['IV'][2] = df_gender['IV'][0] + df_gender['IV'][1]"
   ]
  },
  {
   "cell_type": "code",
   "execution_count": 105,
   "metadata": {},
   "outputs": [
    {
     "data": {
      "text/plain": [
       "CODE_GENDER\n",
       "F      0.010135\n",
       "M      0.014216\n",
       "All    0.024351\n",
       "Name: IV, dtype: float64"
      ]
     },
     "execution_count": 105,
     "metadata": {},
     "output_type": "execute_result"
    }
   ],
   "source": [
    "df_gender['IV']"
   ]
  },
  {
   "cell_type": "code",
   "execution_count": 106,
   "metadata": {},
   "outputs": [
    {
     "data": {
      "text/html": [
       "<div>\n",
       "<style scoped>\n",
       "    .dataframe tbody tr th:only-of-type {\n",
       "        vertical-align: middle;\n",
       "    }\n",
       "\n",
       "    .dataframe tbody tr th {\n",
       "        vertical-align: top;\n",
       "    }\n",
       "\n",
       "    .dataframe thead th {\n",
       "        text-align: right;\n",
       "    }\n",
       "</style>\n",
       "<table border=\"1\" class=\"dataframe\">\n",
       "  <thead>\n",
       "    <tr style=\"text-align: right;\">\n",
       "      <th>target</th>\n",
       "      <th>0</th>\n",
       "      <th>1</th>\n",
       "      <th>All</th>\n",
       "      <th>proportion_good</th>\n",
       "      <th>proportion_bad</th>\n",
       "      <th>WOE</th>\n",
       "      <th>IV</th>\n",
       "    </tr>\n",
       "    <tr>\n",
       "      <th>CODE_GENDER</th>\n",
       "      <th></th>\n",
       "      <th></th>\n",
       "      <th></th>\n",
       "      <th></th>\n",
       "      <th></th>\n",
       "      <th></th>\n",
       "      <th></th>\n",
       "    </tr>\n",
       "  </thead>\n",
       "  <tbody>\n",
       "    <tr>\n",
       "      <th>F</th>\n",
       "      <td>15630</td>\n",
       "      <td>230</td>\n",
       "      <td>15860</td>\n",
       "      <td>0.621867</td>\n",
       "      <td>0.545024</td>\n",
       "      <td>0.131897</td>\n",
       "      <td>0.010135</td>\n",
       "    </tr>\n",
       "    <tr>\n",
       "      <th>M</th>\n",
       "      <td>9504</td>\n",
       "      <td>192</td>\n",
       "      <td>9696</td>\n",
       "      <td>0.378133</td>\n",
       "      <td>0.454976</td>\n",
       "      <td>-0.184999</td>\n",
       "      <td>0.014216</td>\n",
       "    </tr>\n",
       "    <tr>\n",
       "      <th>All</th>\n",
       "      <td>25134</td>\n",
       "      <td>422</td>\n",
       "      <td>25556</td>\n",
       "      <td>0.000000</td>\n",
       "      <td>0.000000</td>\n",
       "      <td>0.000000</td>\n",
       "      <td>0.024351</td>\n",
       "    </tr>\n",
       "  </tbody>\n",
       "</table>\n",
       "</div>"
      ],
      "text/plain": [
       "target           0    1    All  proportion_good  proportion_bad       WOE  \\\n",
       "CODE_GENDER                                                                 \n",
       "F            15630  230  15860         0.621867        0.545024  0.131897   \n",
       "M             9504  192   9696         0.378133        0.454976 -0.184999   \n",
       "All          25134  422  25556         0.000000        0.000000  0.000000   \n",
       "\n",
       "target             IV  \n",
       "CODE_GENDER            \n",
       "F            0.010135  \n",
       "M            0.014216  \n",
       "All          0.024351  "
      ]
     },
     "execution_count": 106,
     "metadata": {},
     "output_type": "execute_result"
    }
   ],
   "source": [
    "df_gender"
   ]
  },
  {
   "cell_type": "markdown",
   "metadata": {},
   "source": [
    "Since the total IV is 0.0243, which is greater than the threshold 0.002, we will use the code_gender variable in our model"
   ]
  },
  {
   "cell_type": "code",
   "execution_count": 107,
   "metadata": {},
   "outputs": [
    {
     "data": {
      "text/html": [
       "<div>\n",
       "<style scoped>\n",
       "    .dataframe tbody tr th:only-of-type {\n",
       "        vertical-align: middle;\n",
       "    }\n",
       "\n",
       "    .dataframe tbody tr th {\n",
       "        vertical-align: top;\n",
       "    }\n",
       "\n",
       "    .dataframe thead th {\n",
       "        text-align: right;\n",
       "    }\n",
       "</style>\n",
       "<table border=\"1\" class=\"dataframe\">\n",
       "  <thead>\n",
       "    <tr style=\"text-align: right;\">\n",
       "      <th>target</th>\n",
       "      <th>0</th>\n",
       "      <th>1</th>\n",
       "      <th>All</th>\n",
       "    </tr>\n",
       "    <tr>\n",
       "      <th>FLAG_OWN_REALTY</th>\n",
       "      <th></th>\n",
       "      <th></th>\n",
       "      <th></th>\n",
       "    </tr>\n",
       "  </thead>\n",
       "  <tbody>\n",
       "    <tr>\n",
       "      <th>N</th>\n",
       "      <td>8673</td>\n",
       "      <td>179</td>\n",
       "      <td>8852</td>\n",
       "    </tr>\n",
       "    <tr>\n",
       "      <th>Y</th>\n",
       "      <td>16461</td>\n",
       "      <td>243</td>\n",
       "      <td>16704</td>\n",
       "    </tr>\n",
       "    <tr>\n",
       "      <th>All</th>\n",
       "      <td>25134</td>\n",
       "      <td>422</td>\n",
       "      <td>25556</td>\n",
       "    </tr>\n",
       "  </tbody>\n",
       "</table>\n",
       "</div>"
      ],
      "text/plain": [
       "target               0    1    All\n",
       "FLAG_OWN_REALTY                   \n",
       "N                 8673  179   8852\n",
       "Y                16461  243  16704\n",
       "All              25134  422  25556"
      ]
     },
     "execution_count": 107,
     "metadata": {},
     "output_type": "execute_result"
    }
   ],
   "source": [
    "# Good (0) and Bad(1) customers based on FLAG_OWN_REALTY\n",
    "df_property = pd.crosstab(index=df_pandas['FLAG_OWN_REALTY'], columns=df_pandas['target'], margins = True)\n",
    "df_property"
   ]
  },
  {
   "cell_type": "code",
   "execution_count": 108,
   "metadata": {},
   "outputs": [],
   "source": [
    "# Distribution of good for those who don't own a property\n",
    "df_property['proportion_good'] = df_property[0][0]/df_property[0][2]"
   ]
  },
  {
   "cell_type": "code",
   "execution_count": 109,
   "metadata": {},
   "outputs": [],
   "source": [
    "# Distribution of good for those who own a property\n",
    "df_property['proportion_good'][1] =df_property[0][1]/df_property[0][2]"
   ]
  },
  {
   "cell_type": "code",
   "execution_count": 110,
   "metadata": {},
   "outputs": [],
   "source": [
    "# Distribution of bad for those who don't own a property\n",
    "df_property['proportion_bad'] = df_property[1][0]/df_property[1][2]"
   ]
  },
  {
   "cell_type": "code",
   "execution_count": 111,
   "metadata": {},
   "outputs": [],
   "source": [
    "# Distribution of bad for those who own a property\n",
    "df_property['proportion_bad'][1] = df_property[1][1]/df_property[1][2]"
   ]
  },
  {
   "cell_type": "code",
   "execution_count": 112,
   "metadata": {},
   "outputs": [],
   "source": [
    "df_property['proportion_bad'][2] = 0\n",
    "df_property['proportion_good'][2] = 0"
   ]
  },
  {
   "cell_type": "code",
   "execution_count": 113,
   "metadata": {},
   "outputs": [
    {
     "data": {
      "text/html": [
       "<div>\n",
       "<style scoped>\n",
       "    .dataframe tbody tr th:only-of-type {\n",
       "        vertical-align: middle;\n",
       "    }\n",
       "\n",
       "    .dataframe tbody tr th {\n",
       "        vertical-align: top;\n",
       "    }\n",
       "\n",
       "    .dataframe thead th {\n",
       "        text-align: right;\n",
       "    }\n",
       "</style>\n",
       "<table border=\"1\" class=\"dataframe\">\n",
       "  <thead>\n",
       "    <tr style=\"text-align: right;\">\n",
       "      <th>target</th>\n",
       "      <th>0</th>\n",
       "      <th>1</th>\n",
       "      <th>All</th>\n",
       "      <th>proportion_good</th>\n",
       "      <th>proportion_bad</th>\n",
       "    </tr>\n",
       "    <tr>\n",
       "      <th>FLAG_OWN_REALTY</th>\n",
       "      <th></th>\n",
       "      <th></th>\n",
       "      <th></th>\n",
       "      <th></th>\n",
       "      <th></th>\n",
       "    </tr>\n",
       "  </thead>\n",
       "  <tbody>\n",
       "    <tr>\n",
       "      <th>N</th>\n",
       "      <td>8673</td>\n",
       "      <td>179</td>\n",
       "      <td>8852</td>\n",
       "      <td>0.34507</td>\n",
       "      <td>0.424171</td>\n",
       "    </tr>\n",
       "    <tr>\n",
       "      <th>Y</th>\n",
       "      <td>16461</td>\n",
       "      <td>243</td>\n",
       "      <td>16704</td>\n",
       "      <td>0.65493</td>\n",
       "      <td>0.575829</td>\n",
       "    </tr>\n",
       "    <tr>\n",
       "      <th>All</th>\n",
       "      <td>25134</td>\n",
       "      <td>422</td>\n",
       "      <td>25556</td>\n",
       "      <td>0.00000</td>\n",
       "      <td>0.000000</td>\n",
       "    </tr>\n",
       "  </tbody>\n",
       "</table>\n",
       "</div>"
      ],
      "text/plain": [
       "target               0    1    All  proportion_good  proportion_bad\n",
       "FLAG_OWN_REALTY                                                    \n",
       "N                 8673  179   8852          0.34507        0.424171\n",
       "Y                16461  243  16704          0.65493        0.575829\n",
       "All              25134  422  25556          0.00000        0.000000"
      ]
     },
     "execution_count": 113,
     "metadata": {},
     "output_type": "execute_result"
    }
   ],
   "source": [
    "df_property"
   ]
  },
  {
   "cell_type": "code",
   "execution_count": 114,
   "metadata": {},
   "outputs": [],
   "source": [
    "# Calculating WOE for flag_own_realty\n",
    "df_property['WOE'] = np.log(df_property['proportion_good'][0])-np.log(df_property['proportion_bad'][0])\n",
    "for i in range(df_property.index.size-1):\n",
    "    df_property['WOE'][1] = np.log(df_property['proportion_good'][i])-np.log(df_property['proportion_bad'][i])  \n",
    "    \n",
    "df_property['WOE'][2] = 0"
   ]
  },
  {
   "cell_type": "code",
   "execution_count": 115,
   "metadata": {},
   "outputs": [],
   "source": [
    "# Calculating IV\n",
    "df_property['IV'] = df_property['WOE'][0]*(df_property['proportion_good'][0]-df_property['proportion_bad'][0])\n",
    "for i in range(df_property.index.size-1):\n",
    "    df_property['IV'][1] = df_property['WOE'][1]*(df_property['proportion_good'][1]-df_property['proportion_bad'][1])\n",
    "    \n",
    "df_property['IV'][2] = df_property['IV'][0] + df_property['IV'][1]"
   ]
  },
  {
   "cell_type": "code",
   "execution_count": 116,
   "metadata": {},
   "outputs": [
    {
     "data": {
      "text/html": [
       "<div>\n",
       "<style scoped>\n",
       "    .dataframe tbody tr th:only-of-type {\n",
       "        vertical-align: middle;\n",
       "    }\n",
       "\n",
       "    .dataframe tbody tr th {\n",
       "        vertical-align: top;\n",
       "    }\n",
       "\n",
       "    .dataframe thead th {\n",
       "        text-align: right;\n",
       "    }\n",
       "</style>\n",
       "<table border=\"1\" class=\"dataframe\">\n",
       "  <thead>\n",
       "    <tr style=\"text-align: right;\">\n",
       "      <th>target</th>\n",
       "      <th>0</th>\n",
       "      <th>1</th>\n",
       "      <th>All</th>\n",
       "      <th>proportion_good</th>\n",
       "      <th>proportion_bad</th>\n",
       "      <th>WOE</th>\n",
       "      <th>IV</th>\n",
       "    </tr>\n",
       "    <tr>\n",
       "      <th>FLAG_OWN_REALTY</th>\n",
       "      <th></th>\n",
       "      <th></th>\n",
       "      <th></th>\n",
       "      <th></th>\n",
       "      <th></th>\n",
       "      <th></th>\n",
       "      <th></th>\n",
       "    </tr>\n",
       "  </thead>\n",
       "  <tbody>\n",
       "    <tr>\n",
       "      <th>N</th>\n",
       "      <td>8673</td>\n",
       "      <td>179</td>\n",
       "      <td>8852</td>\n",
       "      <td>0.34507</td>\n",
       "      <td>0.424171</td>\n",
       "      <td>-0.206387</td>\n",
       "      <td>0.016325</td>\n",
       "    </tr>\n",
       "    <tr>\n",
       "      <th>Y</th>\n",
       "      <td>16461</td>\n",
       "      <td>243</td>\n",
       "      <td>16704</td>\n",
       "      <td>0.65493</td>\n",
       "      <td>0.575829</td>\n",
       "      <td>0.128716</td>\n",
       "      <td>0.010181</td>\n",
       "    </tr>\n",
       "    <tr>\n",
       "      <th>All</th>\n",
       "      <td>25134</td>\n",
       "      <td>422</td>\n",
       "      <td>25556</td>\n",
       "      <td>0.00000</td>\n",
       "      <td>0.000000</td>\n",
       "      <td>0.000000</td>\n",
       "      <td>0.026507</td>\n",
       "    </tr>\n",
       "  </tbody>\n",
       "</table>\n",
       "</div>"
      ],
      "text/plain": [
       "target               0    1    All  proportion_good  proportion_bad       WOE  \\\n",
       "FLAG_OWN_REALTY                                                                 \n",
       "N                 8673  179   8852          0.34507        0.424171 -0.206387   \n",
       "Y                16461  243  16704          0.65493        0.575829  0.128716   \n",
       "All              25134  422  25556          0.00000        0.000000  0.000000   \n",
       "\n",
       "target                 IV  \n",
       "FLAG_OWN_REALTY            \n",
       "N                0.016325  \n",
       "Y                0.010181  \n",
       "All              0.026507  "
      ]
     },
     "execution_count": 116,
     "metadata": {},
     "output_type": "execute_result"
    }
   ],
   "source": [
    "df_property"
   ]
  },
  {
   "cell_type": "markdown",
   "metadata": {},
   "source": [
    "Since the total IV is 0.026, which is greater than the threshold 0.002, we will use the property variable in our model"
   ]
  },
  {
   "cell_type": "code",
   "execution_count": 117,
   "metadata": {},
   "outputs": [
    {
     "data": {
      "text/html": [
       "<div>\n",
       "<style scoped>\n",
       "    .dataframe tbody tr th:only-of-type {\n",
       "        vertical-align: middle;\n",
       "    }\n",
       "\n",
       "    .dataframe tbody tr th {\n",
       "        vertical-align: top;\n",
       "    }\n",
       "\n",
       "    .dataframe thead th {\n",
       "        text-align: right;\n",
       "    }\n",
       "</style>\n",
       "<table border=\"1\" class=\"dataframe\">\n",
       "  <thead>\n",
       "    <tr style=\"text-align: right;\">\n",
       "      <th>target</th>\n",
       "      <th>0</th>\n",
       "      <th>1</th>\n",
       "      <th>All</th>\n",
       "    </tr>\n",
       "    <tr>\n",
       "      <th>FLAG_OWN_CAR</th>\n",
       "      <th></th>\n",
       "      <th></th>\n",
       "      <th></th>\n",
       "    </tr>\n",
       "  </thead>\n",
       "  <tbody>\n",
       "    <tr>\n",
       "      <th>N</th>\n",
       "      <td>14618</td>\n",
       "      <td>245</td>\n",
       "      <td>14863</td>\n",
       "    </tr>\n",
       "    <tr>\n",
       "      <th>Y</th>\n",
       "      <td>10516</td>\n",
       "      <td>177</td>\n",
       "      <td>10693</td>\n",
       "    </tr>\n",
       "    <tr>\n",
       "      <th>All</th>\n",
       "      <td>25134</td>\n",
       "      <td>422</td>\n",
       "      <td>25556</td>\n",
       "    </tr>\n",
       "  </tbody>\n",
       "</table>\n",
       "</div>"
      ],
      "text/plain": [
       "target            0    1    All\n",
       "FLAG_OWN_CAR                   \n",
       "N             14618  245  14863\n",
       "Y             10516  177  10693\n",
       "All           25134  422  25556"
      ]
     },
     "execution_count": 117,
     "metadata": {},
     "output_type": "execute_result"
    }
   ],
   "source": [
    "# Good (0) and Bad(1) customers based on FLAG_OWN_CAR\n",
    "df_car = pd.crosstab(index=df_pandas['FLAG_OWN_CAR'], columns=df_pandas['target'], margins = True)\n",
    "df_car"
   ]
  },
  {
   "cell_type": "code",
   "execution_count": 118,
   "metadata": {},
   "outputs": [
    {
     "data": {
      "text/html": [
       "<div>\n",
       "<style scoped>\n",
       "    .dataframe tbody tr th:only-of-type {\n",
       "        vertical-align: middle;\n",
       "    }\n",
       "\n",
       "    .dataframe tbody tr th {\n",
       "        vertical-align: top;\n",
       "    }\n",
       "\n",
       "    .dataframe thead th {\n",
       "        text-align: right;\n",
       "    }\n",
       "</style>\n",
       "<table border=\"1\" class=\"dataframe\">\n",
       "  <thead>\n",
       "    <tr style=\"text-align: right;\">\n",
       "      <th>target</th>\n",
       "      <th>0</th>\n",
       "      <th>1</th>\n",
       "      <th>All</th>\n",
       "      <th>proportion_good</th>\n",
       "      <th>proportion_bad</th>\n",
       "    </tr>\n",
       "    <tr>\n",
       "      <th>FLAG_OWN_CAR</th>\n",
       "      <th></th>\n",
       "      <th></th>\n",
       "      <th></th>\n",
       "      <th></th>\n",
       "      <th></th>\n",
       "    </tr>\n",
       "  </thead>\n",
       "  <tbody>\n",
       "    <tr>\n",
       "      <th>N</th>\n",
       "      <td>14618</td>\n",
       "      <td>245</td>\n",
       "      <td>14863</td>\n",
       "      <td>0.581603</td>\n",
       "      <td>0.580569</td>\n",
       "    </tr>\n",
       "    <tr>\n",
       "      <th>Y</th>\n",
       "      <td>10516</td>\n",
       "      <td>177</td>\n",
       "      <td>10693</td>\n",
       "      <td>0.418397</td>\n",
       "      <td>0.419431</td>\n",
       "    </tr>\n",
       "    <tr>\n",
       "      <th>All</th>\n",
       "      <td>25134</td>\n",
       "      <td>422</td>\n",
       "      <td>25556</td>\n",
       "      <td>0.000000</td>\n",
       "      <td>0.000000</td>\n",
       "    </tr>\n",
       "  </tbody>\n",
       "</table>\n",
       "</div>"
      ],
      "text/plain": [
       "target            0    1    All  proportion_good  proportion_bad\n",
       "FLAG_OWN_CAR                                                    \n",
       "N             14618  245  14863         0.581603        0.580569\n",
       "Y             10516  177  10693         0.418397        0.419431\n",
       "All           25134  422  25556         0.000000        0.000000"
      ]
     },
     "execution_count": 118,
     "metadata": {},
     "output_type": "execute_result"
    }
   ],
   "source": [
    "# Distribution of good for those who don't own a car\n",
    "df_car['proportion_good'] = df_car[0][0]/df_car[0][2]\n",
    "\n",
    "# Distribution of good for those who own a car\n",
    "df_car['proportion_good'][1] =df_car[0][1]/df_car[0][2]\n",
    "\n",
    "# Distribution of bad for those who don't own a car\n",
    "df_car['proportion_bad'] = df_car[1][0]/df_car[1][2]\n",
    "\n",
    "# Distribution of bad for those who own a car\n",
    "df_car['proportion_bad'][1] = df_car[1][1]/df_car[1][2]\n",
    "\n",
    "df_car['proportion_bad'][2] = 0\n",
    "df_car['proportion_good'][2] = 0\n",
    "\n",
    "df_car"
   ]
  },
  {
   "cell_type": "code",
   "execution_count": 119,
   "metadata": {},
   "outputs": [],
   "source": [
    "# Calculating WOE for flag_own_car\n",
    "df_car['WOE'] = np.log(df_car['proportion_good'][0])-np.log(df_car['proportion_bad'][0])\n",
    "for i in range(1,df_car.index.size-1):\n",
    "    df_car['WOE'][i] = np.log(df_car['proportion_good'][i])-np.log(df_car['proportion_bad'][i])  \n",
    "    \n",
    "df_car['WOE'][2] = 0\n",
    "\n",
    "# Calculating IV\n",
    "df_car['IV'] = df_car['WOE'][0]*(df_car['proportion_good'][0]-df_car['proportion_bad'][0])\n",
    "for i in range(1,df_car.index.size-1):\n",
    "    df_car['IV'][1] = df_car['WOE'][1]*(df_car['proportion_good'][1]-df_car['proportion_bad'][1])\n",
    "    \n",
    "df_car['IV'][2] = df_car['IV'][0] + df_car['IV'][1]"
   ]
  },
  {
   "cell_type": "code",
   "execution_count": 120,
   "metadata": {},
   "outputs": [
    {
     "data": {
      "text/html": [
       "<div>\n",
       "<style scoped>\n",
       "    .dataframe tbody tr th:only-of-type {\n",
       "        vertical-align: middle;\n",
       "    }\n",
       "\n",
       "    .dataframe tbody tr th {\n",
       "        vertical-align: top;\n",
       "    }\n",
       "\n",
       "    .dataframe thead th {\n",
       "        text-align: right;\n",
       "    }\n",
       "</style>\n",
       "<table border=\"1\" class=\"dataframe\">\n",
       "  <thead>\n",
       "    <tr style=\"text-align: right;\">\n",
       "      <th>target</th>\n",
       "      <th>0</th>\n",
       "      <th>1</th>\n",
       "      <th>All</th>\n",
       "      <th>proportion_good</th>\n",
       "      <th>proportion_bad</th>\n",
       "      <th>WOE</th>\n",
       "      <th>IV</th>\n",
       "    </tr>\n",
       "    <tr>\n",
       "      <th>FLAG_OWN_CAR</th>\n",
       "      <th></th>\n",
       "      <th></th>\n",
       "      <th></th>\n",
       "      <th></th>\n",
       "      <th></th>\n",
       "      <th></th>\n",
       "      <th></th>\n",
       "    </tr>\n",
       "  </thead>\n",
       "  <tbody>\n",
       "    <tr>\n",
       "      <th>N</th>\n",
       "      <td>14618</td>\n",
       "      <td>245</td>\n",
       "      <td>14863</td>\n",
       "      <td>0.581603</td>\n",
       "      <td>0.580569</td>\n",
       "      <td>0.001779</td>\n",
       "      <td>0.000002</td>\n",
       "    </tr>\n",
       "    <tr>\n",
       "      <th>Y</th>\n",
       "      <td>10516</td>\n",
       "      <td>177</td>\n",
       "      <td>10693</td>\n",
       "      <td>0.418397</td>\n",
       "      <td>0.419431</td>\n",
       "      <td>-0.002468</td>\n",
       "      <td>0.000003</td>\n",
       "    </tr>\n",
       "    <tr>\n",
       "      <th>All</th>\n",
       "      <td>25134</td>\n",
       "      <td>422</td>\n",
       "      <td>25556</td>\n",
       "      <td>0.000000</td>\n",
       "      <td>0.000000</td>\n",
       "      <td>0.000000</td>\n",
       "      <td>0.000004</td>\n",
       "    </tr>\n",
       "  </tbody>\n",
       "</table>\n",
       "</div>"
      ],
      "text/plain": [
       "target            0    1    All  proportion_good  proportion_bad       WOE  \\\n",
       "FLAG_OWN_CAR                                                                 \n",
       "N             14618  245  14863         0.581603        0.580569  0.001779   \n",
       "Y             10516  177  10693         0.418397        0.419431 -0.002468   \n",
       "All           25134  422  25556         0.000000        0.000000  0.000000   \n",
       "\n",
       "target              IV  \n",
       "FLAG_OWN_CAR            \n",
       "N             0.000002  \n",
       "Y             0.000003  \n",
       "All           0.000004  "
      ]
     },
     "execution_count": 120,
     "metadata": {},
     "output_type": "execute_result"
    }
   ],
   "source": [
    "df_car"
   ]
  },
  {
   "cell_type": "markdown",
   "metadata": {},
   "source": [
    "Since the total IV is 0.000, which is far lesser than the threshold 0.002, we will not use the car variable in our model"
   ]
  },
  {
   "cell_type": "code",
   "execution_count": 121,
   "metadata": {},
   "outputs": [
    {
     "data": {
      "text/html": [
       "<div>\n",
       "<style scoped>\n",
       "    .dataframe tbody tr th:only-of-type {\n",
       "        vertical-align: middle;\n",
       "    }\n",
       "\n",
       "    .dataframe tbody tr th {\n",
       "        vertical-align: top;\n",
       "    }\n",
       "\n",
       "    .dataframe thead th {\n",
       "        text-align: right;\n",
       "    }\n",
       "</style>\n",
       "<table border=\"1\" class=\"dataframe\">\n",
       "  <thead>\n",
       "    <tr style=\"text-align: right;\">\n",
       "      <th>target</th>\n",
       "      <th>0</th>\n",
       "      <th>1</th>\n",
       "      <th>All</th>\n",
       "    </tr>\n",
       "    <tr>\n",
       "      <th>NAME_INCOME_TYPE</th>\n",
       "      <th></th>\n",
       "      <th></th>\n",
       "      <th></th>\n",
       "    </tr>\n",
       "  </thead>\n",
       "  <tbody>\n",
       "    <tr>\n",
       "      <th>Commercial associate</th>\n",
       "      <td>7052</td>\n",
       "      <td>119</td>\n",
       "      <td>7171</td>\n",
       "    </tr>\n",
       "    <tr>\n",
       "      <th>Pensioner</th>\n",
       "      <td>13</td>\n",
       "      <td>13</td>\n",
       "      <td>26</td>\n",
       "    </tr>\n",
       "    <tr>\n",
       "      <th>State servant</th>\n",
       "      <td>2437</td>\n",
       "      <td>29</td>\n",
       "      <td>2466</td>\n",
       "    </tr>\n",
       "    <tr>\n",
       "      <th>Student</th>\n",
       "      <td>10</td>\n",
       "      <td>0</td>\n",
       "      <td>10</td>\n",
       "    </tr>\n",
       "    <tr>\n",
       "      <th>Working</th>\n",
       "      <td>15622</td>\n",
       "      <td>261</td>\n",
       "      <td>15883</td>\n",
       "    </tr>\n",
       "    <tr>\n",
       "      <th>All</th>\n",
       "      <td>25134</td>\n",
       "      <td>422</td>\n",
       "      <td>25556</td>\n",
       "    </tr>\n",
       "  </tbody>\n",
       "</table>\n",
       "</div>"
      ],
      "text/plain": [
       "target                    0    1    All\n",
       "NAME_INCOME_TYPE                       \n",
       "Commercial associate   7052  119   7171\n",
       "Pensioner                13   13     26\n",
       "State servant          2437   29   2466\n",
       "Student                  10    0     10\n",
       "Working               15622  261  15883\n",
       "All                   25134  422  25556"
      ]
     },
     "execution_count": 121,
     "metadata": {},
     "output_type": "execute_result"
    }
   ],
   "source": [
    "# Good (0) and Bad(1) customers based on NAME_INCOME_TYPE\n",
    "df_income = pd.crosstab(index=df_pandas['NAME_INCOME_TYPE'], columns=df_pandas['target'], margins = True)\n",
    "df_income"
   ]
  },
  {
   "cell_type": "code",
   "execution_count": 122,
   "metadata": {},
   "outputs": [
    {
     "data": {
      "text/plain": [
       "5"
      ]
     },
     "execution_count": 122,
     "metadata": {},
     "output_type": "execute_result"
    }
   ],
   "source": [
    "df_income.index.size-1"
   ]
  },
  {
   "cell_type": "code",
   "execution_count": 123,
   "metadata": {},
   "outputs": [
    {
     "data": {
      "text/plain": [
       "NAME_INCOME_TYPE\n",
       "Commercial associate     7052\n",
       "Pensioner                  13\n",
       "State servant            2437\n",
       "Student                    10\n",
       "Working                 15622\n",
       "All                     25134\n",
       "Name: 0, dtype: int64"
      ]
     },
     "execution_count": 123,
     "metadata": {},
     "output_type": "execute_result"
    }
   ],
   "source": [
    "df_income[0]"
   ]
  },
  {
   "cell_type": "code",
   "execution_count": 124,
   "metadata": {},
   "outputs": [],
   "source": [
    "#Proportion of good customers for all income types\n",
    "df_income['proportion_good'] = ''\n",
    "for j in range(0,df_income.index.size-1):\n",
    "    df_income['proportion_good'][j]=df_income[0][j]/df_income[0][df_income.index.size-1]\n",
    "    \n",
    "#Poportion of bad customers for all income types\n",
    "df_income['proportion_bad'] = ''\n",
    "for j in range(0,df_income.index.size-1):\n",
    "    df_income['proportion_bad'][j]=df_income[1][j]/df_income[1][df_income.index.size-1]\n"
   ]
  },
  {
   "cell_type": "code",
   "execution_count": 125,
   "metadata": {},
   "outputs": [
    {
     "data": {
      "text/html": [
       "<div>\n",
       "<style scoped>\n",
       "    .dataframe tbody tr th:only-of-type {\n",
       "        vertical-align: middle;\n",
       "    }\n",
       "\n",
       "    .dataframe tbody tr th {\n",
       "        vertical-align: top;\n",
       "    }\n",
       "\n",
       "    .dataframe thead th {\n",
       "        text-align: right;\n",
       "    }\n",
       "</style>\n",
       "<table border=\"1\" class=\"dataframe\">\n",
       "  <thead>\n",
       "    <tr style=\"text-align: right;\">\n",
       "      <th>target</th>\n",
       "      <th>0</th>\n",
       "      <th>1</th>\n",
       "      <th>All</th>\n",
       "      <th>proportion_good</th>\n",
       "      <th>proportion_bad</th>\n",
       "    </tr>\n",
       "    <tr>\n",
       "      <th>NAME_INCOME_TYPE</th>\n",
       "      <th></th>\n",
       "      <th></th>\n",
       "      <th></th>\n",
       "      <th></th>\n",
       "      <th></th>\n",
       "    </tr>\n",
       "  </thead>\n",
       "  <tbody>\n",
       "    <tr>\n",
       "      <th>Commercial associate</th>\n",
       "      <td>7052</td>\n",
       "      <td>119</td>\n",
       "      <td>7171</td>\n",
       "      <td>0.280576</td>\n",
       "      <td>0.281991</td>\n",
       "    </tr>\n",
       "    <tr>\n",
       "      <th>Pensioner</th>\n",
       "      <td>13</td>\n",
       "      <td>13</td>\n",
       "      <td>26</td>\n",
       "      <td>0.000517</td>\n",
       "      <td>0.030806</td>\n",
       "    </tr>\n",
       "    <tr>\n",
       "      <th>State servant</th>\n",
       "      <td>2437</td>\n",
       "      <td>29</td>\n",
       "      <td>2466</td>\n",
       "      <td>0.09696</td>\n",
       "      <td>0.06872</td>\n",
       "    </tr>\n",
       "    <tr>\n",
       "      <th>Student</th>\n",
       "      <td>10</td>\n",
       "      <td>0</td>\n",
       "      <td>10</td>\n",
       "      <td>0.000398</td>\n",
       "      <td>0.0</td>\n",
       "    </tr>\n",
       "    <tr>\n",
       "      <th>Working</th>\n",
       "      <td>15622</td>\n",
       "      <td>261</td>\n",
       "      <td>15883</td>\n",
       "      <td>0.621549</td>\n",
       "      <td>0.618483</td>\n",
       "    </tr>\n",
       "    <tr>\n",
       "      <th>All</th>\n",
       "      <td>25134</td>\n",
       "      <td>422</td>\n",
       "      <td>25556</td>\n",
       "      <td></td>\n",
       "      <td></td>\n",
       "    </tr>\n",
       "  </tbody>\n",
       "</table>\n",
       "</div>"
      ],
      "text/plain": [
       "target                    0    1    All proportion_good proportion_bad\n",
       "NAME_INCOME_TYPE                                                      \n",
       "Commercial associate   7052  119   7171        0.280576       0.281991\n",
       "Pensioner                13   13     26        0.000517       0.030806\n",
       "State servant          2437   29   2466         0.09696        0.06872\n",
       "Student                  10    0     10        0.000398            0.0\n",
       "Working               15622  261  15883        0.621549       0.618483\n",
       "All                   25134  422  25556                               "
      ]
     },
     "execution_count": 125,
     "metadata": {},
     "output_type": "execute_result"
    }
   ],
   "source": [
    "df_income"
   ]
  },
  {
   "cell_type": "code",
   "execution_count": 126,
   "metadata": {},
   "outputs": [],
   "source": [
    "# Calculating WOE for income_type\n",
    "df_income['WOE'] = np.log(df_income['proportion_good'][0])-np.log(df_income['proportion_bad'][0])\n",
    "for i in range(1,df_income.index.size-1):\n",
    "    df_income['WOE'][i] = np.log(df_income['proportion_good'][i])-np.log(df_income['proportion_bad'][i])  \n",
    "    \n",
    "df_income['WOE'][df_income.index.size-1] = 0\n",
    "\n",
    "# Calculating IV\n",
    "df_income['IV'] = df_income['WOE'][0]*(df_income['proportion_good'][0]-df_income['proportion_bad'][0])\n",
    "for i in range(1,df_income.index.size-1):\n",
    "    df_income['IV'][i] = df_income['WOE'][i]*(df_income['proportion_good'][i]-df_income['proportion_bad'][i])\n",
    "    \n",
    "df_income['IV'][df_income.index.size-1] = df_income['IV'][0] + df_income['IV'][1] + df_income['IV'][2] + df_income['IV'][3] + df_income['IV'][4]"
   ]
  },
  {
   "cell_type": "code",
   "execution_count": 127,
   "metadata": {},
   "outputs": [
    {
     "data": {
      "text/html": [
       "<div>\n",
       "<style scoped>\n",
       "    .dataframe tbody tr th:only-of-type {\n",
       "        vertical-align: middle;\n",
       "    }\n",
       "\n",
       "    .dataframe tbody tr th {\n",
       "        vertical-align: top;\n",
       "    }\n",
       "\n",
       "    .dataframe thead th {\n",
       "        text-align: right;\n",
       "    }\n",
       "</style>\n",
       "<table border=\"1\" class=\"dataframe\">\n",
       "  <thead>\n",
       "    <tr style=\"text-align: right;\">\n",
       "      <th>target</th>\n",
       "      <th>0</th>\n",
       "      <th>1</th>\n",
       "      <th>All</th>\n",
       "      <th>proportion_good</th>\n",
       "      <th>proportion_bad</th>\n",
       "      <th>WOE</th>\n",
       "      <th>IV</th>\n",
       "    </tr>\n",
       "    <tr>\n",
       "      <th>NAME_INCOME_TYPE</th>\n",
       "      <th></th>\n",
       "      <th></th>\n",
       "      <th></th>\n",
       "      <th></th>\n",
       "      <th></th>\n",
       "      <th></th>\n",
       "      <th></th>\n",
       "    </tr>\n",
       "  </thead>\n",
       "  <tbody>\n",
       "    <tr>\n",
       "      <th>Commercial associate</th>\n",
       "      <td>7052</td>\n",
       "      <td>119</td>\n",
       "      <td>7171</td>\n",
       "      <td>0.280576</td>\n",
       "      <td>0.281991</td>\n",
       "      <td>-0.005028</td>\n",
       "      <td>0.000007</td>\n",
       "    </tr>\n",
       "    <tr>\n",
       "      <th>Pensioner</th>\n",
       "      <td>13</td>\n",
       "      <td>13</td>\n",
       "      <td>26</td>\n",
       "      <td>0.000517</td>\n",
       "      <td>0.030806</td>\n",
       "      <td>-4.086971</td>\n",
       "      <td>0.123788</td>\n",
       "    </tr>\n",
       "    <tr>\n",
       "      <th>State servant</th>\n",
       "      <td>2437</td>\n",
       "      <td>29</td>\n",
       "      <td>2466</td>\n",
       "      <td>0.09696</td>\n",
       "      <td>0.06872</td>\n",
       "      <td>0.344256</td>\n",
       "      <td>0.009722</td>\n",
       "    </tr>\n",
       "    <tr>\n",
       "      <th>Student</th>\n",
       "      <td>10</td>\n",
       "      <td>0</td>\n",
       "      <td>10</td>\n",
       "      <td>0.000398</td>\n",
       "      <td>0.0</td>\n",
       "      <td>inf</td>\n",
       "      <td>inf</td>\n",
       "    </tr>\n",
       "    <tr>\n",
       "      <th>Working</th>\n",
       "      <td>15622</td>\n",
       "      <td>261</td>\n",
       "      <td>15883</td>\n",
       "      <td>0.621549</td>\n",
       "      <td>0.618483</td>\n",
       "      <td>0.004944</td>\n",
       "      <td>0.000015</td>\n",
       "    </tr>\n",
       "    <tr>\n",
       "      <th>All</th>\n",
       "      <td>25134</td>\n",
       "      <td>422</td>\n",
       "      <td>25556</td>\n",
       "      <td></td>\n",
       "      <td></td>\n",
       "      <td>0.000000</td>\n",
       "      <td>inf</td>\n",
       "    </tr>\n",
       "  </tbody>\n",
       "</table>\n",
       "</div>"
      ],
      "text/plain": [
       "target                    0    1    All proportion_good proportion_bad  \\\n",
       "NAME_INCOME_TYPE                                                         \n",
       "Commercial associate   7052  119   7171        0.280576       0.281991   \n",
       "Pensioner                13   13     26        0.000517       0.030806   \n",
       "State servant          2437   29   2466         0.09696        0.06872   \n",
       "Student                  10    0     10        0.000398            0.0   \n",
       "Working               15622  261  15883        0.621549       0.618483   \n",
       "All                   25134  422  25556                                  \n",
       "\n",
       "target                     WOE        IV  \n",
       "NAME_INCOME_TYPE                          \n",
       "Commercial associate -0.005028  0.000007  \n",
       "Pensioner            -4.086971  0.123788  \n",
       "State servant         0.344256  0.009722  \n",
       "Student                    inf       inf  \n",
       "Working               0.004944  0.000015  \n",
       "All                   0.000000       inf  "
      ]
     },
     "execution_count": 127,
     "metadata": {},
     "output_type": "execute_result"
    }
   ],
   "source": [
    "df_income"
   ]
  },
  {
   "cell_type": "markdown",
   "metadata": {},
   "source": [
    "Since IV here is infinite because of Student type, we will further analyse this variable after removing student"
   ]
  },
  {
   "cell_type": "code",
   "execution_count": 128,
   "metadata": {},
   "outputs": [
    {
     "data": {
      "text/html": [
       "<div>\n",
       "<style scoped>\n",
       "    .dataframe tbody tr th:only-of-type {\n",
       "        vertical-align: middle;\n",
       "    }\n",
       "\n",
       "    .dataframe tbody tr th {\n",
       "        vertical-align: top;\n",
       "    }\n",
       "\n",
       "    .dataframe thead th {\n",
       "        text-align: right;\n",
       "    }\n",
       "</style>\n",
       "<table border=\"1\" class=\"dataframe\">\n",
       "  <thead>\n",
       "    <tr style=\"text-align: right;\">\n",
       "      <th>target</th>\n",
       "      <th>0</th>\n",
       "      <th>1</th>\n",
       "      <th>All</th>\n",
       "    </tr>\n",
       "    <tr>\n",
       "      <th>NAME_EDUCATION_TYPE</th>\n",
       "      <th></th>\n",
       "      <th></th>\n",
       "      <th></th>\n",
       "    </tr>\n",
       "  </thead>\n",
       "  <tbody>\n",
       "    <tr>\n",
       "      <th>Academic degree</th>\n",
       "      <td>14</td>\n",
       "      <td>0</td>\n",
       "      <td>14</td>\n",
       "    </tr>\n",
       "    <tr>\n",
       "      <th>Higher education</th>\n",
       "      <td>7132</td>\n",
       "      <td>128</td>\n",
       "      <td>7260</td>\n",
       "    </tr>\n",
       "    <tr>\n",
       "      <th>Incomplete higher</th>\n",
       "      <td>993</td>\n",
       "      <td>21</td>\n",
       "      <td>1014</td>\n",
       "    </tr>\n",
       "    <tr>\n",
       "      <th>Lower secondary</th>\n",
       "      <td>187</td>\n",
       "      <td>6</td>\n",
       "      <td>193</td>\n",
       "    </tr>\n",
       "    <tr>\n",
       "      <th>Secondary / secondary special</th>\n",
       "      <td>16808</td>\n",
       "      <td>267</td>\n",
       "      <td>17075</td>\n",
       "    </tr>\n",
       "    <tr>\n",
       "      <th>All</th>\n",
       "      <td>25134</td>\n",
       "      <td>422</td>\n",
       "      <td>25556</td>\n",
       "    </tr>\n",
       "  </tbody>\n",
       "</table>\n",
       "</div>"
      ],
      "text/plain": [
       "target                             0    1    All\n",
       "NAME_EDUCATION_TYPE                             \n",
       "Academic degree                   14    0     14\n",
       "Higher education                7132  128   7260\n",
       "Incomplete higher                993   21   1014\n",
       "Lower secondary                  187    6    193\n",
       "Secondary / secondary special  16808  267  17075\n",
       "All                            25134  422  25556"
      ]
     },
     "execution_count": 128,
     "metadata": {},
     "output_type": "execute_result"
    }
   ],
   "source": [
    "# Good (0) and Bad(1) customers based on FLAG_OWN_CAR\n",
    "df_education = pd.crosstab(index=df_pandas['NAME_EDUCATION_TYPE'], columns=df_pandas['target'], margins = True)\n",
    "df_education"
   ]
  },
  {
   "cell_type": "code",
   "execution_count": 129,
   "metadata": {},
   "outputs": [],
   "source": [
    "#Proportion of good customers for all education types\n",
    "df_education['proportion_good'] = ''\n",
    "for j in range(0,df_education.index.size-1):\n",
    "    df_education['proportion_good'][j]=df_education[0][j]/df_education[0][df_education.index.size-1]\n",
    "    \n",
    "#Poportion of bad customers for all education types\n",
    "df_education['proportion_bad'] = ''\n",
    "for j in range(0,df_education.index.size-1):\n",
    "    df_education['proportion_bad'][j]=df_education[1][j]/df_education[1][df_education.index.size-1]"
   ]
  },
  {
   "cell_type": "code",
   "execution_count": 130,
   "metadata": {},
   "outputs": [
    {
     "data": {
      "text/html": [
       "<div>\n",
       "<style scoped>\n",
       "    .dataframe tbody tr th:only-of-type {\n",
       "        vertical-align: middle;\n",
       "    }\n",
       "\n",
       "    .dataframe tbody tr th {\n",
       "        vertical-align: top;\n",
       "    }\n",
       "\n",
       "    .dataframe thead th {\n",
       "        text-align: right;\n",
       "    }\n",
       "</style>\n",
       "<table border=\"1\" class=\"dataframe\">\n",
       "  <thead>\n",
       "    <tr style=\"text-align: right;\">\n",
       "      <th>target</th>\n",
       "      <th>0</th>\n",
       "      <th>1</th>\n",
       "      <th>All</th>\n",
       "      <th>proportion_good</th>\n",
       "      <th>proportion_bad</th>\n",
       "    </tr>\n",
       "    <tr>\n",
       "      <th>NAME_EDUCATION_TYPE</th>\n",
       "      <th></th>\n",
       "      <th></th>\n",
       "      <th></th>\n",
       "      <th></th>\n",
       "      <th></th>\n",
       "    </tr>\n",
       "  </thead>\n",
       "  <tbody>\n",
       "    <tr>\n",
       "      <th>Academic degree</th>\n",
       "      <td>14</td>\n",
       "      <td>0</td>\n",
       "      <td>14</td>\n",
       "      <td>0.000557</td>\n",
       "      <td>0.0</td>\n",
       "    </tr>\n",
       "    <tr>\n",
       "      <th>Higher education</th>\n",
       "      <td>7132</td>\n",
       "      <td>128</td>\n",
       "      <td>7260</td>\n",
       "      <td>0.283759</td>\n",
       "      <td>0.303318</td>\n",
       "    </tr>\n",
       "    <tr>\n",
       "      <th>Incomplete higher</th>\n",
       "      <td>993</td>\n",
       "      <td>21</td>\n",
       "      <td>1014</td>\n",
       "      <td>0.039508</td>\n",
       "      <td>0.049763</td>\n",
       "    </tr>\n",
       "    <tr>\n",
       "      <th>Lower secondary</th>\n",
       "      <td>187</td>\n",
       "      <td>6</td>\n",
       "      <td>193</td>\n",
       "      <td>0.00744</td>\n",
       "      <td>0.014218</td>\n",
       "    </tr>\n",
       "    <tr>\n",
       "      <th>Secondary / secondary special</th>\n",
       "      <td>16808</td>\n",
       "      <td>267</td>\n",
       "      <td>17075</td>\n",
       "      <td>0.668736</td>\n",
       "      <td>0.632701</td>\n",
       "    </tr>\n",
       "    <tr>\n",
       "      <th>All</th>\n",
       "      <td>25134</td>\n",
       "      <td>422</td>\n",
       "      <td>25556</td>\n",
       "      <td></td>\n",
       "      <td></td>\n",
       "    </tr>\n",
       "  </tbody>\n",
       "</table>\n",
       "</div>"
      ],
      "text/plain": [
       "target                             0    1    All proportion_good  \\\n",
       "NAME_EDUCATION_TYPE                                                \n",
       "Academic degree                   14    0     14        0.000557   \n",
       "Higher education                7132  128   7260        0.283759   \n",
       "Incomplete higher                993   21   1014        0.039508   \n",
       "Lower secondary                  187    6    193         0.00744   \n",
       "Secondary / secondary special  16808  267  17075        0.668736   \n",
       "All                            25134  422  25556                   \n",
       "\n",
       "target                        proportion_bad  \n",
       "NAME_EDUCATION_TYPE                           \n",
       "Academic degree                          0.0  \n",
       "Higher education                    0.303318  \n",
       "Incomplete higher                   0.049763  \n",
       "Lower secondary                     0.014218  \n",
       "Secondary / secondary special       0.632701  \n",
       "All                                           "
      ]
     },
     "execution_count": 130,
     "metadata": {},
     "output_type": "execute_result"
    }
   ],
   "source": [
    "df_education"
   ]
  },
  {
   "cell_type": "code",
   "execution_count": 131,
   "metadata": {},
   "outputs": [],
   "source": [
    "# Calculating WOE for education type\n",
    "df_education['WOE'] = np.log(df_education['proportion_good'][0])-np.log(df_education['proportion_bad'][0])\n",
    "for i in range(1,df_education.index.size-1):\n",
    "    df_education['WOE'][i] = np.log(df_education['proportion_good'][i])-np.log(df_education['proportion_bad'][i])  \n",
    "    \n",
    "df_education['WOE'][df_education.index.size-1] = 0\n",
    "\n",
    "# Calculating IV\n",
    "df_education['IV'] = df_education['WOE'][0]*(df_education['proportion_good'][0]-df_education['proportion_bad'][0])\n",
    "for i in range(1,df_income.index.size-1):\n",
    "    df_education['IV'][i] = df_education['WOE'][i]*(df_education['proportion_good'][i]-df_education['proportion_bad'][i])\n",
    "    \n",
    "df_education['IV'][df_education.index.size-1] = df_education['IV'][0] + df_education['IV'][1] + df_education['IV'][2] + df_education['IV'][3] + df_education['IV'][4]"
   ]
  },
  {
   "cell_type": "code",
   "execution_count": 132,
   "metadata": {},
   "outputs": [
    {
     "data": {
      "text/html": [
       "<div>\n",
       "<style scoped>\n",
       "    .dataframe tbody tr th:only-of-type {\n",
       "        vertical-align: middle;\n",
       "    }\n",
       "\n",
       "    .dataframe tbody tr th {\n",
       "        vertical-align: top;\n",
       "    }\n",
       "\n",
       "    .dataframe thead th {\n",
       "        text-align: right;\n",
       "    }\n",
       "</style>\n",
       "<table border=\"1\" class=\"dataframe\">\n",
       "  <thead>\n",
       "    <tr style=\"text-align: right;\">\n",
       "      <th>target</th>\n",
       "      <th>0</th>\n",
       "      <th>1</th>\n",
       "      <th>All</th>\n",
       "      <th>proportion_good</th>\n",
       "      <th>proportion_bad</th>\n",
       "      <th>WOE</th>\n",
       "      <th>IV</th>\n",
       "    </tr>\n",
       "    <tr>\n",
       "      <th>NAME_EDUCATION_TYPE</th>\n",
       "      <th></th>\n",
       "      <th></th>\n",
       "      <th></th>\n",
       "      <th></th>\n",
       "      <th></th>\n",
       "      <th></th>\n",
       "      <th></th>\n",
       "    </tr>\n",
       "  </thead>\n",
       "  <tbody>\n",
       "    <tr>\n",
       "      <th>Academic degree</th>\n",
       "      <td>14</td>\n",
       "      <td>0</td>\n",
       "      <td>14</td>\n",
       "      <td>0.000557</td>\n",
       "      <td>0.0</td>\n",
       "      <td>inf</td>\n",
       "      <td>inf</td>\n",
       "    </tr>\n",
       "    <tr>\n",
       "      <th>Higher education</th>\n",
       "      <td>7132</td>\n",
       "      <td>128</td>\n",
       "      <td>7260</td>\n",
       "      <td>0.283759</td>\n",
       "      <td>0.303318</td>\n",
       "      <td>-0.066655</td>\n",
       "      <td>0.001304</td>\n",
       "    </tr>\n",
       "    <tr>\n",
       "      <th>Incomplete higher</th>\n",
       "      <td>993</td>\n",
       "      <td>21</td>\n",
       "      <td>1014</td>\n",
       "      <td>0.039508</td>\n",
       "      <td>0.049763</td>\n",
       "      <td>-0.230763</td>\n",
       "      <td>0.002366</td>\n",
       "    </tr>\n",
       "    <tr>\n",
       "      <th>Lower secondary</th>\n",
       "      <td>187</td>\n",
       "      <td>6</td>\n",
       "      <td>193</td>\n",
       "      <td>0.00744</td>\n",
       "      <td>0.014218</td>\n",
       "      <td>-0.647622</td>\n",
       "      <td>0.004390</td>\n",
       "    </tr>\n",
       "    <tr>\n",
       "      <th>Secondary / secondary special</th>\n",
       "      <td>16808</td>\n",
       "      <td>267</td>\n",
       "      <td>17075</td>\n",
       "      <td>0.668736</td>\n",
       "      <td>0.632701</td>\n",
       "      <td>0.055390</td>\n",
       "      <td>0.001996</td>\n",
       "    </tr>\n",
       "    <tr>\n",
       "      <th>All</th>\n",
       "      <td>25134</td>\n",
       "      <td>422</td>\n",
       "      <td>25556</td>\n",
       "      <td></td>\n",
       "      <td></td>\n",
       "      <td>0.000000</td>\n",
       "      <td>inf</td>\n",
       "    </tr>\n",
       "  </tbody>\n",
       "</table>\n",
       "</div>"
      ],
      "text/plain": [
       "target                             0    1    All proportion_good  \\\n",
       "NAME_EDUCATION_TYPE                                                \n",
       "Academic degree                   14    0     14        0.000557   \n",
       "Higher education                7132  128   7260        0.283759   \n",
       "Incomplete higher                993   21   1014        0.039508   \n",
       "Lower secondary                  187    6    193         0.00744   \n",
       "Secondary / secondary special  16808  267  17075        0.668736   \n",
       "All                            25134  422  25556                   \n",
       "\n",
       "target                        proportion_bad       WOE        IV  \n",
       "NAME_EDUCATION_TYPE                                               \n",
       "Academic degree                          0.0       inf       inf  \n",
       "Higher education                    0.303318 -0.066655  0.001304  \n",
       "Incomplete higher                   0.049763 -0.230763  0.002366  \n",
       "Lower secondary                     0.014218 -0.647622  0.004390  \n",
       "Secondary / secondary special       0.632701  0.055390  0.001996  \n",
       "All                                           0.000000       inf  "
      ]
     },
     "execution_count": 132,
     "metadata": {},
     "output_type": "execute_result"
    }
   ],
   "source": [
    "df_education"
   ]
  },
  {
   "cell_type": "markdown",
   "metadata": {},
   "source": [
    "We will remove the academic degree education type and then perform the analysis because customers with a academic degree have no delinquency"
   ]
  },
  {
   "cell_type": "code",
   "execution_count": 133,
   "metadata": {},
   "outputs": [
    {
     "data": {
      "text/html": [
       "<div>\n",
       "<style scoped>\n",
       "    .dataframe tbody tr th:only-of-type {\n",
       "        vertical-align: middle;\n",
       "    }\n",
       "\n",
       "    .dataframe tbody tr th {\n",
       "        vertical-align: top;\n",
       "    }\n",
       "\n",
       "    .dataframe thead th {\n",
       "        text-align: right;\n",
       "    }\n",
       "</style>\n",
       "<table border=\"1\" class=\"dataframe\">\n",
       "  <thead>\n",
       "    <tr style=\"text-align: right;\">\n",
       "      <th>target</th>\n",
       "      <th>0</th>\n",
       "      <th>1</th>\n",
       "      <th>All</th>\n",
       "    </tr>\n",
       "    <tr>\n",
       "      <th>NAME_FAMILY_STATUS</th>\n",
       "      <th></th>\n",
       "      <th></th>\n",
       "      <th></th>\n",
       "    </tr>\n",
       "  </thead>\n",
       "  <tbody>\n",
       "    <tr>\n",
       "      <th>Civil marriage</th>\n",
       "      <td>2133</td>\n",
       "      <td>32</td>\n",
       "      <td>2165</td>\n",
       "    </tr>\n",
       "    <tr>\n",
       "      <th>Married</th>\n",
       "      <td>17509</td>\n",
       "      <td>277</td>\n",
       "      <td>17786</td>\n",
       "    </tr>\n",
       "    <tr>\n",
       "      <th>Separated</th>\n",
       "      <td>1467</td>\n",
       "      <td>15</td>\n",
       "      <td>1482</td>\n",
       "    </tr>\n",
       "    <tr>\n",
       "      <th>Single / not married</th>\n",
       "      <td>3445</td>\n",
       "      <td>83</td>\n",
       "      <td>3528</td>\n",
       "    </tr>\n",
       "    <tr>\n",
       "      <th>Widow</th>\n",
       "      <td>580</td>\n",
       "      <td>15</td>\n",
       "      <td>595</td>\n",
       "    </tr>\n",
       "    <tr>\n",
       "      <th>All</th>\n",
       "      <td>25134</td>\n",
       "      <td>422</td>\n",
       "      <td>25556</td>\n",
       "    </tr>\n",
       "  </tbody>\n",
       "</table>\n",
       "</div>"
      ],
      "text/plain": [
       "target                    0    1    All\n",
       "NAME_FAMILY_STATUS                     \n",
       "Civil marriage         2133   32   2165\n",
       "Married               17509  277  17786\n",
       "Separated              1467   15   1482\n",
       "Single / not married   3445   83   3528\n",
       "Widow                   580   15    595\n",
       "All                   25134  422  25556"
      ]
     },
     "execution_count": 133,
     "metadata": {},
     "output_type": "execute_result"
    }
   ],
   "source": [
    "# Good (0) and Bad(1) customers based on FLAG_OWN_CAR\n",
    "df_marital = pd.crosstab(index=df_pandas['NAME_FAMILY_STATUS'], columns=df_pandas['target'], margins = True)\n",
    "df_marital"
   ]
  },
  {
   "cell_type": "code",
   "execution_count": 134,
   "metadata": {},
   "outputs": [
    {
     "data": {
      "text/html": [
       "<div>\n",
       "<style scoped>\n",
       "    .dataframe tbody tr th:only-of-type {\n",
       "        vertical-align: middle;\n",
       "    }\n",
       "\n",
       "    .dataframe tbody tr th {\n",
       "        vertical-align: top;\n",
       "    }\n",
       "\n",
       "    .dataframe thead th {\n",
       "        text-align: right;\n",
       "    }\n",
       "</style>\n",
       "<table border=\"1\" class=\"dataframe\">\n",
       "  <thead>\n",
       "    <tr style=\"text-align: right;\">\n",
       "      <th>target</th>\n",
       "      <th>0</th>\n",
       "      <th>1</th>\n",
       "      <th>All</th>\n",
       "      <th>proportion_good</th>\n",
       "      <th>proportion_bad</th>\n",
       "    </tr>\n",
       "    <tr>\n",
       "      <th>NAME_FAMILY_STATUS</th>\n",
       "      <th></th>\n",
       "      <th></th>\n",
       "      <th></th>\n",
       "      <th></th>\n",
       "      <th></th>\n",
       "    </tr>\n",
       "  </thead>\n",
       "  <tbody>\n",
       "    <tr>\n",
       "      <th>Civil marriage</th>\n",
       "      <td>2133</td>\n",
       "      <td>32</td>\n",
       "      <td>2165</td>\n",
       "      <td>0.084865</td>\n",
       "      <td>0.075829</td>\n",
       "    </tr>\n",
       "    <tr>\n",
       "      <th>Married</th>\n",
       "      <td>17509</td>\n",
       "      <td>277</td>\n",
       "      <td>17786</td>\n",
       "      <td>0.696626</td>\n",
       "      <td>0.656398</td>\n",
       "    </tr>\n",
       "    <tr>\n",
       "      <th>Separated</th>\n",
       "      <td>1467</td>\n",
       "      <td>15</td>\n",
       "      <td>1482</td>\n",
       "      <td>0.058367</td>\n",
       "      <td>0.035545</td>\n",
       "    </tr>\n",
       "    <tr>\n",
       "      <th>Single / not married</th>\n",
       "      <td>3445</td>\n",
       "      <td>83</td>\n",
       "      <td>3528</td>\n",
       "      <td>0.137065</td>\n",
       "      <td>0.196682</td>\n",
       "    </tr>\n",
       "    <tr>\n",
       "      <th>Widow</th>\n",
       "      <td>580</td>\n",
       "      <td>15</td>\n",
       "      <td>595</td>\n",
       "      <td>0.023076</td>\n",
       "      <td>0.035545</td>\n",
       "    </tr>\n",
       "    <tr>\n",
       "      <th>All</th>\n",
       "      <td>25134</td>\n",
       "      <td>422</td>\n",
       "      <td>25556</td>\n",
       "      <td></td>\n",
       "      <td></td>\n",
       "    </tr>\n",
       "  </tbody>\n",
       "</table>\n",
       "</div>"
      ],
      "text/plain": [
       "target                    0    1    All proportion_good proportion_bad\n",
       "NAME_FAMILY_STATUS                                                    \n",
       "Civil marriage         2133   32   2165        0.084865       0.075829\n",
       "Married               17509  277  17786        0.696626       0.656398\n",
       "Separated              1467   15   1482        0.058367       0.035545\n",
       "Single / not married   3445   83   3528        0.137065       0.196682\n",
       "Widow                   580   15    595        0.023076       0.035545\n",
       "All                   25134  422  25556                               "
      ]
     },
     "execution_count": 134,
     "metadata": {},
     "output_type": "execute_result"
    }
   ],
   "source": [
    "#Proportion of good customers for all family status types\n",
    "df_marital['proportion_good'] = ''\n",
    "for j in range(0,df_marital.index.size-1):\n",
    "    df_marital['proportion_good'][j]=df_marital[0][j]/df_marital[0][df_marital.index.size-1]\n",
    "    \n",
    "#Poportion of bad customers for all family status types\n",
    "df_marital['proportion_bad'] = ''\n",
    "for j in range(0,df_marital.index.size-1):\n",
    "    df_marital['proportion_bad'][j]=df_marital[1][j]/df_marital[1][df_marital.index.size-1]\n",
    "    \n",
    "df_marital"
   ]
  },
  {
   "cell_type": "code",
   "execution_count": 135,
   "metadata": {},
   "outputs": [
    {
     "data": {
      "text/html": [
       "<div>\n",
       "<style scoped>\n",
       "    .dataframe tbody tr th:only-of-type {\n",
       "        vertical-align: middle;\n",
       "    }\n",
       "\n",
       "    .dataframe tbody tr th {\n",
       "        vertical-align: top;\n",
       "    }\n",
       "\n",
       "    .dataframe thead th {\n",
       "        text-align: right;\n",
       "    }\n",
       "</style>\n",
       "<table border=\"1\" class=\"dataframe\">\n",
       "  <thead>\n",
       "    <tr style=\"text-align: right;\">\n",
       "      <th>target</th>\n",
       "      <th>0</th>\n",
       "      <th>1</th>\n",
       "      <th>All</th>\n",
       "      <th>proportion_good</th>\n",
       "      <th>proportion_bad</th>\n",
       "      <th>WOE</th>\n",
       "      <th>IV</th>\n",
       "    </tr>\n",
       "    <tr>\n",
       "      <th>NAME_FAMILY_STATUS</th>\n",
       "      <th></th>\n",
       "      <th></th>\n",
       "      <th></th>\n",
       "      <th></th>\n",
       "      <th></th>\n",
       "      <th></th>\n",
       "      <th></th>\n",
       "    </tr>\n",
       "  </thead>\n",
       "  <tbody>\n",
       "    <tr>\n",
       "      <th>Civil marriage</th>\n",
       "      <td>2133</td>\n",
       "      <td>32</td>\n",
       "      <td>2165</td>\n",
       "      <td>0.084865</td>\n",
       "      <td>0.075829</td>\n",
       "      <td>0.112577</td>\n",
       "      <td>0.001017</td>\n",
       "    </tr>\n",
       "    <tr>\n",
       "      <th>Married</th>\n",
       "      <td>17509</td>\n",
       "      <td>277</td>\n",
       "      <td>17786</td>\n",
       "      <td>0.696626</td>\n",
       "      <td>0.656398</td>\n",
       "      <td>0.059481</td>\n",
       "      <td>0.002393</td>\n",
       "    </tr>\n",
       "    <tr>\n",
       "      <th>Separated</th>\n",
       "      <td>1467</td>\n",
       "      <td>15</td>\n",
       "      <td>1482</td>\n",
       "      <td>0.058367</td>\n",
       "      <td>0.035545</td>\n",
       "      <td>0.495953</td>\n",
       "      <td>0.011319</td>\n",
       "    </tr>\n",
       "    <tr>\n",
       "      <th>Single / not married</th>\n",
       "      <td>3445</td>\n",
       "      <td>83</td>\n",
       "      <td>3528</td>\n",
       "      <td>0.137065</td>\n",
       "      <td>0.196682</td>\n",
       "      <td>-0.361133</td>\n",
       "      <td>0.021530</td>\n",
       "    </tr>\n",
       "    <tr>\n",
       "      <th>Widow</th>\n",
       "      <td>580</td>\n",
       "      <td>15</td>\n",
       "      <td>595</td>\n",
       "      <td>0.023076</td>\n",
       "      <td>0.035545</td>\n",
       "      <td>-0.431994</td>\n",
       "      <td>0.005386</td>\n",
       "    </tr>\n",
       "    <tr>\n",
       "      <th>All</th>\n",
       "      <td>25134</td>\n",
       "      <td>422</td>\n",
       "      <td>25556</td>\n",
       "      <td></td>\n",
       "      <td></td>\n",
       "      <td>0.000000</td>\n",
       "      <td>0.041645</td>\n",
       "    </tr>\n",
       "  </tbody>\n",
       "</table>\n",
       "</div>"
      ],
      "text/plain": [
       "target                    0    1    All proportion_good proportion_bad  \\\n",
       "NAME_FAMILY_STATUS                                                       \n",
       "Civil marriage         2133   32   2165        0.084865       0.075829   \n",
       "Married               17509  277  17786        0.696626       0.656398   \n",
       "Separated              1467   15   1482        0.058367       0.035545   \n",
       "Single / not married   3445   83   3528        0.137065       0.196682   \n",
       "Widow                   580   15    595        0.023076       0.035545   \n",
       "All                   25134  422  25556                                  \n",
       "\n",
       "target                     WOE        IV  \n",
       "NAME_FAMILY_STATUS                        \n",
       "Civil marriage        0.112577  0.001017  \n",
       "Married               0.059481  0.002393  \n",
       "Separated             0.495953  0.011319  \n",
       "Single / not married -0.361133  0.021530  \n",
       "Widow                -0.431994  0.005386  \n",
       "All                   0.000000  0.041645  "
      ]
     },
     "execution_count": 135,
     "metadata": {},
     "output_type": "execute_result"
    }
   ],
   "source": [
    "# Calculating WOE for education type\n",
    "df_marital['WOE'] = np.log(df_marital['proportion_good'][0])-np.log(df_marital['proportion_bad'][0])\n",
    "for i in range(1,df_marital.index.size-1):\n",
    "    df_marital['WOE'][i] = np.log(df_marital['proportion_good'][i])-np.log(df_marital['proportion_bad'][i])  \n",
    "    \n",
    "df_marital['WOE'][df_marital.index.size-1] = 0\n",
    "\n",
    "# Calculating IV\n",
    "df_marital['IV'] = df_marital['WOE'][0]*(df_marital['proportion_good'][0]-df_marital['proportion_bad'][0])\n",
    "for i in range(1,df_marital.index.size-1):\n",
    "    df_marital['IV'][i] = df_marital['WOE'][i]*(df_marital['proportion_good'][i]-df_marital['proportion_bad'][i])\n",
    "    \n",
    "df_marital['IV'][df_marital.index.size-1] = df_marital['IV'][0] + df_marital['IV'][1] + df_marital['IV'][2] + df_marital['IV'][3] + df_marital['IV'][4]\n",
    "\n",
    "df_marital"
   ]
  },
  {
   "cell_type": "markdown",
   "metadata": {},
   "source": [
    "Since the IV here is 0.041 which is greater than the threshold of 0.002, we will consider this variable in our model"
   ]
  },
  {
   "cell_type": "code",
   "execution_count": 136,
   "metadata": {},
   "outputs": [
    {
     "data": {
      "text/html": [
       "<div>\n",
       "<style scoped>\n",
       "    .dataframe tbody tr th:only-of-type {\n",
       "        vertical-align: middle;\n",
       "    }\n",
       "\n",
       "    .dataframe tbody tr th {\n",
       "        vertical-align: top;\n",
       "    }\n",
       "\n",
       "    .dataframe thead th {\n",
       "        text-align: right;\n",
       "    }\n",
       "</style>\n",
       "<table border=\"1\" class=\"dataframe\">\n",
       "  <thead>\n",
       "    <tr style=\"text-align: right;\">\n",
       "      <th>target</th>\n",
       "      <th>0</th>\n",
       "      <th>1</th>\n",
       "      <th>All</th>\n",
       "    </tr>\n",
       "    <tr>\n",
       "      <th>NAME_HOUSING_TYPE</th>\n",
       "      <th></th>\n",
       "      <th></th>\n",
       "      <th></th>\n",
       "    </tr>\n",
       "  </thead>\n",
       "  <tbody>\n",
       "    <tr>\n",
       "      <th>Co-op apartment</th>\n",
       "      <td>152</td>\n",
       "      <td>3</td>\n",
       "      <td>155</td>\n",
       "    </tr>\n",
       "    <tr>\n",
       "      <th>House / apartment</th>\n",
       "      <td>22102</td>\n",
       "      <td>364</td>\n",
       "      <td>22466</td>\n",
       "    </tr>\n",
       "    <tr>\n",
       "      <th>Municipal apartment</th>\n",
       "      <td>812</td>\n",
       "      <td>19</td>\n",
       "      <td>831</td>\n",
       "    </tr>\n",
       "    <tr>\n",
       "      <th>Office apartment</th>\n",
       "      <td>199</td>\n",
       "      <td>5</td>\n",
       "      <td>204</td>\n",
       "    </tr>\n",
       "    <tr>\n",
       "      <th>Rented apartment</th>\n",
       "      <td>439</td>\n",
       "      <td>6</td>\n",
       "      <td>445</td>\n",
       "    </tr>\n",
       "    <tr>\n",
       "      <th>With parents</th>\n",
       "      <td>1430</td>\n",
       "      <td>25</td>\n",
       "      <td>1455</td>\n",
       "    </tr>\n",
       "    <tr>\n",
       "      <th>All</th>\n",
       "      <td>25134</td>\n",
       "      <td>422</td>\n",
       "      <td>25556</td>\n",
       "    </tr>\n",
       "  </tbody>\n",
       "</table>\n",
       "</div>"
      ],
      "text/plain": [
       "target                   0    1    All\n",
       "NAME_HOUSING_TYPE                     \n",
       "Co-op apartment        152    3    155\n",
       "House / apartment    22102  364  22466\n",
       "Municipal apartment    812   19    831\n",
       "Office apartment       199    5    204\n",
       "Rented apartment       439    6    445\n",
       "With parents          1430   25   1455\n",
       "All                  25134  422  25556"
      ]
     },
     "execution_count": 136,
     "metadata": {},
     "output_type": "execute_result"
    }
   ],
   "source": [
    "# Good (0) and Bad(1) customers based on FLAG_OWN_CAR\n",
    "df_housing = pd.crosstab(index=df_pandas['NAME_HOUSING_TYPE'], columns=df_pandas['target'], margins = True)\n",
    "df_housing"
   ]
  },
  {
   "cell_type": "code",
   "execution_count": 137,
   "metadata": {},
   "outputs": [
    {
     "data": {
      "text/html": [
       "<div>\n",
       "<style scoped>\n",
       "    .dataframe tbody tr th:only-of-type {\n",
       "        vertical-align: middle;\n",
       "    }\n",
       "\n",
       "    .dataframe tbody tr th {\n",
       "        vertical-align: top;\n",
       "    }\n",
       "\n",
       "    .dataframe thead th {\n",
       "        text-align: right;\n",
       "    }\n",
       "</style>\n",
       "<table border=\"1\" class=\"dataframe\">\n",
       "  <thead>\n",
       "    <tr style=\"text-align: right;\">\n",
       "      <th>target</th>\n",
       "      <th>0</th>\n",
       "      <th>1</th>\n",
       "      <th>All</th>\n",
       "      <th>proportion_good</th>\n",
       "      <th>proportion_bad</th>\n",
       "    </tr>\n",
       "    <tr>\n",
       "      <th>NAME_HOUSING_TYPE</th>\n",
       "      <th></th>\n",
       "      <th></th>\n",
       "      <th></th>\n",
       "      <th></th>\n",
       "      <th></th>\n",
       "    </tr>\n",
       "  </thead>\n",
       "  <tbody>\n",
       "    <tr>\n",
       "      <th>Co-op apartment</th>\n",
       "      <td>152</td>\n",
       "      <td>3</td>\n",
       "      <td>155</td>\n",
       "      <td>0.006048</td>\n",
       "      <td>0.007109</td>\n",
       "    </tr>\n",
       "    <tr>\n",
       "      <th>House / apartment</th>\n",
       "      <td>22102</td>\n",
       "      <td>364</td>\n",
       "      <td>22466</td>\n",
       "      <td>0.879367</td>\n",
       "      <td>0.862559</td>\n",
       "    </tr>\n",
       "    <tr>\n",
       "      <th>Municipal apartment</th>\n",
       "      <td>812</td>\n",
       "      <td>19</td>\n",
       "      <td>831</td>\n",
       "      <td>0.032307</td>\n",
       "      <td>0.045024</td>\n",
       "    </tr>\n",
       "    <tr>\n",
       "      <th>Office apartment</th>\n",
       "      <td>199</td>\n",
       "      <td>5</td>\n",
       "      <td>204</td>\n",
       "      <td>0.007918</td>\n",
       "      <td>0.011848</td>\n",
       "    </tr>\n",
       "    <tr>\n",
       "      <th>Rented apartment</th>\n",
       "      <td>439</td>\n",
       "      <td>6</td>\n",
       "      <td>445</td>\n",
       "      <td>0.017466</td>\n",
       "      <td>0.014218</td>\n",
       "    </tr>\n",
       "    <tr>\n",
       "      <th>With parents</th>\n",
       "      <td>1430</td>\n",
       "      <td>25</td>\n",
       "      <td>1455</td>\n",
       "      <td>0.056895</td>\n",
       "      <td>0.059242</td>\n",
       "    </tr>\n",
       "    <tr>\n",
       "      <th>All</th>\n",
       "      <td>25134</td>\n",
       "      <td>422</td>\n",
       "      <td>25556</td>\n",
       "      <td></td>\n",
       "      <td></td>\n",
       "    </tr>\n",
       "  </tbody>\n",
       "</table>\n",
       "</div>"
      ],
      "text/plain": [
       "target                   0    1    All proportion_good proportion_bad\n",
       "NAME_HOUSING_TYPE                                                    \n",
       "Co-op apartment        152    3    155        0.006048       0.007109\n",
       "House / apartment    22102  364  22466        0.879367       0.862559\n",
       "Municipal apartment    812   19    831        0.032307       0.045024\n",
       "Office apartment       199    5    204        0.007918       0.011848\n",
       "Rented apartment       439    6    445        0.017466       0.014218\n",
       "With parents          1430   25   1455        0.056895       0.059242\n",
       "All                  25134  422  25556                               "
      ]
     },
     "execution_count": 137,
     "metadata": {},
     "output_type": "execute_result"
    }
   ],
   "source": [
    "#Proportion of good customers for all housing types\n",
    "df_housing['proportion_good'] = ''\n",
    "for j in range(0,df_housing.index.size-1):\n",
    "    df_housing['proportion_good'][j]=df_housing[0][j]/df_housing[0][df_housing.index.size-1]\n",
    "    \n",
    "#Poportion of bad customers for all housing types\n",
    "df_housing['proportion_bad'] = ''\n",
    "for j in range(0,df_housing.index.size-1):\n",
    "    df_housing['proportion_bad'][j]=df_housing[1][j]/df_housing[1][df_housing.index.size-1]\n",
    "    \n",
    "df_housing"
   ]
  },
  {
   "cell_type": "code",
   "execution_count": 138,
   "metadata": {},
   "outputs": [
    {
     "data": {
      "text/html": [
       "<div>\n",
       "<style scoped>\n",
       "    .dataframe tbody tr th:only-of-type {\n",
       "        vertical-align: middle;\n",
       "    }\n",
       "\n",
       "    .dataframe tbody tr th {\n",
       "        vertical-align: top;\n",
       "    }\n",
       "\n",
       "    .dataframe thead th {\n",
       "        text-align: right;\n",
       "    }\n",
       "</style>\n",
       "<table border=\"1\" class=\"dataframe\">\n",
       "  <thead>\n",
       "    <tr style=\"text-align: right;\">\n",
       "      <th>target</th>\n",
       "      <th>0</th>\n",
       "      <th>1</th>\n",
       "      <th>All</th>\n",
       "      <th>proportion_good</th>\n",
       "      <th>proportion_bad</th>\n",
       "      <th>WOE</th>\n",
       "      <th>IV</th>\n",
       "    </tr>\n",
       "    <tr>\n",
       "      <th>NAME_HOUSING_TYPE</th>\n",
       "      <th></th>\n",
       "      <th></th>\n",
       "      <th></th>\n",
       "      <th></th>\n",
       "      <th></th>\n",
       "      <th></th>\n",
       "      <th></th>\n",
       "    </tr>\n",
       "  </thead>\n",
       "  <tbody>\n",
       "    <tr>\n",
       "      <th>Co-op apartment</th>\n",
       "      <td>152</td>\n",
       "      <td>3</td>\n",
       "      <td>155</td>\n",
       "      <td>0.006048</td>\n",
       "      <td>0.007109</td>\n",
       "      <td>-0.161703</td>\n",
       "      <td>0.000172</td>\n",
       "    </tr>\n",
       "    <tr>\n",
       "      <th>House / apartment</th>\n",
       "      <td>22102</td>\n",
       "      <td>364</td>\n",
       "      <td>22466</td>\n",
       "      <td>0.879367</td>\n",
       "      <td>0.862559</td>\n",
       "      <td>0.019298</td>\n",
       "      <td>0.000324</td>\n",
       "    </tr>\n",
       "    <tr>\n",
       "      <th>Municipal apartment</th>\n",
       "      <td>812</td>\n",
       "      <td>19</td>\n",
       "      <td>831</td>\n",
       "      <td>0.032307</td>\n",
       "      <td>0.045024</td>\n",
       "      <td>-0.331910</td>\n",
       "      <td>0.004221</td>\n",
       "    </tr>\n",
       "    <tr>\n",
       "      <th>Office apartment</th>\n",
       "      <td>199</td>\n",
       "      <td>5</td>\n",
       "      <td>204</td>\n",
       "      <td>0.007918</td>\n",
       "      <td>0.011848</td>\n",
       "      <td>-0.403105</td>\n",
       "      <td>0.001585</td>\n",
       "    </tr>\n",
       "    <tr>\n",
       "      <th>Rented apartment</th>\n",
       "      <td>439</td>\n",
       "      <td>6</td>\n",
       "      <td>445</td>\n",
       "      <td>0.017466</td>\n",
       "      <td>0.014218</td>\n",
       "      <td>0.205768</td>\n",
       "      <td>0.000668</td>\n",
       "    </tr>\n",
       "    <tr>\n",
       "      <th>With parents</th>\n",
       "      <td>1430</td>\n",
       "      <td>25</td>\n",
       "      <td>1455</td>\n",
       "      <td>0.056895</td>\n",
       "      <td>0.059242</td>\n",
       "      <td>-0.040418</td>\n",
       "      <td>0.000095</td>\n",
       "    </tr>\n",
       "    <tr>\n",
       "      <th>All</th>\n",
       "      <td>25134</td>\n",
       "      <td>422</td>\n",
       "      <td>25556</td>\n",
       "      <td></td>\n",
       "      <td></td>\n",
       "      <td>0.000000</td>\n",
       "      <td>0.007065</td>\n",
       "    </tr>\n",
       "  </tbody>\n",
       "</table>\n",
       "</div>"
      ],
      "text/plain": [
       "target                   0    1    All proportion_good proportion_bad  \\\n",
       "NAME_HOUSING_TYPE                                                       \n",
       "Co-op apartment        152    3    155        0.006048       0.007109   \n",
       "House / apartment    22102  364  22466        0.879367       0.862559   \n",
       "Municipal apartment    812   19    831        0.032307       0.045024   \n",
       "Office apartment       199    5    204        0.007918       0.011848   \n",
       "Rented apartment       439    6    445        0.017466       0.014218   \n",
       "With parents          1430   25   1455        0.056895       0.059242   \n",
       "All                  25134  422  25556                                  \n",
       "\n",
       "target                    WOE        IV  \n",
       "NAME_HOUSING_TYPE                        \n",
       "Co-op apartment     -0.161703  0.000172  \n",
       "House / apartment    0.019298  0.000324  \n",
       "Municipal apartment -0.331910  0.004221  \n",
       "Office apartment    -0.403105  0.001585  \n",
       "Rented apartment     0.205768  0.000668  \n",
       "With parents        -0.040418  0.000095  \n",
       "All                  0.000000  0.007065  "
      ]
     },
     "execution_count": 138,
     "metadata": {},
     "output_type": "execute_result"
    }
   ],
   "source": [
    "# Calculating WOE for housing type\n",
    "df_housing['WOE'] = np.log(df_housing['proportion_good'][0])-np.log(df_housing['proportion_bad'][0])\n",
    "for i in range(1,df_housing.index.size-1):\n",
    "    df_housing['WOE'][i] = np.log(df_housing['proportion_good'][i])-np.log(df_housing['proportion_bad'][i])  \n",
    "    \n",
    "df_housing['WOE'][df_housing.index.size-1] = 0\n",
    "\n",
    "# Calculating IV\n",
    "df_housing['IV'] = df_housing['WOE'][0]*(df_housing['proportion_good'][0]-df_housing['proportion_bad'][0])\n",
    "for i in range(1,df_housing.index.size-1):\n",
    "    df_housing['IV'][i] = df_housing['WOE'][i]*(df_housing['proportion_good'][i]-df_housing['proportion_bad'][i])\n",
    "    \n",
    "df_housing['IV'][df_housing.index.size-1] = df_housing['IV'][0] + df_housing['IV'][1] + df_housing['IV'][2] + df_housing['IV'][3] + df_housing['IV'][4] + df_housing['IV'][5]\n",
    "\n",
    "df_housing"
   ]
  },
  {
   "cell_type": "markdown",
   "metadata": {},
   "source": [
    "Since IV here is 0.007, which is greater than the threshold of 0.002, we will consider the housing variable in our model"
   ]
  },
  {
   "cell_type": "code",
   "execution_count": 139,
   "metadata": {},
   "outputs": [
    {
     "data": {
      "text/html": [
       "<div>\n",
       "<style scoped>\n",
       "    .dataframe tbody tr th:only-of-type {\n",
       "        vertical-align: middle;\n",
       "    }\n",
       "\n",
       "    .dataframe tbody tr th {\n",
       "        vertical-align: top;\n",
       "    }\n",
       "\n",
       "    .dataframe thead th {\n",
       "        text-align: right;\n",
       "    }\n",
       "</style>\n",
       "<table border=\"1\" class=\"dataframe\">\n",
       "  <thead>\n",
       "    <tr style=\"text-align: right;\">\n",
       "      <th>target</th>\n",
       "      <th>0</th>\n",
       "      <th>1</th>\n",
       "      <th>All</th>\n",
       "    </tr>\n",
       "    <tr>\n",
       "      <th>OCCUPATION_TYPE</th>\n",
       "      <th></th>\n",
       "      <th></th>\n",
       "      <th></th>\n",
       "    </tr>\n",
       "  </thead>\n",
       "  <tbody>\n",
       "    <tr>\n",
       "      <th>Accountants</th>\n",
       "      <td>1241</td>\n",
       "      <td>23</td>\n",
       "      <td>1264</td>\n",
       "    </tr>\n",
       "    <tr>\n",
       "      <th>Cleaning staff</th>\n",
       "      <td>551</td>\n",
       "      <td>5</td>\n",
       "      <td>556</td>\n",
       "    </tr>\n",
       "    <tr>\n",
       "      <th>Cooking staff</th>\n",
       "      <td>655</td>\n",
       "      <td>9</td>\n",
       "      <td>664</td>\n",
       "    </tr>\n",
       "    <tr>\n",
       "      <th>Core staff</th>\n",
       "      <td>3591</td>\n",
       "      <td>74</td>\n",
       "      <td>3665</td>\n",
       "    </tr>\n",
       "    <tr>\n",
       "      <th>Drivers</th>\n",
       "      <td>2138</td>\n",
       "      <td>49</td>\n",
       "      <td>2187</td>\n",
       "    </tr>\n",
       "    <tr>\n",
       "      <th>HR staff</th>\n",
       "      <td>85</td>\n",
       "      <td>1</td>\n",
       "      <td>86</td>\n",
       "    </tr>\n",
       "    <tr>\n",
       "      <th>High skill tech staff</th>\n",
       "      <td>1383</td>\n",
       "      <td>30</td>\n",
       "      <td>1413</td>\n",
       "    </tr>\n",
       "    <tr>\n",
       "      <th>IT staff</th>\n",
       "      <td>60</td>\n",
       "      <td>3</td>\n",
       "      <td>63</td>\n",
       "    </tr>\n",
       "    <tr>\n",
       "      <th>Laborers</th>\n",
       "      <td>6211</td>\n",
       "      <td>99</td>\n",
       "      <td>6310</td>\n",
       "    </tr>\n",
       "    <tr>\n",
       "      <th>Low-skill Laborers</th>\n",
       "      <td>175</td>\n",
       "      <td>8</td>\n",
       "      <td>183</td>\n",
       "    </tr>\n",
       "    <tr>\n",
       "      <th>Managers</th>\n",
       "      <td>3012</td>\n",
       "      <td>47</td>\n",
       "      <td>3059</td>\n",
       "    </tr>\n",
       "    <tr>\n",
       "      <th>Medicine staff</th>\n",
       "      <td>1207</td>\n",
       "      <td>10</td>\n",
       "      <td>1217</td>\n",
       "    </tr>\n",
       "    <tr>\n",
       "      <th>Private service staff</th>\n",
       "      <td>344</td>\n",
       "      <td>2</td>\n",
       "      <td>346</td>\n",
       "    </tr>\n",
       "    <tr>\n",
       "      <th>Realty agents</th>\n",
       "      <td>79</td>\n",
       "      <td>0</td>\n",
       "      <td>79</td>\n",
       "    </tr>\n",
       "    <tr>\n",
       "      <th>Sales staff</th>\n",
       "      <td>3485</td>\n",
       "      <td>45</td>\n",
       "      <td>3530</td>\n",
       "    </tr>\n",
       "    <tr>\n",
       "      <th>Secretaries</th>\n",
       "      <td>151</td>\n",
       "      <td>2</td>\n",
       "      <td>153</td>\n",
       "    </tr>\n",
       "    <tr>\n",
       "      <th>Security staff</th>\n",
       "      <td>592</td>\n",
       "      <td>13</td>\n",
       "      <td>605</td>\n",
       "    </tr>\n",
       "    <tr>\n",
       "      <th>Waiters/barmen staff</th>\n",
       "      <td>174</td>\n",
       "      <td>2</td>\n",
       "      <td>176</td>\n",
       "    </tr>\n",
       "    <tr>\n",
       "      <th>All</th>\n",
       "      <td>25134</td>\n",
       "      <td>422</td>\n",
       "      <td>25556</td>\n",
       "    </tr>\n",
       "  </tbody>\n",
       "</table>\n",
       "</div>"
      ],
      "text/plain": [
       "target                     0    1    All\n",
       "OCCUPATION_TYPE                         \n",
       "Accountants             1241   23   1264\n",
       "Cleaning staff           551    5    556\n",
       "Cooking staff            655    9    664\n",
       "Core staff              3591   74   3665\n",
       "Drivers                 2138   49   2187\n",
       "HR staff                  85    1     86\n",
       "High skill tech staff   1383   30   1413\n",
       "IT staff                  60    3     63\n",
       "Laborers                6211   99   6310\n",
       "Low-skill Laborers       175    8    183\n",
       "Managers                3012   47   3059\n",
       "Medicine staff          1207   10   1217\n",
       "Private service staff    344    2    346\n",
       "Realty agents             79    0     79\n",
       "Sales staff             3485   45   3530\n",
       "Secretaries              151    2    153\n",
       "Security staff           592   13    605\n",
       "Waiters/barmen staff     174    2    176\n",
       "All                    25134  422  25556"
      ]
     },
     "execution_count": 139,
     "metadata": {},
     "output_type": "execute_result"
    }
   ],
   "source": [
    "# Good (0) and Bad(1) customers based on FLAG_OWN_CAR\n",
    "df_occupation = pd.crosstab(index=df_pandas['OCCUPATION_TYPE'], columns=df_pandas['target'], margins = True)\n",
    "df_occupation"
   ]
  },
  {
   "cell_type": "code",
   "execution_count": 140,
   "metadata": {},
   "outputs": [
    {
     "data": {
      "text/html": [
       "<div>\n",
       "<style scoped>\n",
       "    .dataframe tbody tr th:only-of-type {\n",
       "        vertical-align: middle;\n",
       "    }\n",
       "\n",
       "    .dataframe tbody tr th {\n",
       "        vertical-align: top;\n",
       "    }\n",
       "\n",
       "    .dataframe thead th {\n",
       "        text-align: right;\n",
       "    }\n",
       "</style>\n",
       "<table border=\"1\" class=\"dataframe\">\n",
       "  <thead>\n",
       "    <tr style=\"text-align: right;\">\n",
       "      <th>target</th>\n",
       "      <th>0</th>\n",
       "      <th>1</th>\n",
       "      <th>All</th>\n",
       "      <th>proportion_good</th>\n",
       "      <th>proportion_bad</th>\n",
       "    </tr>\n",
       "    <tr>\n",
       "      <th>OCCUPATION_TYPE</th>\n",
       "      <th></th>\n",
       "      <th></th>\n",
       "      <th></th>\n",
       "      <th></th>\n",
       "      <th></th>\n",
       "    </tr>\n",
       "  </thead>\n",
       "  <tbody>\n",
       "    <tr>\n",
       "      <th>Accountants</th>\n",
       "      <td>1241</td>\n",
       "      <td>23</td>\n",
       "      <td>1264</td>\n",
       "      <td>0.049375</td>\n",
       "      <td>0.054502</td>\n",
       "    </tr>\n",
       "    <tr>\n",
       "      <th>Cleaning staff</th>\n",
       "      <td>551</td>\n",
       "      <td>5</td>\n",
       "      <td>556</td>\n",
       "      <td>0.021922</td>\n",
       "      <td>0.011848</td>\n",
       "    </tr>\n",
       "    <tr>\n",
       "      <th>Cooking staff</th>\n",
       "      <td>655</td>\n",
       "      <td>9</td>\n",
       "      <td>664</td>\n",
       "      <td>0.02606</td>\n",
       "      <td>0.021327</td>\n",
       "    </tr>\n",
       "    <tr>\n",
       "      <th>Core staff</th>\n",
       "      <td>3591</td>\n",
       "      <td>74</td>\n",
       "      <td>3665</td>\n",
       "      <td>0.142874</td>\n",
       "      <td>0.175355</td>\n",
       "    </tr>\n",
       "    <tr>\n",
       "      <th>Drivers</th>\n",
       "      <td>2138</td>\n",
       "      <td>49</td>\n",
       "      <td>2187</td>\n",
       "      <td>0.085064</td>\n",
       "      <td>0.116114</td>\n",
       "    </tr>\n",
       "    <tr>\n",
       "      <th>HR staff</th>\n",
       "      <td>85</td>\n",
       "      <td>1</td>\n",
       "      <td>86</td>\n",
       "      <td>0.003382</td>\n",
       "      <td>0.00237</td>\n",
       "    </tr>\n",
       "    <tr>\n",
       "      <th>High skill tech staff</th>\n",
       "      <td>1383</td>\n",
       "      <td>30</td>\n",
       "      <td>1413</td>\n",
       "      <td>0.055025</td>\n",
       "      <td>0.07109</td>\n",
       "    </tr>\n",
       "    <tr>\n",
       "      <th>IT staff</th>\n",
       "      <td>60</td>\n",
       "      <td>3</td>\n",
       "      <td>63</td>\n",
       "      <td>0.002387</td>\n",
       "      <td>0.007109</td>\n",
       "    </tr>\n",
       "    <tr>\n",
       "      <th>Laborers</th>\n",
       "      <td>6211</td>\n",
       "      <td>99</td>\n",
       "      <td>6310</td>\n",
       "      <td>0.247115</td>\n",
       "      <td>0.234597</td>\n",
       "    </tr>\n",
       "    <tr>\n",
       "      <th>Low-skill Laborers</th>\n",
       "      <td>175</td>\n",
       "      <td>8</td>\n",
       "      <td>183</td>\n",
       "      <td>0.006963</td>\n",
       "      <td>0.018957</td>\n",
       "    </tr>\n",
       "    <tr>\n",
       "      <th>Managers</th>\n",
       "      <td>3012</td>\n",
       "      <td>47</td>\n",
       "      <td>3059</td>\n",
       "      <td>0.119838</td>\n",
       "      <td>0.111374</td>\n",
       "    </tr>\n",
       "    <tr>\n",
       "      <th>Medicine staff</th>\n",
       "      <td>1207</td>\n",
       "      <td>10</td>\n",
       "      <td>1217</td>\n",
       "      <td>0.048023</td>\n",
       "      <td>0.023697</td>\n",
       "    </tr>\n",
       "    <tr>\n",
       "      <th>Private service staff</th>\n",
       "      <td>344</td>\n",
       "      <td>2</td>\n",
       "      <td>346</td>\n",
       "      <td>0.013687</td>\n",
       "      <td>0.004739</td>\n",
       "    </tr>\n",
       "    <tr>\n",
       "      <th>Realty agents</th>\n",
       "      <td>79</td>\n",
       "      <td>0</td>\n",
       "      <td>79</td>\n",
       "      <td>0.003143</td>\n",
       "      <td>0.0</td>\n",
       "    </tr>\n",
       "    <tr>\n",
       "      <th>Sales staff</th>\n",
       "      <td>3485</td>\n",
       "      <td>45</td>\n",
       "      <td>3530</td>\n",
       "      <td>0.138657</td>\n",
       "      <td>0.106635</td>\n",
       "    </tr>\n",
       "    <tr>\n",
       "      <th>Secretaries</th>\n",
       "      <td>151</td>\n",
       "      <td>2</td>\n",
       "      <td>153</td>\n",
       "      <td>0.006008</td>\n",
       "      <td>0.004739</td>\n",
       "    </tr>\n",
       "    <tr>\n",
       "      <th>Security staff</th>\n",
       "      <td>592</td>\n",
       "      <td>13</td>\n",
       "      <td>605</td>\n",
       "      <td>0.023554</td>\n",
       "      <td>0.030806</td>\n",
       "    </tr>\n",
       "    <tr>\n",
       "      <th>Waiters/barmen staff</th>\n",
       "      <td>174</td>\n",
       "      <td>2</td>\n",
       "      <td>176</td>\n",
       "      <td>0.006923</td>\n",
       "      <td>0.004739</td>\n",
       "    </tr>\n",
       "    <tr>\n",
       "      <th>All</th>\n",
       "      <td>25134</td>\n",
       "      <td>422</td>\n",
       "      <td>25556</td>\n",
       "      <td></td>\n",
       "      <td></td>\n",
       "    </tr>\n",
       "  </tbody>\n",
       "</table>\n",
       "</div>"
      ],
      "text/plain": [
       "target                     0    1    All proportion_good proportion_bad\n",
       "OCCUPATION_TYPE                                                        \n",
       "Accountants             1241   23   1264        0.049375       0.054502\n",
       "Cleaning staff           551    5    556        0.021922       0.011848\n",
       "Cooking staff            655    9    664         0.02606       0.021327\n",
       "Core staff              3591   74   3665        0.142874       0.175355\n",
       "Drivers                 2138   49   2187        0.085064       0.116114\n",
       "HR staff                  85    1     86        0.003382        0.00237\n",
       "High skill tech staff   1383   30   1413        0.055025        0.07109\n",
       "IT staff                  60    3     63        0.002387       0.007109\n",
       "Laborers                6211   99   6310        0.247115       0.234597\n",
       "Low-skill Laborers       175    8    183        0.006963       0.018957\n",
       "Managers                3012   47   3059        0.119838       0.111374\n",
       "Medicine staff          1207   10   1217        0.048023       0.023697\n",
       "Private service staff    344    2    346        0.013687       0.004739\n",
       "Realty agents             79    0     79        0.003143            0.0\n",
       "Sales staff             3485   45   3530        0.138657       0.106635\n",
       "Secretaries              151    2    153        0.006008       0.004739\n",
       "Security staff           592   13    605        0.023554       0.030806\n",
       "Waiters/barmen staff     174    2    176        0.006923       0.004739\n",
       "All                    25134  422  25556                               "
      ]
     },
     "execution_count": 140,
     "metadata": {},
     "output_type": "execute_result"
    }
   ],
   "source": [
    "#Proportion of good customers for all occupation types\n",
    "df_occupation['proportion_good'] = ''\n",
    "for j in range(0,df_occupation.index.size-1):\n",
    "    df_occupation['proportion_good'][j]=df_occupation[0][j]/df_occupation[0][df_occupation.index.size-1]\n",
    "    \n",
    "#Poportion of bad customers for all occupation types\n",
    "df_occupation['proportion_bad'] = ''\n",
    "for j in range(0,df_occupation.index.size-1):\n",
    "    df_occupation['proportion_bad'][j]=df_occupation[1][j]/df_occupation[1][df_occupation.index.size-1]\n",
    "    \n",
    "df_occupation"
   ]
  },
  {
   "cell_type": "code",
   "execution_count": 141,
   "metadata": {},
   "outputs": [
    {
     "data": {
      "text/html": [
       "<div>\n",
       "<style scoped>\n",
       "    .dataframe tbody tr th:only-of-type {\n",
       "        vertical-align: middle;\n",
       "    }\n",
       "\n",
       "    .dataframe tbody tr th {\n",
       "        vertical-align: top;\n",
       "    }\n",
       "\n",
       "    .dataframe thead th {\n",
       "        text-align: right;\n",
       "    }\n",
       "</style>\n",
       "<table border=\"1\" class=\"dataframe\">\n",
       "  <thead>\n",
       "    <tr style=\"text-align: right;\">\n",
       "      <th>target</th>\n",
       "      <th>0</th>\n",
       "      <th>1</th>\n",
       "      <th>All</th>\n",
       "      <th>proportion_good</th>\n",
       "      <th>proportion_bad</th>\n",
       "      <th>WOE</th>\n",
       "      <th>IV</th>\n",
       "    </tr>\n",
       "    <tr>\n",
       "      <th>OCCUPATION_TYPE</th>\n",
       "      <th></th>\n",
       "      <th></th>\n",
       "      <th></th>\n",
       "      <th></th>\n",
       "      <th></th>\n",
       "      <th></th>\n",
       "      <th></th>\n",
       "    </tr>\n",
       "  </thead>\n",
       "  <tbody>\n",
       "    <tr>\n",
       "      <th>Accountants</th>\n",
       "      <td>1241</td>\n",
       "      <td>23</td>\n",
       "      <td>1264</td>\n",
       "      <td>0.049375</td>\n",
       "      <td>0.054502</td>\n",
       "      <td>-0.098793</td>\n",
       "      <td>0.000507</td>\n",
       "    </tr>\n",
       "    <tr>\n",
       "      <th>Cleaning staff</th>\n",
       "      <td>551</td>\n",
       "      <td>5</td>\n",
       "      <td>556</td>\n",
       "      <td>0.021922</td>\n",
       "      <td>0.011848</td>\n",
       "      <td>0.615325</td>\n",
       "      <td>0.006199</td>\n",
       "    </tr>\n",
       "    <tr>\n",
       "      <th>Cooking staff</th>\n",
       "      <td>655</td>\n",
       "      <td>9</td>\n",
       "      <td>664</td>\n",
       "      <td>0.02606</td>\n",
       "      <td>0.021327</td>\n",
       "      <td>0.200439</td>\n",
       "      <td>0.000949</td>\n",
       "    </tr>\n",
       "    <tr>\n",
       "      <th>Core staff</th>\n",
       "      <td>3591</td>\n",
       "      <td>74</td>\n",
       "      <td>3665</td>\n",
       "      <td>0.142874</td>\n",
       "      <td>0.175355</td>\n",
       "      <td>-0.204851</td>\n",
       "      <td>0.006654</td>\n",
       "    </tr>\n",
       "    <tr>\n",
       "      <th>Drivers</th>\n",
       "      <td>2138</td>\n",
       "      <td>49</td>\n",
       "      <td>2187</td>\n",
       "      <td>0.085064</td>\n",
       "      <td>0.116114</td>\n",
       "      <td>-0.311166</td>\n",
       "      <td>0.009662</td>\n",
       "    </tr>\n",
       "    <tr>\n",
       "      <th>HR staff</th>\n",
       "      <td>85</td>\n",
       "      <td>1</td>\n",
       "      <td>86</td>\n",
       "      <td>0.003382</td>\n",
       "      <td>0.00237</td>\n",
       "      <td>0.355680</td>\n",
       "      <td>0.000360</td>\n",
       "    </tr>\n",
       "    <tr>\n",
       "      <th>High skill tech staff</th>\n",
       "      <td>1383</td>\n",
       "      <td>30</td>\n",
       "      <td>1413</td>\n",
       "      <td>0.055025</td>\n",
       "      <td>0.07109</td>\n",
       "      <td>-0.256159</td>\n",
       "      <td>0.004115</td>\n",
       "    </tr>\n",
       "    <tr>\n",
       "      <th>IT staff</th>\n",
       "      <td>60</td>\n",
       "      <td>3</td>\n",
       "      <td>63</td>\n",
       "      <td>0.002387</td>\n",
       "      <td>0.007109</td>\n",
       "      <td>-1.091239</td>\n",
       "      <td>0.005153</td>\n",
       "    </tr>\n",
       "    <tr>\n",
       "      <th>Laborers</th>\n",
       "      <td>6211</td>\n",
       "      <td>99</td>\n",
       "      <td>6310</td>\n",
       "      <td>0.247115</td>\n",
       "      <td>0.234597</td>\n",
       "      <td>0.051986</td>\n",
       "      <td>0.000651</td>\n",
       "    </tr>\n",
       "    <tr>\n",
       "      <th>Low-skill Laborers</th>\n",
       "      <td>175</td>\n",
       "      <td>8</td>\n",
       "      <td>183</td>\n",
       "      <td>0.006963</td>\n",
       "      <td>0.018957</td>\n",
       "      <td>-1.001627</td>\n",
       "      <td>0.012014</td>\n",
       "    </tr>\n",
       "    <tr>\n",
       "      <th>Managers</th>\n",
       "      <td>3012</td>\n",
       "      <td>47</td>\n",
       "      <td>3059</td>\n",
       "      <td>0.119838</td>\n",
       "      <td>0.111374</td>\n",
       "      <td>0.073241</td>\n",
       "      <td>0.000620</td>\n",
       "    </tr>\n",
       "    <tr>\n",
       "      <th>Medicine staff</th>\n",
       "      <td>1207</td>\n",
       "      <td>10</td>\n",
       "      <td>1217</td>\n",
       "      <td>0.048023</td>\n",
       "      <td>0.023697</td>\n",
       "      <td>0.706337</td>\n",
       "      <td>0.017182</td>\n",
       "    </tr>\n",
       "    <tr>\n",
       "      <th>Private service staff</th>\n",
       "      <td>344</td>\n",
       "      <td>2</td>\n",
       "      <td>346</td>\n",
       "      <td>0.013687</td>\n",
       "      <td>0.004739</td>\n",
       "      <td>1.060523</td>\n",
       "      <td>0.009489</td>\n",
       "    </tr>\n",
       "    <tr>\n",
       "      <th>Realty agents</th>\n",
       "      <td>79</td>\n",
       "      <td>0</td>\n",
       "      <td>79</td>\n",
       "      <td>0.003143</td>\n",
       "      <td>0.0</td>\n",
       "      <td>inf</td>\n",
       "      <td>inf</td>\n",
       "    </tr>\n",
       "    <tr>\n",
       "      <th>Sales staff</th>\n",
       "      <td>3485</td>\n",
       "      <td>45</td>\n",
       "      <td>3530</td>\n",
       "      <td>0.138657</td>\n",
       "      <td>0.106635</td>\n",
       "      <td>0.262589</td>\n",
       "      <td>0.008409</td>\n",
       "    </tr>\n",
       "    <tr>\n",
       "      <th>Secretaries</th>\n",
       "      <td>151</td>\n",
       "      <td>2</td>\n",
       "      <td>153</td>\n",
       "      <td>0.006008</td>\n",
       "      <td>0.004739</td>\n",
       "      <td>0.237161</td>\n",
       "      <td>0.000301</td>\n",
       "    </tr>\n",
       "    <tr>\n",
       "      <th>Security staff</th>\n",
       "      <td>592</td>\n",
       "      <td>13</td>\n",
       "      <td>605</td>\n",
       "      <td>0.023554</td>\n",
       "      <td>0.030806</td>\n",
       "      <td>-0.268414</td>\n",
       "      <td>0.001947</td>\n",
       "    </tr>\n",
       "    <tr>\n",
       "      <th>Waiters/barmen staff</th>\n",
       "      <td>174</td>\n",
       "      <td>2</td>\n",
       "      <td>176</td>\n",
       "      <td>0.006923</td>\n",
       "      <td>0.004739</td>\n",
       "      <td>0.378937</td>\n",
       "      <td>0.000827</td>\n",
       "    </tr>\n",
       "    <tr>\n",
       "      <th>All</th>\n",
       "      <td>25134</td>\n",
       "      <td>422</td>\n",
       "      <td>25556</td>\n",
       "      <td></td>\n",
       "      <td></td>\n",
       "      <td>0.000000</td>\n",
       "      <td>inf</td>\n",
       "    </tr>\n",
       "  </tbody>\n",
       "</table>\n",
       "</div>"
      ],
      "text/plain": [
       "target                     0    1    All proportion_good proportion_bad  \\\n",
       "OCCUPATION_TYPE                                                           \n",
       "Accountants             1241   23   1264        0.049375       0.054502   \n",
       "Cleaning staff           551    5    556        0.021922       0.011848   \n",
       "Cooking staff            655    9    664         0.02606       0.021327   \n",
       "Core staff              3591   74   3665        0.142874       0.175355   \n",
       "Drivers                 2138   49   2187        0.085064       0.116114   \n",
       "HR staff                  85    1     86        0.003382        0.00237   \n",
       "High skill tech staff   1383   30   1413        0.055025        0.07109   \n",
       "IT staff                  60    3     63        0.002387       0.007109   \n",
       "Laborers                6211   99   6310        0.247115       0.234597   \n",
       "Low-skill Laborers       175    8    183        0.006963       0.018957   \n",
       "Managers                3012   47   3059        0.119838       0.111374   \n",
       "Medicine staff          1207   10   1217        0.048023       0.023697   \n",
       "Private service staff    344    2    346        0.013687       0.004739   \n",
       "Realty agents             79    0     79        0.003143            0.0   \n",
       "Sales staff             3485   45   3530        0.138657       0.106635   \n",
       "Secretaries              151    2    153        0.006008       0.004739   \n",
       "Security staff           592   13    605        0.023554       0.030806   \n",
       "Waiters/barmen staff     174    2    176        0.006923       0.004739   \n",
       "All                    25134  422  25556                                  \n",
       "\n",
       "target                      WOE        IV  \n",
       "OCCUPATION_TYPE                            \n",
       "Accountants           -0.098793  0.000507  \n",
       "Cleaning staff         0.615325  0.006199  \n",
       "Cooking staff          0.200439  0.000949  \n",
       "Core staff            -0.204851  0.006654  \n",
       "Drivers               -0.311166  0.009662  \n",
       "HR staff               0.355680  0.000360  \n",
       "High skill tech staff -0.256159  0.004115  \n",
       "IT staff              -1.091239  0.005153  \n",
       "Laborers               0.051986  0.000651  \n",
       "Low-skill Laborers    -1.001627  0.012014  \n",
       "Managers               0.073241  0.000620  \n",
       "Medicine staff         0.706337  0.017182  \n",
       "Private service staff  1.060523  0.009489  \n",
       "Realty agents               inf       inf  \n",
       "Sales staff            0.262589  0.008409  \n",
       "Secretaries            0.237161  0.000301  \n",
       "Security staff        -0.268414  0.001947  \n",
       "Waiters/barmen staff   0.378937  0.000827  \n",
       "All                    0.000000       inf  "
      ]
     },
     "execution_count": 141,
     "metadata": {},
     "output_type": "execute_result"
    }
   ],
   "source": [
    "# Calculating WOE for occupation type\n",
    "df_occupation['WOE'] = np.log(df_occupation['proportion_good'][0])-np.log(df_occupation['proportion_bad'][0])\n",
    "for i in range(1,df_occupation.index.size-1):\n",
    "    df_occupation['WOE'][i] = np.log(df_occupation['proportion_good'][i])-np.log(df_occupation['proportion_bad'][i])  \n",
    "    \n",
    "df_occupation['WOE'][df_occupation.index.size-1] = 0\n",
    "\n",
    "# Calculating IV\n",
    "df_occupation['IV'] = df_occupation['WOE'][0]*(df_occupation['proportion_good'][0]-df_occupation['proportion_bad'][0])\n",
    "for i in range(1,df_occupation.index.size-1):\n",
    "    df_occupation['IV'][i] = df_occupation['WOE'][i]*(df_occupation['proportion_good'][i]-df_occupation['proportion_bad'][i])\n",
    "    \n",
    "df_occupation['IV'][df_occupation.index.size-1] = df_occupation['IV'][0] + df_occupation['IV'][1] + df_occupation['IV'][2] + df_occupation['IV'][3] + df_occupation['IV'][4] + df_occupation['IV'][5] + df_occupation['IV'][6]+ df_occupation['IV'][7] + df_occupation['IV'][8]+ df_occupation['IV'][9] + df_occupation['IV'][10]+ df_occupation['IV'][11]+ df_occupation['IV'][12]+ df_occupation['IV'][13]+ df_occupation['IV'][14]+ df_occupation['IV'][15]+ df_occupation['IV'][16]+ df_occupation['IV'][17]+ df_occupation['IV'][18]\n",
    "\n",
    "df_occupation"
   ]
  },
  {
   "cell_type": "markdown",
   "metadata": {},
   "source": [
    "Since the IV is infinite so we will remove the realty agents occupation from the dataset and then perform the analysis"
   ]
  },
  {
   "cell_type": "markdown",
   "metadata": {},
   "source": [
    "## Replacing column values with WOE"
   ]
  },
  {
   "cell_type": "code",
   "execution_count": 142,
   "metadata": {},
   "outputs": [
    {
     "data": {
      "text/plain": [
       "DataFrame[CODE_GENDER: string, FLAG_OWN_CAR: string, FLAG_OWN_REALTY: string, NAME_INCOME_TYPE: string, NAME_EDUCATION_TYPE: string, NAME_FAMILY_STATUS: string, NAME_HOUSING_TYPE: string, OCCUPATION_TYPE: string]"
      ]
     },
     "execution_count": 142,
     "metadata": {},
     "output_type": "execute_result"
    }
   ],
   "source": [
    "cat_var"
   ]
  },
  {
   "cell_type": "code",
   "execution_count": 143,
   "metadata": {},
   "outputs": [
    {
     "data": {
      "text/plain": [
       "CODE_GENDER\n",
       "F      0.131897\n",
       "M     -0.184999\n",
       "All    0.000000\n",
       "Name: WOE, dtype: float64"
      ]
     },
     "execution_count": 143,
     "metadata": {},
     "output_type": "execute_result"
    }
   ],
   "source": [
    "df_gender['WOE']"
   ]
  },
  {
   "cell_type": "code",
   "execution_count": 144,
   "metadata": {},
   "outputs": [
    {
     "name": "stdout",
     "output_type": "stream",
     "text": [
      "+-------+-----------+------------+---------------+------------+----------------+--------------------+--------------------+--------------------+-----------------+-------------+----------+---------------+----------+----------+---------------+---------------+------+----+---------------+\n",
      "|     ID|CODE_GENDER|FLAG_OWN_CAR|FLAG_OWN_REALTY|CNT_CHILDREN|AMT_INCOME_TOTAL|    NAME_INCOME_TYPE| NAME_EDUCATION_TYPE|  NAME_FAMILY_STATUS|NAME_HOUSING_TYPE|DAYS_EMPLOYED|FLAG_MOBIL|FLAG_WORK_PHONE|FLAG_PHONE|FLAG_EMAIL|OCCUPATION_TYPE|CNT_FAM_MEMBERS|target| AGE|CODE_GENDER_WOE|\n",
      "+-------+-----------+------------+---------------+------------+----------------+--------------------+--------------------+--------------------+-----------------+-------------+----------+---------------+----------+----------+---------------+---------------+------+----+---------------+\n",
      "|5009355|          F|           N|              N|           0|        135000.0|Commercial associate|Secondary / secon...|             Married|House / apartment|        -5273|         1|              1|         1|         0|       Laborers|            2.0|     0|54.0|       0.131897|\n",
      "|5009429|          M|           N|              N|           0|        198000.0|             Working|Secondary / secon...|Single / not married|     With parents|        -1164|         1|              1|         0|         0|       Laborers|            1.0|     0|24.0|      -0.184999|\n",
      "|5010070|          F|           N|              Y|           0|        279000.0|       State servant|    Higher education|Single / not married|House / apartment|         -617|         1|              0|         0|         1|       Managers|            1.0|     0|30.0|       0.131897|\n",
      "|5010236|          M|           Y|              Y|           0|        225000.0|             Working|Secondary / secon...|             Married|House / apartment|        -4331|         1|              0|         0|         0|        Drivers|            2.0|     0|45.0|      -0.184999|\n",
      "|5010511|          F|           Y|              Y|           1|        157500.0|Commercial associate|Secondary / secon...|             Married|House / apartment|        -4239|         1|              0|         0|         0|       Laborers|            3.0|     0|38.0|       0.131897|\n",
      "+-------+-----------+------------+---------------+------------+----------------+--------------------+--------------------+--------------------+-----------------+-------------+----------+---------------+----------+----------+---------------+---------------+------+----+---------------+\n",
      "only showing top 5 rows\n",
      "\n"
     ]
    }
   ],
   "source": [
    "dff = dff.withColumn('CODE_GENDER_WOE', when(col('CODE_GENDER')=='F',0.131897).otherwise(-0.184999))\n",
    "dff.show(5)"
   ]
  },
  {
   "cell_type": "code",
   "execution_count": 145,
   "metadata": {},
   "outputs": [
    {
     "data": {
      "text/plain": [
       "FLAG_OWN_CAR\n",
       "N      0.001779\n",
       "Y     -0.002468\n",
       "All    0.000000\n",
       "Name: WOE, dtype: float64"
      ]
     },
     "execution_count": 145,
     "metadata": {},
     "output_type": "execute_result"
    }
   ],
   "source": [
    "df_car['WOE']"
   ]
  },
  {
   "cell_type": "code",
   "execution_count": 146,
   "metadata": {},
   "outputs": [],
   "source": [
    "dff = dff.withColumn('FLAG_OWN_CAR_WOE', when(col('FLAG_OWN_CAR')=='N',0.001779).otherwise(-0.002468))"
   ]
  },
  {
   "cell_type": "code",
   "execution_count": 147,
   "metadata": {},
   "outputs": [
    {
     "data": {
      "text/plain": [
       "FLAG_OWN_REALTY\n",
       "N     -0.206387\n",
       "Y      0.128716\n",
       "All    0.000000\n",
       "Name: WOE, dtype: float64"
      ]
     },
     "execution_count": 147,
     "metadata": {},
     "output_type": "execute_result"
    }
   ],
   "source": [
    "df_property['WOE']"
   ]
  },
  {
   "cell_type": "code",
   "execution_count": 148,
   "metadata": {},
   "outputs": [],
   "source": [
    "dff = dff.withColumn('FLAG_OWN_REALTY_WOE', when(col('FLAG_OWN_REALTY')=='N',-0.206387).otherwise(0.128716))"
   ]
  },
  {
   "cell_type": "code",
   "execution_count": 149,
   "metadata": {},
   "outputs": [
    {
     "data": {
      "text/plain": [
       "NAME_INCOME_TYPE\n",
       "Commercial associate   -0.005028\n",
       "Pensioner              -4.086971\n",
       "State servant           0.344256\n",
       "Student                      inf\n",
       "Working                 0.004944\n",
       "All                     0.000000\n",
       "Name: WOE, dtype: float64"
      ]
     },
     "execution_count": 149,
     "metadata": {},
     "output_type": "execute_result"
    }
   ],
   "source": [
    "df_income['WOE']"
   ]
  },
  {
   "cell_type": "code",
   "execution_count": 150,
   "metadata": {},
   "outputs": [],
   "source": [
    "dff = dff.withColumn('NAME_INCOME_TYPE_WOE', when(col('NAME_INCOME_TYPE')=='Commercial associate',-0.005028).when(col('NAME_INCOME_TYPE')=='Pensioner',-4.086971).when(col('NAME_INCOME_TYPE')=='State servant',0.344256).when(col('NAME_INCOME_TYPE')=='Working',0.004944).otherwise('NA'))"
   ]
  },
  {
   "cell_type": "code",
   "execution_count": 151,
   "metadata": {},
   "outputs": [
    {
     "data": {
      "text/plain": [
       "NAME_EDUCATION_TYPE\n",
       "Academic degree                       inf\n",
       "Higher education                -0.066655\n",
       "Incomplete higher               -0.230763\n",
       "Lower secondary                 -0.647622\n",
       "Secondary / secondary special    0.055390\n",
       "All                              0.000000\n",
       "Name: WOE, dtype: float64"
      ]
     },
     "execution_count": 151,
     "metadata": {},
     "output_type": "execute_result"
    }
   ],
   "source": [
    "df_education['WOE']"
   ]
  },
  {
   "cell_type": "code",
   "execution_count": 152,
   "metadata": {},
   "outputs": [],
   "source": [
    "dff = dff.withColumn('NAME_EDUCATION_TYPE_WOE', when(col('NAME_EDUCATION_TYPE')=='Higher education',-0.066655).when(col('NAME_EDUCATION_TYPE')=='Incomplete higher',-0.230763).when(col('NAME_EDUCATION_TYPE')=='Lower secondary',-0.647622).when(col('NAME_EDUCATION_TYPE')=='Secondary / secondary special',0.055390).otherwise('NA'))"
   ]
  },
  {
   "cell_type": "code",
   "execution_count": 153,
   "metadata": {},
   "outputs": [
    {
     "data": {
      "text/plain": [
       "NAME_FAMILY_STATUS\n",
       "Civil marriage          0.112577\n",
       "Married                 0.059481\n",
       "Separated               0.495953\n",
       "Single / not married   -0.361133\n",
       "Widow                  -0.431994\n",
       "All                     0.000000\n",
       "Name: WOE, dtype: float64"
      ]
     },
     "execution_count": 153,
     "metadata": {},
     "output_type": "execute_result"
    }
   ],
   "source": [
    "df_marital['WOE']"
   ]
  },
  {
   "cell_type": "code",
   "execution_count": 154,
   "metadata": {},
   "outputs": [],
   "source": [
    "dff = dff.withColumn('NAME_FAMILY_STATUS_WOE', when(col('NAME_FAMILY_STATUS')=='Civil marriage',0.112577).when(col('NAME_FAMILY_STATUS')=='Married',0.059481).when(col('NAME_FAMILY_STATUS')=='Separated',0.495953).when(col('NAME_FAMILY_STATUS')=='Single / not married',-0.361133).when(col('NAME_FAMILY_STATUS')=='Widow', -0.431994))"
   ]
  },
  {
   "cell_type": "code",
   "execution_count": 155,
   "metadata": {},
   "outputs": [
    {
     "data": {
      "text/plain": [
       "NAME_HOUSING_TYPE\n",
       "Co-op apartment       -0.161703\n",
       "House / apartment      0.019298\n",
       "Municipal apartment   -0.331910\n",
       "Office apartment      -0.403105\n",
       "Rented apartment       0.205768\n",
       "With parents          -0.040418\n",
       "All                    0.000000\n",
       "Name: WOE, dtype: float64"
      ]
     },
     "execution_count": 155,
     "metadata": {},
     "output_type": "execute_result"
    }
   ],
   "source": [
    "df_housing['WOE']"
   ]
  },
  {
   "cell_type": "code",
   "execution_count": 156,
   "metadata": {},
   "outputs": [],
   "source": [
    "dff = dff.withColumn('NAME_HOUSING_TYPE_WOE', when(col('NAME_HOUSING_TYPE')=='Co-op apartment',-0.161703).when(col('NAME_HOUSING_TYPE')=='House / apartment',0.019298).when(col('NAME_HOUSING_TYPE')=='Municipal apartment',-0.331910).when(col('NAME_HOUSING_TYPE')=='Office apartment',-0.403105).when(col('NAME_HOUSING_TYPE')=='Rented apartment', 0.205768).when(col('NAME_HOUSING_TYPE')=='With parents', -0.040418))"
   ]
  },
  {
   "cell_type": "code",
   "execution_count": 157,
   "metadata": {},
   "outputs": [
    {
     "data": {
      "text/plain": [
       "OCCUPATION_TYPE\n",
       "Accountants             -0.098793\n",
       "Cleaning staff           0.615325\n",
       "Cooking staff            0.200439\n",
       "Core staff              -0.204851\n",
       "Drivers                 -0.311166\n",
       "HR staff                 0.355680\n",
       "High skill tech staff   -0.256159\n",
       "IT staff                -1.091239\n",
       "Laborers                 0.051986\n",
       "Low-skill Laborers      -1.001627\n",
       "Managers                 0.073241\n",
       "Medicine staff           0.706337\n",
       "Private service staff    1.060523\n",
       "Realty agents                 inf\n",
       "Sales staff              0.262589\n",
       "Secretaries              0.237161\n",
       "Security staff          -0.268414\n",
       "Waiters/barmen staff     0.378937\n",
       "All                      0.000000\n",
       "Name: WOE, dtype: float64"
      ]
     },
     "execution_count": 157,
     "metadata": {},
     "output_type": "execute_result"
    }
   ],
   "source": [
    "df_occupation['WOE']"
   ]
  },
  {
   "cell_type": "code",
   "execution_count": 158,
   "metadata": {},
   "outputs": [],
   "source": [
    "dff = dff.withColumn('OCCUPATION_TYPE_WOE', when(col('OCCUPATION_TYPE')=='Accountants',-0.098793).when(col('OCCUPATION_TYPE')=='Cleaning staff',0.615325).when(col('OCCUPATION_TYPE')=='Cooking staff',0.200439).when(col('OCCUPATION_TYPE')=='Core staff',-0.204851).when(col('OCCUPATION_TYPE')=='Drivers', -0.311166).when(col('OCCUPATION_TYPE')=='HR staff', 0.355680).when(col('OCCUPATION_TYPE')=='High skill tech staff', -0.256159).when(col('OCCUPATION_TYPE')=='IT staff', -1.091239).when(col('OCCUPATION_TYPE')=='Laborers', 0.051986).when(col('OCCUPATION_TYPE')=='Low-skill Laborers', -1.001627).when(col('OCCUPATION_TYPE')=='Managers', 0.073241).when(col('OCCUPATION_TYPE')=='Medicine staff', 0.706337).when(col('OCCUPATION_TYPE')=='Private service staff', 1.060523).when(col('OCCUPATION_TYPE')=='Sales staff', 0.262589).when(col('OCCUPATION_TYPE')=='Secretaries', 0.237161).when(col('OCCUPATION_TYPE')=='Security staff', -0.268414).when(col('OCCUPATION_TYPE')=='Waiters/barmen staff', 0.378937).otherwise('NA'))"
   ]
  },
  {
   "cell_type": "code",
   "execution_count": 159,
   "metadata": {},
   "outputs": [
    {
     "name": "stdout",
     "output_type": "stream",
     "text": [
      "root\n",
      " |-- ID: integer (nullable = true)\n",
      " |-- CODE_GENDER: string (nullable = true)\n",
      " |-- FLAG_OWN_CAR: string (nullable = true)\n",
      " |-- FLAG_OWN_REALTY: string (nullable = true)\n",
      " |-- CNT_CHILDREN: integer (nullable = true)\n",
      " |-- AMT_INCOME_TOTAL: double (nullable = true)\n",
      " |-- NAME_INCOME_TYPE: string (nullable = true)\n",
      " |-- NAME_EDUCATION_TYPE: string (nullable = true)\n",
      " |-- NAME_FAMILY_STATUS: string (nullable = true)\n",
      " |-- NAME_HOUSING_TYPE: string (nullable = true)\n",
      " |-- DAYS_EMPLOYED: integer (nullable = true)\n",
      " |-- FLAG_MOBIL: integer (nullable = true)\n",
      " |-- FLAG_WORK_PHONE: integer (nullable = true)\n",
      " |-- FLAG_PHONE: integer (nullable = true)\n",
      " |-- FLAG_EMAIL: integer (nullable = true)\n",
      " |-- OCCUPATION_TYPE: string (nullable = true)\n",
      " |-- CNT_FAM_MEMBERS: double (nullable = true)\n",
      " |-- target: integer (nullable = false)\n",
      " |-- AGE: double (nullable = true)\n",
      " |-- CODE_GENDER_WOE: double (nullable = false)\n",
      " |-- FLAG_OWN_CAR_WOE: double (nullable = false)\n",
      " |-- FLAG_OWN_REALTY_WOE: double (nullable = false)\n",
      " |-- NAME_INCOME_TYPE_WOE: string (nullable = false)\n",
      " |-- NAME_EDUCATION_TYPE_WOE: string (nullable = false)\n",
      " |-- NAME_FAMILY_STATUS_WOE: double (nullable = true)\n",
      " |-- NAME_HOUSING_TYPE_WOE: double (nullable = true)\n",
      " |-- OCCUPATION_TYPE_WOE: string (nullable = false)\n",
      "\n"
     ]
    }
   ],
   "source": [
    "dff.printSchema()"
   ]
  },
  {
   "cell_type": "code",
   "execution_count": 160,
   "metadata": {},
   "outputs": [
    {
     "name": "stdout",
     "output_type": "stream",
     "text": [
      "+-------------------+---------------------+----------------------+--------------------+-------------------+----------------+---------------+-----------------------+\n",
      "|OCCUPATION_TYPE_WOE|NAME_HOUSING_TYPE_WOE|NAME_FAMILY_STATUS_WOE|NAME_INCOME_TYPE_WOE|FLAG_OWN_REALTY_WOE|FLAG_OWN_CAR_WOE|CODE_GENDER_WOE|NAME_EDUCATION_TYPE_WOE|\n",
      "+-------------------+---------------------+----------------------+--------------------+-------------------+----------------+---------------+-----------------------+\n",
      "|           0.051986|             0.019298|              0.059481|           -0.005028|          -0.206387|        0.001779|       0.131897|                0.05539|\n",
      "|           0.051986|            -0.040418|             -0.361133|            0.004944|          -0.206387|        0.001779|      -0.184999|                0.05539|\n",
      "|           0.073241|             0.019298|             -0.361133|            0.344256|           0.128716|        0.001779|       0.131897|              -0.066655|\n",
      "|          -0.311166|             0.019298|              0.059481|            0.004944|           0.128716|       -0.002468|      -0.184999|                0.05539|\n",
      "|           0.051986|             0.019298|              0.059481|           -0.005028|           0.128716|       -0.002468|       0.131897|                0.05539|\n",
      "|           0.262589|             0.019298|              0.112577|            0.004944|           0.128716|        0.001779|       0.131897|                0.05539|\n",
      "|          -0.204851|             0.019298|             -0.431994|            0.004944|           0.128716|        0.001779|       0.131897|                0.05539|\n",
      "|           0.200439|             0.019298|              0.059481|            0.004944|           0.128716|       -0.002468|       0.131897|                0.05539|\n",
      "|           0.073241|             0.019298|              0.059481|           -0.005028|           0.128716|       -0.002468|       0.131897|              -0.066655|\n",
      "|           0.262589|             0.019298|              0.059481|            0.004944|           0.128716|       -0.002468|      -0.184999|              -0.066655|\n",
      "|           0.200439|             0.019298|              0.112577|            0.004944|          -0.206387|        0.001779|       0.131897|                0.05539|\n",
      "|          -0.098793|             0.019298|              0.495953|           -0.005028|          -0.206387|       -0.002468|       0.131897|              -0.230763|\n",
      "|           1.060523|             0.019298|              0.059481|            0.004944|          -0.206387|       -0.002468|      -0.184999|                0.05539|\n",
      "|           0.200439|             0.019298|              0.059481|            0.004944|           0.128716|        0.001779|       0.131897|                0.05539|\n",
      "|           0.073241|             0.019298|              0.059481|            0.004944|          -0.206387|       -0.002468|      -0.184999|              -0.066655|\n",
      "|           0.262589|             0.019298|             -0.361133|            0.004944|           0.128716|       -0.002468|       0.131897|                0.05539|\n",
      "|           0.051986|             0.019298|              0.112577|            0.004944|          -0.206387|       -0.002468|      -0.184999|                0.05539|\n",
      "|           0.073241|             0.019298|              0.059481|            0.004944|          -0.206387|        0.001779|      -0.184999|                0.05539|\n",
      "|           0.051986|             0.019298|              0.059481|            0.004944|           0.128716|        0.001779|       0.131897|                0.05539|\n",
      "|           1.060523|             0.019298|              0.059481|           -0.005028|           0.128716|       -0.002468|       0.131897|                0.05539|\n",
      "+-------------------+---------------------+----------------------+--------------------+-------------------+----------------+---------------+-----------------------+\n",
      "only showing top 20 rows\n",
      "\n"
     ]
    }
   ],
   "source": [
    "dff.select('OCCUPATION_TYPE_WOE','NAME_HOUSING_TYPE_WOE','NAME_FAMILY_STATUS_WOE','NAME_INCOME_TYPE_WOE','FLAG_OWN_REALTY_WOE',\n",
    "          'FLAG_OWN_CAR_WOE','CODE_GENDER_WOE','NAME_EDUCATION_TYPE_WOE').show()"
   ]
  },
  {
   "cell_type": "code",
   "execution_count": 161,
   "metadata": {},
   "outputs": [
    {
     "name": "stdout",
     "output_type": "stream",
     "text": [
      "+-----------------------+\n",
      "|NAME_EDUCATION_TYPE_WOE|\n",
      "+-----------------------+\n",
      "|                     NA|\n",
      "|              -0.230763|\n",
      "|              -0.066655|\n",
      "|                0.05539|\n",
      "|              -0.647622|\n",
      "+-----------------------+\n",
      "\n"
     ]
    }
   ],
   "source": [
    "dff.select('NAME_EDUCATION_TYPE_WOE').distinct().show()"
   ]
  },
  {
   "cell_type": "code",
   "execution_count": 162,
   "metadata": {},
   "outputs": [],
   "source": [
    "# Dropping all the rows containig NA values from the previous variable transformations\n",
    "dff = dff.where(col('OCCUPATION_TYPE_WOE')!='NA')\n",
    "dff = dff.where(col('NAME_EDUCATION_TYPE_WOE')!='NA')\n",
    "dff = dff.where(col('NAME_INCOME_TYPE_WOE')!='NA')"
   ]
  },
  {
   "cell_type": "code",
   "execution_count": 163,
   "metadata": {},
   "outputs": [
    {
     "name": "stdout",
     "output_type": "stream",
     "text": [
      "+---+-----------+------------+---------------+------------+----------------+----------------+-------------------+------------------+-----------------+-------------+----------+---------------+----------+----------+---------------+---------------+------+---+---------------+----------------+-------------------+--------------------+-----------------------+----------------------+---------------------+-------------------+\n",
      "| ID|CODE_GENDER|FLAG_OWN_CAR|FLAG_OWN_REALTY|CNT_CHILDREN|AMT_INCOME_TOTAL|NAME_INCOME_TYPE|NAME_EDUCATION_TYPE|NAME_FAMILY_STATUS|NAME_HOUSING_TYPE|DAYS_EMPLOYED|FLAG_MOBIL|FLAG_WORK_PHONE|FLAG_PHONE|FLAG_EMAIL|OCCUPATION_TYPE|CNT_FAM_MEMBERS|target|AGE|CODE_GENDER_WOE|FLAG_OWN_CAR_WOE|FLAG_OWN_REALTY_WOE|NAME_INCOME_TYPE_WOE|NAME_EDUCATION_TYPE_WOE|NAME_FAMILY_STATUS_WOE|NAME_HOUSING_TYPE_WOE|OCCUPATION_TYPE_WOE|\n",
      "+---+-----------+------------+---------------+------------+----------------+----------------+-------------------+------------------+-----------------+-------------+----------+---------------+----------+----------+---------------+---------------+------+---+---------------+----------------+-------------------+--------------------+-----------------------+----------------------+---------------------+-------------------+\n",
      "|  0|          0|           0|              0|           0|               0|               0|                  0|                 0|                0|            0|         0|              0|         0|         0|              0|              0|     0|  0|              0|               0|                  0|                   0|                      0|                     0|                    0|                  0|\n",
      "+---+-----------+------------+---------------+------------+----------------+----------------+-------------------+------------------+-----------------+-------------+----------+---------------+----------+----------+---------------+---------------+------+---+---------------+----------------+-------------------+--------------------+-----------------------+----------------------+---------------------+-------------------+\n",
      "\n"
     ]
    }
   ],
   "source": [
    "# Checking for null values in all columns of dataset\n",
    "dff.select([count(when(isnull(c), c)).alias(c) for c in dff.columns]).show()"
   ]
  },
  {
   "cell_type": "code",
   "execution_count": 164,
   "metadata": {},
   "outputs": [
    {
     "name": "stdout",
     "output_type": "stream",
     "text": [
      "+-------+-----------+------------+---------------+------------+----------------+--------------------+--------------------+--------------------+-----------------+-------------+----------+---------------+----------+----------+---------------+---------------+------+----+---------------+----------------+-------------------+--------------------+-----------------------+----------------------+---------------------+-------------------+\n",
      "|     ID|CODE_GENDER|FLAG_OWN_CAR|FLAG_OWN_REALTY|CNT_CHILDREN|AMT_INCOME_TOTAL|    NAME_INCOME_TYPE| NAME_EDUCATION_TYPE|  NAME_FAMILY_STATUS|NAME_HOUSING_TYPE|DAYS_EMPLOYED|FLAG_MOBIL|FLAG_WORK_PHONE|FLAG_PHONE|FLAG_EMAIL|OCCUPATION_TYPE|CNT_FAM_MEMBERS|target| AGE|CODE_GENDER_WOE|FLAG_OWN_CAR_WOE|FLAG_OWN_REALTY_WOE|NAME_INCOME_TYPE_WOE|NAME_EDUCATION_TYPE_WOE|NAME_FAMILY_STATUS_WOE|NAME_HOUSING_TYPE_WOE|OCCUPATION_TYPE_WOE|\n",
      "+-------+-----------+------------+---------------+------------+----------------+--------------------+--------------------+--------------------+-----------------+-------------+----------+---------------+----------+----------+---------------+---------------+------+----+---------------+----------------+-------------------+--------------------+-----------------------+----------------------+---------------------+-------------------+\n",
      "|5009355|          F|           N|              N|           0|        135000.0|Commercial associate|Secondary / secon...|             Married|House / apartment|        -5273|         1|              1|         1|         0|       Laborers|            2.0|     0|54.0|       0.131897|        0.001779|          -0.206387|           -0.005028|                0.05539|              0.059481|             0.019298|           0.051986|\n",
      "|5009429|          M|           N|              N|           0|        198000.0|             Working|Secondary / secon...|Single / not married|     With parents|        -1164|         1|              1|         0|         0|       Laborers|            1.0|     0|24.0|      -0.184999|        0.001779|          -0.206387|            0.004944|                0.05539|             -0.361133|            -0.040418|           0.051986|\n",
      "|5010070|          F|           N|              Y|           0|        279000.0|       State servant|    Higher education|Single / not married|House / apartment|         -617|         1|              0|         0|         1|       Managers|            1.0|     0|30.0|       0.131897|        0.001779|           0.128716|            0.344256|              -0.066655|             -0.361133|             0.019298|           0.073241|\n",
      "|5010236|          M|           Y|              Y|           0|        225000.0|             Working|Secondary / secon...|             Married|House / apartment|        -4331|         1|              0|         0|         0|        Drivers|            2.0|     0|45.0|      -0.184999|       -0.002468|           0.128716|            0.004944|                0.05539|              0.059481|             0.019298|          -0.311166|\n",
      "|5010511|          F|           Y|              Y|           1|        157500.0|Commercial associate|Secondary / secon...|             Married|House / apartment|        -4239|         1|              0|         0|         0|       Laborers|            3.0|     0|38.0|       0.131897|       -0.002468|           0.128716|           -0.005028|                0.05539|              0.059481|             0.019298|           0.051986|\n",
      "|5011029|          F|           N|              Y|           0|        292500.0|             Working|Secondary / secon...|      Civil marriage|House / apartment|        -1013|         1|              0|         0|         1|    Sales staff|            2.0|     0|45.0|       0.131897|        0.001779|           0.128716|            0.004944|                0.05539|              0.112577|             0.019298|           0.262589|\n",
      "|5018442|          F|           N|              Y|           0|        202500.0|             Working|Secondary / secon...|               Widow|House / apartment|        -5416|         1|              0|         0|         0|     Core staff|            1.0|     0|55.0|       0.131897|        0.001779|           0.128716|            0.004944|                0.05539|             -0.431994|             0.019298|          -0.204851|\n",
      "|5021819|          F|           Y|              Y|           1|         67500.0|             Working|Secondary / secon...|             Married|House / apartment|        -1678|         1|              0|         1|         1|  Cooking staff|            3.0|     0|31.0|       0.131897|       -0.002468|           0.128716|            0.004944|                0.05539|              0.059481|             0.019298|           0.200439|\n",
      "|5021944|          F|           Y|              Y|           0|        445500.0|Commercial associate|    Higher education|             Married|House / apartment|         -456|         1|              0|         0|         0|       Managers|            2.0|     0|34.0|       0.131897|       -0.002468|           0.128716|           -0.005028|              -0.066655|              0.059481|             0.019298|           0.073241|\n",
      "|5021994|          M|           Y|              Y|           0|        135000.0|             Working|    Higher education|             Married|House / apartment|         -852|         1|              0|         0|         0|    Sales staff|            2.0|     0|25.0|      -0.184999|       -0.002468|           0.128716|            0.004944|              -0.066655|              0.059481|             0.019298|           0.262589|\n",
      "+-------+-----------+------------+---------------+------------+----------------+--------------------+--------------------+--------------------+-----------------+-------------+----------+---------------+----------+----------+---------------+---------------+------+----+---------------+----------------+-------------------+--------------------+-----------------------+----------------------+---------------------+-------------------+\n",
      "only showing top 10 rows\n",
      "\n"
     ]
    }
   ],
   "source": [
    "dff.show(10)"
   ]
  },
  {
   "cell_type": "code",
   "execution_count": 165,
   "metadata": {},
   "outputs": [
    {
     "name": "stdout",
     "output_type": "stream",
     "text": [
      "root\n",
      " |-- ID: integer (nullable = true)\n",
      " |-- CNT_CHILDREN: integer (nullable = true)\n",
      " |-- AMT_INCOME_TOTAL: double (nullable = true)\n",
      " |-- DAYS_EMPLOYED: integer (nullable = true)\n",
      " |-- FLAG_MOBIL: integer (nullable = true)\n",
      " |-- FLAG_WORK_PHONE: integer (nullable = true)\n",
      " |-- FLAG_PHONE: integer (nullable = true)\n",
      " |-- FLAG_EMAIL: integer (nullable = true)\n",
      " |-- CNT_FAM_MEMBERS: double (nullable = true)\n",
      " |-- target: integer (nullable = false)\n",
      " |-- AGE: double (nullable = true)\n",
      " |-- CODE_GENDER_WOE: double (nullable = false)\n",
      " |-- FLAG_OWN_CAR_WOE: double (nullable = false)\n",
      " |-- FLAG_OWN_REALTY_WOE: double (nullable = false)\n",
      " |-- NAME_INCOME_TYPE_WOE: string (nullable = false)\n",
      " |-- NAME_EDUCATION_TYPE_WOE: string (nullable = false)\n",
      " |-- NAME_FAMILY_STATUS_WOE: double (nullable = true)\n",
      " |-- NAME_HOUSING_TYPE_WOE: double (nullable = true)\n",
      " |-- OCCUPATION_TYPE_WOE: string (nullable = false)\n",
      "\n"
     ]
    }
   ],
   "source": [
    "#Dropping the categorical columns which are not converted to WOE columns\n",
    "\n",
    "dff = dff.drop('CODE_GENDER','FLAG_OWN_CAR','FLAG_OWN_REALTY','NAME_INCOME_TYPE','NAME_EDUCATION_TYPE','NAME_FAMILY_STATUS','NAME_HOUSING_TYPE','OCCUPATION_TYPE')\n",
    "dff.printSchema()"
   ]
  },
  {
   "cell_type": "code",
   "execution_count": 166,
   "metadata": {},
   "outputs": [],
   "source": [
    "dff= dff.withColumn('OCCUPATION_TYPE_WOE', col('OCCUPATION_TYPE_WOE').cast('double'))"
   ]
  },
  {
   "cell_type": "code",
   "execution_count": 167,
   "metadata": {},
   "outputs": [],
   "source": [
    "dff = dff.withColumn('NAME_EDUCATION_TYPE_WOE', col('NAME_EDUCATION_TYPE_WOE').cast('double'))"
   ]
  },
  {
   "cell_type": "code",
   "execution_count": 168,
   "metadata": {},
   "outputs": [],
   "source": [
    "dff = dff.withColumn('NAME_INCOME_TYPE_WOE', col('NAME_INCOME_TYPE_WOE').cast('double'))"
   ]
  },
  {
   "cell_type": "code",
   "execution_count": 169,
   "metadata": {},
   "outputs": [
    {
     "name": "stdout",
     "output_type": "stream",
     "text": [
      "root\n",
      " |-- ID: integer (nullable = true)\n",
      " |-- CNT_CHILDREN: integer (nullable = true)\n",
      " |-- AMT_INCOME_TOTAL: double (nullable = true)\n",
      " |-- DAYS_EMPLOYED: integer (nullable = true)\n",
      " |-- FLAG_MOBIL: integer (nullable = true)\n",
      " |-- FLAG_WORK_PHONE: integer (nullable = true)\n",
      " |-- FLAG_PHONE: integer (nullable = true)\n",
      " |-- FLAG_EMAIL: integer (nullable = true)\n",
      " |-- CNT_FAM_MEMBERS: double (nullable = true)\n",
      " |-- target: integer (nullable = false)\n",
      " |-- AGE: double (nullable = true)\n",
      " |-- CODE_GENDER_WOE: double (nullable = false)\n",
      " |-- FLAG_OWN_CAR_WOE: double (nullable = false)\n",
      " |-- FLAG_OWN_REALTY_WOE: double (nullable = false)\n",
      " |-- NAME_INCOME_TYPE_WOE: double (nullable = true)\n",
      " |-- NAME_EDUCATION_TYPE_WOE: double (nullable = true)\n",
      " |-- NAME_FAMILY_STATUS_WOE: double (nullable = true)\n",
      " |-- NAME_HOUSING_TYPE_WOE: double (nullable = true)\n",
      " |-- OCCUPATION_TYPE_WOE: double (nullable = true)\n",
      "\n"
     ]
    }
   ],
   "source": [
    "dff.printSchema()"
   ]
  },
  {
   "cell_type": "markdown",
   "metadata": {},
   "source": [
    "### Creating a new variable working days based on DAYS_EMPLOYED"
   ]
  },
  {
   "cell_type": "code",
   "execution_count": 170,
   "metadata": {},
   "outputs": [],
   "source": [
    "dff = dff.withColumn('WORKING_DAYS', round(dff['DAYS_EMPLOYED']/365*(-1)))"
   ]
  },
  {
   "cell_type": "code",
   "execution_count": 171,
   "metadata": {},
   "outputs": [],
   "source": [
    "dff = dff.filter(dff['WORKING_DAYS']>=0)"
   ]
  },
  {
   "cell_type": "code",
   "execution_count": 172,
   "metadata": {},
   "outputs": [
    {
     "name": "stdout",
     "output_type": "stream",
     "text": [
      "+-------+------------+----------------+-------------+----------+---------------+----------+----------+---------------+------+----+---------------+----------------+-------------------+--------------------+-----------------------+----------------------+---------------------+-------------------+------------+\n",
      "|     ID|CNT_CHILDREN|AMT_INCOME_TOTAL|DAYS_EMPLOYED|FLAG_MOBIL|FLAG_WORK_PHONE|FLAG_PHONE|FLAG_EMAIL|CNT_FAM_MEMBERS|target| AGE|CODE_GENDER_WOE|FLAG_OWN_CAR_WOE|FLAG_OWN_REALTY_WOE|NAME_INCOME_TYPE_WOE|NAME_EDUCATION_TYPE_WOE|NAME_FAMILY_STATUS_WOE|NAME_HOUSING_TYPE_WOE|OCCUPATION_TYPE_WOE|WORKING_DAYS|\n",
      "+-------+------------+----------------+-------------+----------+---------------+----------+----------+---------------+------+----+---------------+----------------+-------------------+--------------------+-----------------------+----------------------+---------------------+-------------------+------------+\n",
      "|5009355|           0|        135000.0|        -5273|         1|              1|         1|         0|            2.0|     0|54.0|       0.131897|        0.001779|          -0.206387|           -0.005028|                0.05539|              0.059481|             0.019298|           0.051986|        14.0|\n",
      "|5009429|           0|        198000.0|        -1164|         1|              1|         0|         0|            1.0|     0|24.0|      -0.184999|        0.001779|          -0.206387|            0.004944|                0.05539|             -0.361133|            -0.040418|           0.051986|         3.0|\n",
      "|5010070|           0|        279000.0|         -617|         1|              0|         0|         1|            1.0|     0|30.0|       0.131897|        0.001779|           0.128716|            0.344256|              -0.066655|             -0.361133|             0.019298|           0.073241|         2.0|\n",
      "|5010236|           0|        225000.0|        -4331|         1|              0|         0|         0|            2.0|     0|45.0|      -0.184999|       -0.002468|           0.128716|            0.004944|                0.05539|              0.059481|             0.019298|          -0.311166|        12.0|\n",
      "|5010511|           1|        157500.0|        -4239|         1|              0|         0|         0|            3.0|     0|38.0|       0.131897|       -0.002468|           0.128716|           -0.005028|                0.05539|              0.059481|             0.019298|           0.051986|        12.0|\n",
      "|5011029|           0|        292500.0|        -1013|         1|              0|         0|         1|            2.0|     0|45.0|       0.131897|        0.001779|           0.128716|            0.004944|                0.05539|              0.112577|             0.019298|           0.262589|         3.0|\n",
      "|5018442|           0|        202500.0|        -5416|         1|              0|         0|         0|            1.0|     0|55.0|       0.131897|        0.001779|           0.128716|            0.004944|                0.05539|             -0.431994|             0.019298|          -0.204851|        15.0|\n",
      "|5021819|           1|         67500.0|        -1678|         1|              0|         1|         1|            3.0|     0|31.0|       0.131897|       -0.002468|           0.128716|            0.004944|                0.05539|              0.059481|             0.019298|           0.200439|         5.0|\n",
      "|5021944|           0|        445500.0|         -456|         1|              0|         0|         0|            2.0|     0|34.0|       0.131897|       -0.002468|           0.128716|           -0.005028|              -0.066655|              0.059481|             0.019298|           0.073241|         1.0|\n",
      "|5021994|           0|        135000.0|         -852|         1|              0|         0|         0|            2.0|     0|25.0|      -0.184999|       -0.002468|           0.128716|            0.004944|              -0.066655|              0.059481|             0.019298|           0.262589|         2.0|\n",
      "|5022285|           1|        157500.0|        -3500|         1|              0|         0|         0|            3.0|     0|41.0|       0.131897|        0.001779|          -0.206387|            0.004944|                0.05539|              0.112577|             0.019298|           0.200439|        10.0|\n",
      "|5022944|           0|        202500.0|        -1344|         1|              0|         1|         1|            1.0|     0|39.0|       0.131897|       -0.002468|          -0.206387|           -0.005028|              -0.230763|              0.495953|             0.019298|          -0.098793|         4.0|\n",
      "|5023011|           0|        360000.0|        -2457|         1|              0|         0|         0|            2.0|     0|31.0|      -0.184999|       -0.002468|          -0.206387|            0.004944|                0.05539|              0.059481|             0.019298|           1.060523|         7.0|\n",
      "|5023675|           0|         90000.0|        -1513|         1|              0|         0|         0|            2.0|     0|45.0|       0.131897|        0.001779|           0.128716|            0.004944|                0.05539|              0.059481|             0.019298|           0.200439|         4.0|\n",
      "|5024412|           0|        270000.0|        -5084|         1|              0|         0|         0|            2.0|     0|51.0|      -0.184999|       -0.002468|          -0.206387|            0.004944|              -0.066655|              0.059481|             0.019298|           0.073241|        14.0|\n",
      "|5024771|           0|        202500.0|        -1068|         1|              0|         0|         0|            1.0|     0|23.0|       0.131897|       -0.002468|           0.128716|            0.004944|                0.05539|             -0.361133|             0.019298|           0.262589|         3.0|\n",
      "|5024891|           0|         99000.0|        -3471|         1|              0|         1|         0|            2.0|     0|59.0|      -0.184999|       -0.002468|          -0.206387|            0.004944|                0.05539|              0.112577|             0.019298|           0.051986|        10.0|\n",
      "|5025981|           1|        189000.0|         -404|         1|              0|         0|         0|            3.0|     0|32.0|      -0.184999|        0.001779|          -0.206387|            0.004944|                0.05539|              0.059481|             0.019298|           0.073241|         1.0|\n",
      "|5026273|           2|        112500.0|         -560|         1|              1|         1|         0|            4.0|     0|38.0|       0.131897|        0.001779|           0.128716|            0.004944|                0.05539|              0.059481|             0.019298|           0.051986|         2.0|\n",
      "|5028624|           0|        135000.0|        -1542|         1|              0|         0|         0|            2.0|     0|39.0|       0.131897|       -0.002468|           0.128716|           -0.005028|                0.05539|              0.059481|             0.019298|           1.060523|         4.0|\n",
      "+-------+------------+----------------+-------------+----------+---------------+----------+----------+---------------+------+----+---------------+----------------+-------------------+--------------------+-----------------------+----------------------+---------------------+-------------------+------------+\n",
      "only showing top 20 rows\n",
      "\n"
     ]
    }
   ],
   "source": [
    "dff.show()"
   ]
  },
  {
   "cell_type": "code",
   "execution_count": 173,
   "metadata": {},
   "outputs": [
    {
     "name": "stdout",
     "output_type": "stream",
     "text": [
      "+-------+------------+----------------+----------+---------------+----------+----------+---------------+------+----+---------------+----------------+-------------------+--------------------+-----------------------+----------------------+---------------------+-------------------+------------+\n",
      "|     ID|CNT_CHILDREN|AMT_INCOME_TOTAL|FLAG_MOBIL|FLAG_WORK_PHONE|FLAG_PHONE|FLAG_EMAIL|CNT_FAM_MEMBERS|target| AGE|CODE_GENDER_WOE|FLAG_OWN_CAR_WOE|FLAG_OWN_REALTY_WOE|NAME_INCOME_TYPE_WOE|NAME_EDUCATION_TYPE_WOE|NAME_FAMILY_STATUS_WOE|NAME_HOUSING_TYPE_WOE|OCCUPATION_TYPE_WOE|WORKING_DAYS|\n",
      "+-------+------------+----------------+----------+---------------+----------+----------+---------------+------+----+---------------+----------------+-------------------+--------------------+-----------------------+----------------------+---------------------+-------------------+------------+\n",
      "|5009355|           0|        135000.0|         1|              1|         1|         0|            2.0|     0|54.0|       0.131897|        0.001779|          -0.206387|           -0.005028|                0.05539|              0.059481|             0.019298|           0.051986|        14.0|\n",
      "|5009429|           0|        198000.0|         1|              1|         0|         0|            1.0|     0|24.0|      -0.184999|        0.001779|          -0.206387|            0.004944|                0.05539|             -0.361133|            -0.040418|           0.051986|         3.0|\n",
      "|5010070|           0|        279000.0|         1|              0|         0|         1|            1.0|     0|30.0|       0.131897|        0.001779|           0.128716|            0.344256|              -0.066655|             -0.361133|             0.019298|           0.073241|         2.0|\n",
      "|5010236|           0|        225000.0|         1|              0|         0|         0|            2.0|     0|45.0|      -0.184999|       -0.002468|           0.128716|            0.004944|                0.05539|              0.059481|             0.019298|          -0.311166|        12.0|\n",
      "|5010511|           1|        157500.0|         1|              0|         0|         0|            3.0|     0|38.0|       0.131897|       -0.002468|           0.128716|           -0.005028|                0.05539|              0.059481|             0.019298|           0.051986|        12.0|\n",
      "|5011029|           0|        292500.0|         1|              0|         0|         1|            2.0|     0|45.0|       0.131897|        0.001779|           0.128716|            0.004944|                0.05539|              0.112577|             0.019298|           0.262589|         3.0|\n",
      "|5018442|           0|        202500.0|         1|              0|         0|         0|            1.0|     0|55.0|       0.131897|        0.001779|           0.128716|            0.004944|                0.05539|             -0.431994|             0.019298|          -0.204851|        15.0|\n",
      "|5021819|           1|         67500.0|         1|              0|         1|         1|            3.0|     0|31.0|       0.131897|       -0.002468|           0.128716|            0.004944|                0.05539|              0.059481|             0.019298|           0.200439|         5.0|\n",
      "|5021944|           0|        445500.0|         1|              0|         0|         0|            2.0|     0|34.0|       0.131897|       -0.002468|           0.128716|           -0.005028|              -0.066655|              0.059481|             0.019298|           0.073241|         1.0|\n",
      "|5021994|           0|        135000.0|         1|              0|         0|         0|            2.0|     0|25.0|      -0.184999|       -0.002468|           0.128716|            0.004944|              -0.066655|              0.059481|             0.019298|           0.262589|         2.0|\n",
      "|5022285|           1|        157500.0|         1|              0|         0|         0|            3.0|     0|41.0|       0.131897|        0.001779|          -0.206387|            0.004944|                0.05539|              0.112577|             0.019298|           0.200439|        10.0|\n",
      "|5022944|           0|        202500.0|         1|              0|         1|         1|            1.0|     0|39.0|       0.131897|       -0.002468|          -0.206387|           -0.005028|              -0.230763|              0.495953|             0.019298|          -0.098793|         4.0|\n",
      "|5023011|           0|        360000.0|         1|              0|         0|         0|            2.0|     0|31.0|      -0.184999|       -0.002468|          -0.206387|            0.004944|                0.05539|              0.059481|             0.019298|           1.060523|         7.0|\n",
      "|5023675|           0|         90000.0|         1|              0|         0|         0|            2.0|     0|45.0|       0.131897|        0.001779|           0.128716|            0.004944|                0.05539|              0.059481|             0.019298|           0.200439|         4.0|\n",
      "|5024412|           0|        270000.0|         1|              0|         0|         0|            2.0|     0|51.0|      -0.184999|       -0.002468|          -0.206387|            0.004944|              -0.066655|              0.059481|             0.019298|           0.073241|        14.0|\n",
      "|5024771|           0|        202500.0|         1|              0|         0|         0|            1.0|     0|23.0|       0.131897|       -0.002468|           0.128716|            0.004944|                0.05539|             -0.361133|             0.019298|           0.262589|         3.0|\n",
      "|5024891|           0|         99000.0|         1|              0|         1|         0|            2.0|     0|59.0|      -0.184999|       -0.002468|          -0.206387|            0.004944|                0.05539|              0.112577|             0.019298|           0.051986|        10.0|\n",
      "|5025981|           1|        189000.0|         1|              0|         0|         0|            3.0|     0|32.0|      -0.184999|        0.001779|          -0.206387|            0.004944|                0.05539|              0.059481|             0.019298|           0.073241|         1.0|\n",
      "|5026273|           2|        112500.0|         1|              1|         1|         0|            4.0|     0|38.0|       0.131897|        0.001779|           0.128716|            0.004944|                0.05539|              0.059481|             0.019298|           0.051986|         2.0|\n",
      "|5028624|           0|        135000.0|         1|              0|         0|         0|            2.0|     0|39.0|       0.131897|       -0.002468|           0.128716|           -0.005028|                0.05539|              0.059481|             0.019298|           1.060523|         4.0|\n",
      "+-------+------------+----------------+----------+---------------+----------+----------+---------------+------+----+---------------+----------------+-------------------+--------------------+-----------------------+----------------------+---------------------+-------------------+------------+\n",
      "only showing top 20 rows\n",
      "\n"
     ]
    }
   ],
   "source": [
    "# Removing the column days_employed after new column has been derived from it\n",
    "dff = dff.drop('DAYS_EMPLOYED')\n",
    "dff.show()"
   ]
  },
  {
   "cell_type": "code",
   "execution_count": 174,
   "metadata": {},
   "outputs": [
    {
     "data": {
      "text/plain": [
       "['ID',\n",
       " 'CNT_CHILDREN',\n",
       " 'AMT_INCOME_TOTAL',\n",
       " 'FLAG_MOBIL',\n",
       " 'FLAG_WORK_PHONE',\n",
       " 'FLAG_PHONE',\n",
       " 'FLAG_EMAIL',\n",
       " 'CNT_FAM_MEMBERS',\n",
       " 'target',\n",
       " 'AGE',\n",
       " 'CODE_GENDER_WOE',\n",
       " 'FLAG_OWN_CAR_WOE',\n",
       " 'FLAG_OWN_REALTY_WOE',\n",
       " 'NAME_INCOME_TYPE_WOE',\n",
       " 'NAME_EDUCATION_TYPE_WOE',\n",
       " 'NAME_FAMILY_STATUS_WOE',\n",
       " 'NAME_HOUSING_TYPE_WOE',\n",
       " 'OCCUPATION_TYPE_WOE',\n",
       " 'WORKING_DAYS']"
      ]
     },
     "execution_count": 174,
     "metadata": {},
     "output_type": "execute_result"
    }
   ],
   "source": [
    "dff.columns"
   ]
  },
  {
   "cell_type": "code",
   "execution_count": 175,
   "metadata": {},
   "outputs": [],
   "source": [
    "df_cor = dff.select('CNT_CHILDREN',\n",
    " 'AMT_INCOME_TOTAL',\n",
    " 'FLAG_WORK_PHONE',\n",
    " 'FLAG_PHONE',\n",
    " 'FLAG_EMAIL',\n",
    " 'CNT_FAM_MEMBERS',\n",
    " 'target',\n",
    " 'AGE',\n",
    " 'CODE_GENDER_WOE',\n",
    " 'FLAG_OWN_CAR_WOE',\n",
    " 'FLAG_OWN_REALTY_WOE',\n",
    " 'NAME_INCOME_TYPE_WOE',\n",
    " 'NAME_EDUCATION_TYPE_WOE',\n",
    " 'NAME_FAMILY_STATUS_WOE',\n",
    " 'NAME_HOUSING_TYPE_WOE',\n",
    " 'OCCUPATION_TYPE_WOE',\n",
    " 'WORKING_DAYS').toPandas()"
   ]
  },
  {
   "cell_type": "code",
   "execution_count": 176,
   "metadata": {},
   "outputs": [
    {
     "data": {
      "image/png": "[encoded data removed]",
      "text/plain": [
       "<Figure size 1800x1080 with 2 Axes>"
      ]
     },
     "metadata": {
      "needs_background": "light"
     },
     "output_type": "display_data"
    }
   ],
   "source": [
    "plt.figure(figsize=(25,15))\n",
    "sns.heatmap(df_cor.corr(),annot=True)\n",
    "plt.show()"
   ]
  },
  {
   "cell_type": "markdown",
   "metadata": {},
   "source": [
    "# Model building: Logistic Regression"
   ]
  },
  {
   "cell_type": "code",
   "execution_count": 177,
   "metadata": {},
   "outputs": [],
   "source": [
    "# import all the necessary libraries \n",
    "from pyspark.ml.feature import VectorAssembler\n",
    "from pyspark.ml.classification import LogisticRegression\n",
    "from pyspark.ml import Pipeline"
   ]
  },
  {
   "cell_type": "code",
   "execution_count": 179,
   "metadata": {},
   "outputs": [],
   "source": [
    "# Selecting the important features for model building\n",
    "trainCols = ['AGE','CODE_GENDER_WOE', 'FLAG_OWN_CAR_WOE', 'FLAG_OWN_REALTY_WOE', 'NAME_INCOME_TYPE_WOE', \n",
    "             'NAME_EDUCATION_TYPE_WOE', 'NAME_FAMILY_STATUS_WOE', 'NAME_HOUSING_TYPE_WOE',\n",
    "             'OCCUPATION_TYPE_WOE','WORKING_DAYS']\n",
    "\n",
    "assembler  = VectorAssembler(inputCols = trainCols, outputCol = 'features')\n",
    "dff = assembler.transform(dff)"
   ]
  },
  {
   "cell_type": "code",
   "execution_count": 180,
   "metadata": {},
   "outputs": [
    {
     "name": "stdout",
     "output_type": "stream",
     "text": [
      "Training Dataset Count: 17821\n",
      "Test Dataset Count: 7632\n"
     ]
    }
   ],
   "source": [
    "# Splitting train and test dataset\n",
    "train, test = dff.randomSplit([0.7, 0.3], seed = 2018)\n",
    "print(\"Training Dataset Count: \" + str(train.count()))\n",
    "print(\"Test Dataset Count: \" + str(test.count()))"
   ]
  },
  {
   "cell_type": "code",
   "execution_count": 181,
   "metadata": {},
   "outputs": [
    {
     "name": "stdout",
     "output_type": "stream",
     "text": [
      "+--------------------+\n",
      "|            features|\n",
      "+--------------------+\n",
      "|[54.0,0.131897,0....|\n",
      "|[24.0,-0.184999,0...|\n",
      "|[30.0,0.131897,0....|\n",
      "|[45.0,-0.184999,-...|\n",
      "|[38.0,0.131897,-0...|\n",
      "|[45.0,0.131897,0....|\n",
      "|[55.0,0.131897,0....|\n",
      "|[31.0,0.131897,-0...|\n",
      "|[34.0,0.131897,-0...|\n",
      "|[25.0,-0.184999,-...|\n",
      "|[41.0,0.131897,0....|\n",
      "|[39.0,0.131897,-0...|\n",
      "|[31.0,-0.184999,-...|\n",
      "|[45.0,0.131897,0....|\n",
      "|[51.0,-0.184999,-...|\n",
      "|[23.0,0.131897,-0...|\n",
      "|[59.0,-0.184999,-...|\n",
      "|[32.0,-0.184999,0...|\n",
      "|[38.0,0.131897,0....|\n",
      "|[39.0,0.131897,-0...|\n",
      "+--------------------+\n",
      "only showing top 20 rows\n",
      "\n"
     ]
    }
   ],
   "source": [
    "dff.select(['features']).show()"
   ]
  },
  {
   "cell_type": "code",
   "execution_count": 190,
   "metadata": {},
   "outputs": [],
   "source": [
    "# Building the logistic regression model\n",
    "lr = LogisticRegression(featuresCol = 'features', labelCol = 'target', maxIter=30, threshold = 0.3)\n",
    "model = lr.fit(train)\n",
    "result = model.evaluate(train)"
   ]
  },
  {
   "cell_type": "code",
   "execution_count": 191,
   "metadata": {},
   "outputs": [
    {
     "data": {
      "text/plain": [
       "0.9846809943325291"
      ]
     },
     "execution_count": 191,
     "metadata": {},
     "output_type": "execute_result"
    }
   ],
   "source": [
    "result.accuracy"
   ]
  },
  {
   "cell_type": "code",
   "execution_count": 192,
   "metadata": {},
   "outputs": [
    {
     "data": {
      "text/plain": [
       "0.6631652292696286"
      ]
     },
     "execution_count": 192,
     "metadata": {},
     "output_type": "execute_result"
    }
   ],
   "source": [
    "result.areaUnderROC"
   ]
  },
  {
   "cell_type": "code",
   "execution_count": 193,
   "metadata": {},
   "outputs": [
    {
     "data": {
      "text/plain": [
       "[0.9996010941417826, 0.02564102564102564]"
      ]
     },
     "execution_count": 193,
     "metadata": {},
     "output_type": "execute_result"
    }
   ],
   "source": [
    "result.recallByLabel"
   ]
  },
  {
   "cell_type": "code",
   "execution_count": 194,
   "metadata": {},
   "outputs": [
    {
     "data": {
      "text/plain": [
       "[0.9996010941417826, 0.02564102564102564]"
      ]
     },
     "execution_count": 194,
     "metadata": {},
     "output_type": "execute_result"
    }
   ],
   "source": [
    "# Negative samples(0- good customers) and positive samples(1- bad customers) being predicted correctly respectively\n",
    "result.truePositiveRateByLabel"
   ]
  },
  {
   "cell_type": "code",
   "execution_count": 195,
   "metadata": {},
   "outputs": [
    {
     "data": {
      "image/png": "[encoded data removed]",
      "text/plain": [
       "<Figure size 432x288 with 1 Axes>"
      ]
     },
     "metadata": {
      "needs_background": "light"
     },
     "output_type": "display_data"
    }
   ],
   "source": [
    "# Plotting the coefficients or weights of the selected variables\n",
    "beta = np.sort(model.coefficients)\n",
    "plt.plot(beta)\n",
    "plt.ylabel('Beta Coefficients')\n",
    "plt.show()"
   ]
  },
  {
   "cell_type": "code",
   "execution_count": 196,
   "metadata": {},
   "outputs": [
    {
     "data": {
      "image/png": "[encoded data removed]",
      "text/plain": [
       "<Figure size 432x288 with 1 Axes>"
      ]
     },
     "metadata": {
      "needs_background": "light"
     },
     "output_type": "display_data"
    },
    {
     "name": "stdout",
     "output_type": "stream",
     "text": [
      "Training set areaUnderROC: 0.6631652292696286\n"
     ]
    }
   ],
   "source": [
    "# Plotting the ROC\n",
    "trainingSummary = model.summary\n",
    "roc = trainingSummary.roc.toPandas()\n",
    "plt.plot(roc['FPR'],roc['TPR'])\n",
    "plt.ylabel('False Positive Rate')\n",
    "plt.xlabel('True Positive Rate')\n",
    "plt.title('ROC Curve')\n",
    "plt.show()\n",
    "print('Training set areaUnderROC: ' + str(trainingSummary.areaUnderROC))"
   ]
  },
  {
   "cell_type": "code",
   "execution_count": 197,
   "metadata": {},
   "outputs": [
    {
     "data": {
      "image/png": "[encoded data removed]",
      "text/plain": [
       "<Figure size 432x288 with 1 Axes>"
      ]
     },
     "metadata": {
      "needs_background": "light"
     },
     "output_type": "display_data"
    }
   ],
   "source": [
    "# Plotting the precision and recall\n",
    "pr = trainingSummary.pr.toPandas()\n",
    "plt.plot(pr['recall'],pr['precision'])\n",
    "plt.ylabel('Precision')\n",
    "plt.xlabel('Recall')\n",
    "plt.show()"
   ]
  },
  {
   "cell_type": "code",
   "execution_count": 198,
   "metadata": {},
   "outputs": [
    {
     "name": "stdout",
     "output_type": "stream",
     "text": [
      "+------+--------------------+----------+--------------------+\n",
      "|target|       rawPrediction|prediction|         probability|\n",
      "+------+--------------------+----------+--------------------+\n",
      "|     0|[4.35134619882236...|       0.0|[0.98727457458901...|\n",
      "|     0|[4.94407891169632...|       0.0|[0.99292493833992...|\n",
      "|     0|[5.26936283411940...|       0.0|[0.99487946587001...|\n",
      "|     0|[5.61049535566583...|       0.0|[0.99635408506173...|\n",
      "|     0|[4.75051288614899...|       0.0|[0.99142687502592...|\n",
      "|     0|[4.63734093490907...|       0.0|[0.99040945693474...|\n",
      "|     0|[4.49891225538128...|       0.0|[0.98900123139717...|\n",
      "|     0|[4.46428227476591...|       0.0|[0.98861808356796...|\n",
      "|     0|[4.23517094313797...|       0.0|[0.98572926699986...|\n",
      "|     0|[5.96433165809151...|       0.0|[0.99743782078132...|\n",
      "|     0|[4.45783891847154...|       0.0|[0.98854535181646...|\n",
      "|     0|[4.03656537914058...|       0.0|[0.98264837825557...|\n",
      "|     0|[3.35378942960719...|       0.0|[0.96622870663370...|\n",
      "|     0|[4.57103965119792...|       0.0|[0.98975877135840...|\n",
      "|     0|[4.65060259877663...|       0.0|[0.99053460793310...|\n",
      "|     0|[4.58620246799206...|       0.0|[0.98991133106391...|\n",
      "|     0|[5.85237991060166...|       0.0|[0.99713517738345...|\n",
      "|     0|[4.96080908899670...|       0.0|[0.99304150391908...|\n",
      "|     0|[4.53808126697392...|       0.0|[0.98941924397541...|\n",
      "|     0|[4.79640334664410...|       0.0|[0.99180825897502...|\n",
      "+------+--------------------+----------+--------------------+\n",
      "only showing top 20 rows\n",
      "\n"
     ]
    }
   ],
   "source": [
    "predictions = model.transform(test)\n",
    "predictions.select('target','rawPrediction', 'prediction', 'probability').show(20)"
   ]
  },
  {
   "cell_type": "code",
   "execution_count": null,
   "metadata": {},
   "outputs": [],
   "source": [
    "# Evaluating the AREA UNDER ROC for the predicted variable\n",
    "from pyspark.ml.evaluation import BinaryClassificationEvaluator\n",
    "\n",
    "evaluator = BinaryClassificationEvaluator(rawPredictionCol='rawPrediction',labelCol='target')\n",
    "print('Test Area Under ROC', evaluator.evaluate(predictions))"
   ]
  },
  {
   "cell_type": "code",
   "execution_count": null,
   "metadata": {},
   "outputs": [],
   "source": [
    "prediction_res = model.evaluate(test)"
   ]
  },
  {
   "cell_type": "code",
   "execution_count": 260,
   "metadata": {},
   "outputs": [
    {
     "data": {
      "text/plain": [
       "0.9804769392033543"
      ]
     },
     "execution_count": 260,
     "metadata": {},
     "output_type": "execute_result"
    }
   ],
   "source": [
    "prediction_res.accuracy"
   ]
  },
  {
   "cell_type": "code",
   "execution_count": 261,
   "metadata": {},
   "outputs": [
    {
     "data": {
      "text/plain": [
       "[0.9995990912735534, 0.020134228187919462]"
      ]
     },
     "execution_count": 261,
     "metadata": {},
     "output_type": "execute_result"
    }
   ],
   "source": [
    "prediction_res.recallByLabel"
   ]
  },
  {
   "cell_type": "code",
   "execution_count": 273,
   "metadata": {},
   "outputs": [
    {
     "name": "stdout",
     "output_type": "stream",
     "text": [
      "+------+----------+-----+\n",
      "|target|prediction|count|\n",
      "+------+----------+-----+\n",
      "|     1|       0.0|  146|\n",
      "|     0|       0.0| 7480|\n",
      "|     1|       1.0|    3|\n",
      "|     0|       1.0|    3|\n",
      "+------+----------+-----+\n",
      "\n"
     ]
    }
   ],
   "source": [
    "# To calculate confusion matrix, recall, precision and F1- Score\n",
    "\n",
    "predictions.groupBy('target', 'prediction').count().show()\n",
    "# TP = [1,1] = 3\n",
    "# TN = [0,0] = 7480\n",
    "# FP = [0,1] = 3\n",
    "# FN = [1,0] = 146"
   ]
  },
  {
   "cell_type": "code",
   "execution_count": 276,
   "metadata": {},
   "outputs": [
    {
     "name": "stdout",
     "output_type": "stream",
     "text": [
      "precision: 0.500\n",
      "recall: 0.020\n",
      "accuracy: 0.980\n",
      "F1 score: 0.039\n"
     ]
    }
   ],
   "source": [
    "# compute TN, TP, FN, and FP- the elements of the confusion matrix\n",
    "TN = predictions.filter('prediction = 0 AND target = prediction').count()\n",
    "TP = predictions.filter('prediction = 1 AND target = prediction').count()\n",
    "FN = predictions.filter('prediction = 0 AND target <> prediction').count()\n",
    "FP = predictions.filter('prediction = 1 AND target <> prediction').count()\n",
    "# calculate accuracy, precision, recall, and F1-score\n",
    "accuracy = (TN + TP) / (TN + TP + FN + FP)\n",
    "precision = TP / (TP + FP)\n",
    "recall = TP / (TP + FN)\n",
    "F =  2 * (precision*recall) / (precision + recall)\n",
    "print('precision: %0.3f' % precision)\n",
    "print('recall: %0.3f' % recall)\n",
    "print('accuracy: %0.3f' % accuracy)\n",
    "print('F1 score: %0.3f' % F)"
   ]
  },
  {
   "cell_type": "markdown",
   "metadata": {},
   "source": [
    "## Fine tuning the logistic regression model"
   ]
  },
  {
   "cell_type": "code",
   "execution_count": 279,
   "metadata": {},
   "outputs": [],
   "source": [
    "from pyspark.ml.tuning import CrossValidator, ParamGridBuilder\n",
    "\n",
    "pipeline = L\n",
    "params = ParamGridBuilder()\n",
    "params = params.addGrid(lr.regParam, [.01, .1, 1, 10]) .addGrid(lr.elasticNetParam, [0, .5, 1])\n",
    "params = params.build()\n",
    "cv = CrossValidator(estimator=pipeline\n",
    "                    estimatorParamMaps=params,\n",
    "                    evaluator=evaluator,\n",
    "                    numFolds=5)"
   ]
  },
  {
   "cell_type": "code",
   "execution_count": null,
   "metadata": {},
   "outputs": [],
   "source": []
  },
  {
   "cell_type": "code",
   "execution_count": null,
   "metadata": {},
   "outputs": [],
   "source": []
  },
  {
   "cell_type": "code",
   "execution_count": null,
   "metadata": {},
   "outputs": [],
   "source": []
  },
  {
   "cell_type": "code",
   "execution_count": null,
   "metadata": {},
   "outputs": [],
   "source": []
  },
  {
   "cell_type": "code",
   "execution_count": null,
   "metadata": {},
   "outputs": [],
   "source": []
  },
  {
   "cell_type": "code",
   "execution_count": null,
   "metadata": {},
   "outputs": [],
   "source": []
  },
  {
   "cell_type": "code",
   "execution_count": null,
   "metadata": {},
   "outputs": [],
   "source": []
  },
  {
   "cell_type": "code",
   "execution_count": null,
   "metadata": {},
   "outputs": [],
   "source": []
  },
  {
   "cell_type": "code",
   "execution_count": null,
   "metadata": {},
   "outputs": [],
   "source": []
  },
  {
   "cell_type": "code",
   "execution_count": null,
   "metadata": {},
   "outputs": [],
   "source": []
  },
  {
   "cell_type": "code",
   "execution_count": null,
   "metadata": {},
   "outputs": [],
   "source": []
  },
  {
   "cell_type": "code",
   "execution_count": null,
   "metadata": {},
   "outputs": [],
   "source": []
  },
  {
   "cell_type": "code",
   "execution_count": null,
   "metadata": {},
   "outputs": [],
   "source": []
  },
  {
   "cell_type": "code",
   "execution_count": null,
   "metadata": {},
   "outputs": [],
   "source": []
  },
  {
   "cell_type": "code",
   "execution_count": null,
   "metadata": {},
   "outputs": [],
   "source": []
  },
  {
   "cell_type": "code",
   "execution_count": null,
   "metadata": {},
   "outputs": [],
   "source": []
  },
  {
   "cell_type": "code",
   "execution_count": null,
   "metadata": {},
   "outputs": [],
   "source": []
  },
  {
   "cell_type": "code",
   "execution_count": null,
   "metadata": {},
   "outputs": [],
   "source": []
  },
  {
   "cell_type": "code",
   "execution_count": null,
   "metadata": {},
   "outputs": [],
   "source": []
  },
  {
   "cell_type": "code",
   "execution_count": null,
   "metadata": {},
   "outputs": [],
   "source": []
  },
  {
   "cell_type": "code",
   "execution_count": null,
   "metadata": {},
   "outputs": [],
   "source": []
  },
  {
   "cell_type": "code",
   "execution_count": null,
   "metadata": {},
   "outputs": [],
   "source": []
  },
  {
   "cell_type": "code",
   "execution_count": null,
   "metadata": {},
   "outputs": [],
   "source": []
  },
  {
   "cell_type": "code",
   "execution_count": null,
   "metadata": {},
   "outputs": [],
   "source": []
  },
  {
   "cell_type": "code",
   "execution_count": null,
   "metadata": {},
   "outputs": [],
   "source": []
  },
  {
   "cell_type": "code",
   "execution_count": null,
   "metadata": {},
   "outputs": [],
   "source": []
  },
  {
   "cell_type": "code",
   "execution_count": null,
   "metadata": {},
   "outputs": [],
   "source": []
  },
  {
   "cell_type": "code",
   "execution_count": null,
   "metadata": {},
   "outputs": [],
   "source": []
  },
  {
   "cell_type": "code",
   "execution_count": null,
   "metadata": {},
   "outputs": [],
   "source": []
  },
  {
   "cell_type": "code",
   "execution_count": null,
   "metadata": {},
   "outputs": [],
   "source": []
  },
  {
   "cell_type": "code",
   "execution_count": null,
   "metadata": {},
   "outputs": [],
   "source": []
  },
  {
   "cell_type": "code",
   "execution_count": null,
   "metadata": {},
   "outputs": [],
   "source": []
  },
  {
   "cell_type": "code",
   "execution_count": null,
   "metadata": {},
   "outputs": [],
   "source": []
  },
  {
   "cell_type": "code",
   "execution_count": null,
   "metadata": {},
   "outputs": [],
   "source": []
  },
  {
   "cell_type": "code",
   "execution_count": null,
   "metadata": {},
   "outputs": [],
   "source": []
  },
  {
   "cell_type": "code",
   "execution_count": null,
   "metadata": {},
   "outputs": [],
   "source": []
  },
  {
   "cell_type": "code",
   "execution_count": null,
   "metadata": {},
   "outputs": [],
   "source": []
  },
  {
   "cell_type": "code",
   "execution_count": null,
   "metadata": {},
   "outputs": [],
   "source": []
  },
  {
   "cell_type": "code",
   "execution_count": null,
   "metadata": {},
   "outputs": [],
   "source": []
  },
  {
   "cell_type": "code",
   "execution_count": null,
   "metadata": {},
   "outputs": [],
   "source": []
  },
  {
   "cell_type": "code",
   "execution_count": null,
   "metadata": {},
   "outputs": [],
   "source": []
  },
  {
   "cell_type": "code",
   "execution_count": null,
   "metadata": {},
   "outputs": [],
   "source": []
  },
  {
   "cell_type": "code",
   "execution_count": null,
   "metadata": {},
   "outputs": [],
   "source": []
  },
  {
   "cell_type": "code",
   "execution_count": null,
   "metadata": {},
   "outputs": [],
   "source": []
  },
  {
   "cell_type": "code",
   "execution_count": null,
   "metadata": {},
   "outputs": [],
   "source": []
  },
  {
   "cell_type": "code",
   "execution_count": null,
   "metadata": {},
   "outputs": [],
   "source": []
  },
  {
   "cell_type": "code",
   "execution_count": null,
   "metadata": {},
   "outputs": [],
   "source": []
  },
  {
   "cell_type": "code",
   "execution_count": null,
   "metadata": {},
   "outputs": [],
   "source": []
  },
  {
   "cell_type": "code",
   "execution_count": null,
   "metadata": {},
   "outputs": [],
   "source": []
  },
  {
   "cell_type": "code",
   "execution_count": null,
   "metadata": {},
   "outputs": [],
   "source": []
  },
  {
   "cell_type": "code",
   "execution_count": null,
   "metadata": {},
   "outputs": [],
   "source": []
  },
  {
   "cell_type": "code",
   "execution_count": null,
   "metadata": {},
   "outputs": [],
   "source": []
  },
  {
   "cell_type": "code",
   "execution_count": null,
   "metadata": {},
   "outputs": [],
   "source": []
  },
  {
   "cell_type": "code",
   "execution_count": null,
   "metadata": {},
   "outputs": [],
   "source": []
  },
  {
   "cell_type": "code",
   "execution_count": null,
   "metadata": {},
   "outputs": [],
   "source": []
  },
  {
   "cell_type": "code",
   "execution_count": null,
   "metadata": {},
   "outputs": [],
   "source": []
  },
  {
   "cell_type": "code",
   "execution_count": null,
   "metadata": {},
   "outputs": [],
   "source": []
  },
  {
   "cell_type": "code",
   "execution_count": null,
   "metadata": {},
   "outputs": [],
   "source": []
  },
  {
   "cell_type": "code",
   "execution_count": null,
   "metadata": {},
   "outputs": [],
   "source": []
  },
  {
   "cell_type": "code",
   "execution_count": null,
   "metadata": {},
   "outputs": [],
   "source": []
  },
  {
   "cell_type": "code",
   "execution_count": null,
   "metadata": {},
   "outputs": [],
   "source": []
  },
  {
   "cell_type": "code",
   "execution_count": null,
   "metadata": {},
   "outputs": [],
   "source": []
  },
  {
   "cell_type": "code",
   "execution_count": null,
   "metadata": {},
   "outputs": [],
   "source": []
  },
  {
   "cell_type": "code",
   "execution_count": null,
   "metadata": {},
   "outputs": [],
   "source": []
  },
  {
   "cell_type": "code",
   "execution_count": null,
   "metadata": {},
   "outputs": [],
   "source": []
  },
  {
   "cell_type": "code",
   "execution_count": null,
   "metadata": {},
   "outputs": [],
   "source": []
  },
  {
   "cell_type": "code",
   "execution_count": null,
   "metadata": {},
   "outputs": [],
   "source": []
  },
  {
   "cell_type": "code",
   "execution_count": null,
   "metadata": {},
   "outputs": [],
   "source": []
  },
  {
   "cell_type": "code",
   "execution_count": null,
   "metadata": {},
   "outputs": [],
   "source": []
  },
  {
   "cell_type": "code",
   "execution_count": null,
   "metadata": {},
   "outputs": [],
   "source": []
  },
  {
   "cell_type": "code",
   "execution_count": null,
   "metadata": {},
   "outputs": [],
   "source": []
  },
  {
   "cell_type": "code",
   "execution_count": null,
   "metadata": {},
   "outputs": [],
   "source": []
  },
  {
   "cell_type": "code",
   "execution_count": null,
   "metadata": {},
   "outputs": [],
   "source": []
  },
  {
   "cell_type": "code",
   "execution_count": null,
   "metadata": {},
   "outputs": [],
   "source": []
  },
  {
   "cell_type": "code",
   "execution_count": null,
   "metadata": {},
   "outputs": [],
   "source": []
  },
  {
   "cell_type": "code",
   "execution_count": null,
   "metadata": {},
   "outputs": [],
   "source": []
  },
  {
   "cell_type": "code",
   "execution_count": null,
   "metadata": {},
   "outputs": [],
   "source": []
  },
  {
   "cell_type": "code",
   "execution_count": null,
   "metadata": {},
   "outputs": [],
   "source": []
  },
  {
   "cell_type": "code",
   "execution_count": null,
   "metadata": {},
   "outputs": [],
   "source": []
  },
  {
   "cell_type": "code",
   "execution_count": null,
   "metadata": {},
   "outputs": [],
   "source": []
  },
  {
   "cell_type": "code",
   "execution_count": null,
   "metadata": {},
   "outputs": [],
   "source": []
  },
  {
   "cell_type": "code",
   "execution_count": null,
   "metadata": {},
   "outputs": [],
   "source": []
  },
  {
   "cell_type": "code",
   "execution_count": null,
   "metadata": {},
   "outputs": [],
   "source": []
  },
  {
   "cell_type": "code",
   "execution_count": null,
   "metadata": {},
   "outputs": [],
   "source": []
  },
  {
   "cell_type": "code",
   "execution_count": null,
   "metadata": {},
   "outputs": [],
   "source": []
  },
  {
   "cell_type": "code",
   "execution_count": null,
   "metadata": {},
   "outputs": [],
   "source": []
  },
  {
   "cell_type": "code",
   "execution_count": null,
   "metadata": {},
   "outputs": [],
   "source": []
  },
  {
   "cell_type": "code",
   "execution_count": null,
   "metadata": {},
   "outputs": [],
   "source": []
  },
  {
   "cell_type": "code",
   "execution_count": null,
   "metadata": {},
   "outputs": [],
   "source": []
  },
  {
   "cell_type": "code",
   "execution_count": null,
   "metadata": {},
   "outputs": [],
   "source": []
  },
  {
   "cell_type": "code",
   "execution_count": null,
   "metadata": {},
   "outputs": [],
   "source": []
  },
  {
   "cell_type": "code",
   "execution_count": null,
   "metadata": {},
   "outputs": [],
   "source": []
  },
  {
   "cell_type": "code",
   "execution_count": null,
   "metadata": {},
   "outputs": [],
   "source": []
  },
  {
   "cell_type": "code",
   "execution_count": null,
   "metadata": {},
   "outputs": [],
   "source": []
  },
  {
   "cell_type": "code",
   "execution_count": null,
   "metadata": {},
   "outputs": [],
   "source": []
  },
  {
   "cell_type": "code",
   "execution_count": null,
   "metadata": {},
   "outputs": [],
   "source": []
  },
  {
   "cell_type": "code",
   "execution_count": null,
   "metadata": {},
   "outputs": [],
   "source": []
  },
  {
   "cell_type": "code",
   "execution_count": null,
   "metadata": {},
   "outputs": [],
   "source": []
  },
  {
   "cell_type": "code",
   "execution_count": null,
   "metadata": {},
   "outputs": [],
   "source": []
  },
  {
   "cell_type": "code",
   "execution_count": null,
   "metadata": {},
   "outputs": [],
   "source": []
  },
  {
   "cell_type": "code",
   "execution_count": null,
   "metadata": {},
   "outputs": [],
   "source": []
  },
  {
   "cell_type": "code",
   "execution_count": null,
   "metadata": {},
   "outputs": [],
   "source": []
  },
  {
   "cell_type": "code",
   "execution_count": null,
   "metadata": {},
   "outputs": [],
   "source": []
  },
  {
   "cell_type": "code",
   "execution_count": null,
   "metadata": {},
   "outputs": [],
   "source": []
  },
  {
   "cell_type": "code",
   "execution_count": null,
   "metadata": {},
   "outputs": [],
   "source": []
  },
  {
   "cell_type": "code",
   "execution_count": null,
   "metadata": {},
   "outputs": [],
   "source": []
  },
  {
   "cell_type": "code",
   "execution_count": null,
   "metadata": {},
   "outputs": [],
   "source": []
  },
  {
   "cell_type": "code",
   "execution_count": null,
   "metadata": {},
   "outputs": [],
   "source": []
  },
  {
   "cell_type": "code",
   "execution_count": null,
   "metadata": {},
   "outputs": [],
   "source": []
  },
  {
   "cell_type": "code",
   "execution_count": null,
   "metadata": {},
   "outputs": [],
   "source": []
  },
  {
   "cell_type": "code",
   "execution_count": null,
   "metadata": {},
   "outputs": [],
   "source": []
  },
  {
   "cell_type": "code",
   "execution_count": null,
   "metadata": {},
   "outputs": [],
   "source": []
  },
  {
   "cell_type": "code",
   "execution_count": null,
   "metadata": {},
   "outputs": [],
   "source": []
  },
  {
   "cell_type": "code",
   "execution_count": null,
   "metadata": {},
   "outputs": [],
   "source": []
  },
  {
   "cell_type": "code",
   "execution_count": null,
   "metadata": {},
   "outputs": [],
   "source": []
  }
 ],
 "metadata": {
  "kernelspec": {
   "display_name": "Python 3",
   "language": "python",
   "name": "python3"
  },
  "language_info": {
   "codemirror_mode": {
    "name": "ipython",
    "version": 3
   },
   "file_extension": ".py",
   "mimetype": "text/x-python",
   "name": "python",
   "nbconvert_exporter": "python",
   "pygments_lexer": "ipython3",
   "version": "3.6.5"
  }
 },
 "nbformat": 4,
 "nbformat_minor": 2
}
